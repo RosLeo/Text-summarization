{
  "cells": [
    {
      "cell_type": "markdown",
      "metadata": {
        "id": "YGW6XLtFxre5"
      },
      "source": [
        "# Progetto NLP Text summarization"
      ]
    },
    {
      "cell_type": "markdown",
      "source": [
        "L'obiettivo di questo progetto è la creazione di un modello di NLP in grado di **sintetizzare testi lunghi**, scritti in italiano, in poche righe di testo. Per farlo è stato necessario estrarre degli articoli tecnologici della rivista **IlPost**, successivamente è stato utilizzato un modello pre-addestrato **MBART** per continuare l'addestramento sui 160 articoli da noi estratti. Successivamente sono state calcolate le misure di accuratezza, e per concludere viene mostrato l'utilizzo del modello in un caso reale."
      ],
      "metadata": {
        "id": "dLRxYZDl88BC"
      }
    },
    {
      "cell_type": "markdown",
      "metadata": {
        "id": "N-O7yts1ydlv"
      },
      "source": [
        "## **Librerie e Drive**"
      ]
    },
    {
      "cell_type": "markdown",
      "metadata": {
        "id": "PZveKYCSy8Nn"
      },
      "source": [
        "#### Installazioni librerie esterne"
      ]
    },
    {
      "cell_type": "code",
      "execution_count": null,
      "metadata": {
        "colab": {
          "base_uri": "https://localhost:8080/"
        },
        "id": "58-EK61gy44P",
        "outputId": "54245195-bd89-4fa9-cf38-42ac8394a93e"
      },
      "outputs": [
        {
          "output_type": "stream",
          "name": "stdout",
          "text": [
            "Collecting textacy\n",
            "  Downloading textacy-0.13.0-py3-none-any.whl (210 kB)\n",
            "\u001b[?25l     \u001b[90m━━━━━━━━━━━━━━━━━━━━━━━━━━━━━━━━━━━━━━━━\u001b[0m \u001b[32m0.0/210.7 kB\u001b[0m \u001b[31m?\u001b[0m eta \u001b[36m-:--:--\u001b[0m\r\u001b[2K     \u001b[91m━━━━━━━\u001b[0m\u001b[91m╸\u001b[0m\u001b[90m━━━━━━━━━━━━━━━━━━━━━━━━━━━━━━━━\u001b[0m \u001b[32m41.0/210.7 kB\u001b[0m \u001b[31m1.1 MB/s\u001b[0m eta \u001b[36m0:00:01\u001b[0m\r\u001b[2K     \u001b[90m━━━━━━━━━━━━━━━━━━━━━━━━━━━━━━━━━━━━━━━━\u001b[0m \u001b[32m210.7/210.7 kB\u001b[0m \u001b[31m2.9 MB/s\u001b[0m eta \u001b[36m0:00:00\u001b[0m\n",
            "\u001b[?25hRequirement already satisfied: cachetools>=4.0.0 in /usr/local/lib/python3.10/dist-packages (from textacy) (5.3.2)\n",
            "Requirement already satisfied: catalogue~=2.0 in /usr/local/lib/python3.10/dist-packages (from textacy) (2.0.10)\n",
            "Collecting cytoolz>=0.10.1 (from textacy)\n",
            "  Downloading cytoolz-0.12.2-cp310-cp310-manylinux_2_17_x86_64.manylinux2014_x86_64.whl (1.9 MB)\n",
            "\u001b[2K     \u001b[90m━━━━━━━━━━━━━━━━━━━━━━━━━━━━━━━━━━━━━━━━\u001b[0m \u001b[32m1.9/1.9 MB\u001b[0m \u001b[31m32.5 MB/s\u001b[0m eta \u001b[36m0:00:00\u001b[0m\n",
            "\u001b[?25hCollecting floret~=0.10.0 (from textacy)\n",
            "  Downloading floret-0.10.5-cp310-cp310-manylinux_2_17_x86_64.manylinux2014_x86_64.whl (320 kB)\n",
            "\u001b[2K     \u001b[90m━━━━━━━━━━━━━━━━━━━━━━━━━━━━━━━━━━━━━━━━\u001b[0m \u001b[32m320.4/320.4 kB\u001b[0m \u001b[31m23.2 MB/s\u001b[0m eta \u001b[36m0:00:00\u001b[0m\n",
            "\u001b[?25hCollecting jellyfish>=0.8.0 (from textacy)\n",
            "  Downloading jellyfish-1.0.3-cp310-cp310-manylinux_2_17_x86_64.manylinux2014_x86_64.whl (1.2 MB)\n",
            "\u001b[2K     \u001b[90m━━━━━━━━━━━━━━━━━━━━━━━━━━━━━━━━━━━━━━━━\u001b[0m \u001b[32m1.2/1.2 MB\u001b[0m \u001b[31m37.6 MB/s\u001b[0m eta \u001b[36m0:00:00\u001b[0m\n",
            "\u001b[?25hRequirement already satisfied: joblib>=0.13.0 in /usr/local/lib/python3.10/dist-packages (from textacy) (1.3.2)\n",
            "Requirement already satisfied: networkx>=2.7 in /usr/local/lib/python3.10/dist-packages (from textacy) (3.2.1)\n",
            "Requirement already satisfied: numpy>=1.17.0 in /usr/local/lib/python3.10/dist-packages (from textacy) (1.23.5)\n",
            "Collecting pyphen>=0.10.0 (from textacy)\n",
            "  Downloading pyphen-0.14.0-py3-none-any.whl (2.0 MB)\n",
            "\u001b[2K     \u001b[90m━━━━━━━━━━━━━━━━━━━━━━━━━━━━━━━━━━━━━━━━\u001b[0m \u001b[32m2.0/2.0 MB\u001b[0m \u001b[31m38.4 MB/s\u001b[0m eta \u001b[36m0:00:00\u001b[0m\n",
            "\u001b[?25hRequirement already satisfied: requests>=2.10.0 in /usr/local/lib/python3.10/dist-packages (from textacy) (2.31.0)\n",
            "Requirement already satisfied: scipy>=1.8.0 in /usr/local/lib/python3.10/dist-packages (from textacy) (1.11.4)\n",
            "Requirement already satisfied: scikit-learn>=1.0 in /usr/local/lib/python3.10/dist-packages (from textacy) (1.2.2)\n",
            "Requirement already satisfied: spacy~=3.0 in /usr/local/lib/python3.10/dist-packages (from textacy) (3.6.1)\n",
            "Requirement already satisfied: tqdm>=4.19.6 in /usr/local/lib/python3.10/dist-packages (from textacy) (4.66.1)\n",
            "Requirement already satisfied: toolz>=0.8.0 in /usr/local/lib/python3.10/dist-packages (from cytoolz>=0.10.1->textacy) (0.12.0)\n",
            "Requirement already satisfied: charset-normalizer<4,>=2 in /usr/local/lib/python3.10/dist-packages (from requests>=2.10.0->textacy) (3.3.2)\n",
            "Requirement already satisfied: idna<4,>=2.5 in /usr/local/lib/python3.10/dist-packages (from requests>=2.10.0->textacy) (3.6)\n",
            "Requirement already satisfied: urllib3<3,>=1.21.1 in /usr/local/lib/python3.10/dist-packages (from requests>=2.10.0->textacy) (2.0.7)\n",
            "Requirement already satisfied: certifi>=2017.4.17 in /usr/local/lib/python3.10/dist-packages (from requests>=2.10.0->textacy) (2023.11.17)\n",
            "Requirement already satisfied: threadpoolctl>=2.0.0 in /usr/local/lib/python3.10/dist-packages (from scikit-learn>=1.0->textacy) (3.2.0)\n",
            "Requirement already satisfied: spacy-legacy<3.1.0,>=3.0.11 in /usr/local/lib/python3.10/dist-packages (from spacy~=3.0->textacy) (3.0.12)\n",
            "Requirement already satisfied: spacy-loggers<2.0.0,>=1.0.0 in /usr/local/lib/python3.10/dist-packages (from spacy~=3.0->textacy) (1.0.5)\n",
            "Requirement already satisfied: murmurhash<1.1.0,>=0.28.0 in /usr/local/lib/python3.10/dist-packages (from spacy~=3.0->textacy) (1.0.10)\n",
            "Requirement already satisfied: cymem<2.1.0,>=2.0.2 in /usr/local/lib/python3.10/dist-packages (from spacy~=3.0->textacy) (2.0.8)\n",
            "Requirement already satisfied: preshed<3.1.0,>=3.0.2 in /usr/local/lib/python3.10/dist-packages (from spacy~=3.0->textacy) (3.0.9)\n",
            "Requirement already satisfied: thinc<8.2.0,>=8.1.8 in /usr/local/lib/python3.10/dist-packages (from spacy~=3.0->textacy) (8.1.12)\n",
            "Requirement already satisfied: wasabi<1.2.0,>=0.9.1 in /usr/local/lib/python3.10/dist-packages (from spacy~=3.0->textacy) (1.1.2)\n",
            "Requirement already satisfied: srsly<3.0.0,>=2.4.3 in /usr/local/lib/python3.10/dist-packages (from spacy~=3.0->textacy) (2.4.8)\n",
            "Requirement already satisfied: typer<0.10.0,>=0.3.0 in /usr/local/lib/python3.10/dist-packages (from spacy~=3.0->textacy) (0.9.0)\n",
            "Requirement already satisfied: pathy>=0.10.0 in /usr/local/lib/python3.10/dist-packages (from spacy~=3.0->textacy) (0.10.3)\n",
            "Requirement already satisfied: smart-open<7.0.0,>=5.2.1 in /usr/local/lib/python3.10/dist-packages (from spacy~=3.0->textacy) (6.4.0)\n",
            "Requirement already satisfied: pydantic!=1.8,!=1.8.1,<3.0.0,>=1.7.4 in /usr/local/lib/python3.10/dist-packages (from spacy~=3.0->textacy) (1.10.13)\n",
            "Requirement already satisfied: jinja2 in /usr/local/lib/python3.10/dist-packages (from spacy~=3.0->textacy) (3.1.2)\n",
            "Requirement already satisfied: setuptools in /usr/local/lib/python3.10/dist-packages (from spacy~=3.0->textacy) (67.7.2)\n",
            "Requirement already satisfied: packaging>=20.0 in /usr/local/lib/python3.10/dist-packages (from spacy~=3.0->textacy) (23.2)\n",
            "Requirement already satisfied: langcodes<4.0.0,>=3.2.0 in /usr/local/lib/python3.10/dist-packages (from spacy~=3.0->textacy) (3.3.0)\n",
            "Requirement already satisfied: typing-extensions>=4.2.0 in /usr/local/lib/python3.10/dist-packages (from pydantic!=1.8,!=1.8.1,<3.0.0,>=1.7.4->spacy~=3.0->textacy) (4.5.0)\n",
            "Requirement already satisfied: blis<0.8.0,>=0.7.8 in /usr/local/lib/python3.10/dist-packages (from thinc<8.2.0,>=8.1.8->spacy~=3.0->textacy) (0.7.11)\n",
            "Requirement already satisfied: confection<1.0.0,>=0.0.1 in /usr/local/lib/python3.10/dist-packages (from thinc<8.2.0,>=8.1.8->spacy~=3.0->textacy) (0.1.4)\n",
            "Requirement already satisfied: click<9.0.0,>=7.1.1 in /usr/local/lib/python3.10/dist-packages (from typer<0.10.0,>=0.3.0->spacy~=3.0->textacy) (8.1.7)\n",
            "Requirement already satisfied: MarkupSafe>=2.0 in /usr/local/lib/python3.10/dist-packages (from jinja2->spacy~=3.0->textacy) (2.1.3)\n",
            "Installing collected packages: pyphen, jellyfish, floret, cytoolz, textacy\n",
            "Successfully installed cytoolz-0.12.2 floret-0.10.5 jellyfish-1.0.3 pyphen-0.14.0 textacy-0.13.0\n"
          ]
        }
      ],
      "source": [
        "!pip install textacy"
      ]
    },
    {
      "cell_type": "code",
      "execution_count": null,
      "metadata": {
        "colab": {
          "base_uri": "https://localhost:8080/"
        },
        "id": "pr5a6dYTOozg",
        "outputId": "2ca34fea-df3c-4ca5-bd85-f5b1f0d872ec"
      },
      "outputs": [
        {
          "output_type": "stream",
          "name": "stdout",
          "text": [
            "Collecting rouge\n",
            "  Downloading rouge-1.0.1-py3-none-any.whl (13 kB)\n",
            "Requirement already satisfied: six in /usr/local/lib/python3.10/dist-packages (from rouge) (1.16.0)\n",
            "Installing collected packages: rouge\n",
            "Successfully installed rouge-1.0.1\n"
          ]
        }
      ],
      "source": [
        "!pip install rouge"
      ]
    },
    {
      "cell_type": "code",
      "execution_count": null,
      "metadata": {
        "colab": {
          "base_uri": "https://localhost:8080/"
        },
        "id": "LgaR5cIUvmZi",
        "outputId": "b4e8e9ba-4e30-4753-f049-deba5c0eeb12"
      },
      "outputs": [
        {
          "output_type": "stream",
          "name": "stdout",
          "text": [
            "Collecting SentencePiece\n",
            "  Downloading sentencepiece-0.1.99-cp310-cp310-manylinux_2_17_x86_64.manylinux2014_x86_64.whl (1.3 MB)\n",
            "\u001b[2K     \u001b[90m━━━━━━━━━━━━━━━━━━━━━━━━━━━━━━━━━━━━━━━━\u001b[0m \u001b[32m1.3/1.3 MB\u001b[0m \u001b[31m6.9 MB/s\u001b[0m eta \u001b[36m0:00:00\u001b[0m\n",
            "\u001b[?25hInstalling collected packages: SentencePiece\n",
            "Successfully installed SentencePiece-0.1.99\n"
          ]
        }
      ],
      "source": [
        "!pip install SentencePiece"
      ]
    },
    {
      "cell_type": "markdown",
      "metadata": {
        "id": "AAbJayKfzBqp"
      },
      "source": [
        "### Librerie"
      ]
    },
    {
      "cell_type": "code",
      "execution_count": null,
      "metadata": {
        "colab": {
          "base_uri": "https://localhost:8080/"
        },
        "id": "lGKWC2Zfx4KF",
        "outputId": "7a9cac7e-86d5-4112-b8f7-f474049042b5"
      },
      "outputs": [
        {
          "output_type": "stream",
          "name": "stderr",
          "text": [
            "<ipython-input-4-6325e601582a>:10: DeprecationWarning: `set_matplotlib_formats` is deprecated since IPython 7.23, directly use `matplotlib_inline.backend_inline.set_matplotlib_formats()`\n",
            "  set_matplotlib_formats('svg', 'pdf')\n"
          ]
        }
      ],
      "source": [
        "import requests\n",
        "from bs4 import BeautifulSoup\n",
        "import pandas as pd\n",
        "import time\n",
        "import numpy as np\n",
        "import re\n",
        "import matplotlib.pyplot as plt\n",
        "%matplotlib inline\n",
        "from IPython.display import set_matplotlib_formats\n",
        "set_matplotlib_formats('svg', 'pdf')\n",
        "from matplotlib.colors import to_rgba\n",
        "from textacy import preprocessing\n",
        "from torch.utils.data import DataLoader, TensorDataset\n",
        "from transformers import AdamW\n",
        "import torch\n",
        "import torch.nn as nn\n",
        "from tqdm import tqdm\n",
        "from torch.utils.data import Dataset\n",
        "from rouge import Rouge\n",
        "from nltk.translate.bleu_score import sentence_bleu, corpus_bleu\n",
        "import nltk\n",
        "from nltk.translate.bleu_score import SmoothingFunction"
      ]
    },
    {
      "cell_type": "markdown",
      "metadata": {
        "id": "hfv_k2XAyqk3"
      },
      "source": [
        "### Drive"
      ]
    },
    {
      "cell_type": "code",
      "execution_count": null,
      "metadata": {
        "colab": {
          "base_uri": "https://localhost:8080/"
        },
        "id": "zgBiTrcYyscn",
        "outputId": "bd8f4b16-6f7b-455c-8c89-9cd9bd9b728f"
      },
      "outputs": [
        {
          "output_type": "stream",
          "name": "stdout",
          "text": [
            "Mounted at /content/drive\n"
          ]
        }
      ],
      "source": [
        "from google.colab import drive\n",
        "drive.mount('/content/drive')"
      ]
    },
    {
      "cell_type": "markdown",
      "metadata": {
        "id": "3OlnBjXzx3sf"
      },
      "source": [
        "## **Creazione dataset**"
      ]
    },
    {
      "cell_type": "markdown",
      "source": [
        "#### Scraping pagine web"
      ],
      "metadata": {
        "id": "W7Pfb_Y1ly7U"
      }
    },
    {
      "cell_type": "markdown",
      "source": [
        "Il sito web IlPost è composto da varie sezioni, l'estrazione dei dati per la creazione del dataset avviene nell'ambito tecnologia. In ogni pagina della sezione Tecnologia sono presenti 20 articoli, lo scopo è estrarre il titolo principale, il titolo secondario e i paragrafi di ogni articolo. Il dataset è composto da due colonne, source e target, corrispettivamente saranno il testo lungo formato dall'unione di tutti i paragrafi di un articolo, e l'unione di titolo primario e secondario."
      ],
      "metadata": {
        "id": "UC5fYxOKl1ob"
      }
    },
    {
      "cell_type": "code",
      "execution_count": null,
      "metadata": {
        "id": "3mnVqqvF9emW"
      },
      "outputs": [],
      "source": [
        "def coppie(url):\n",
        "  time.sleep(1)\n",
        "  r = requests.get(url)\n",
        "  soup = BeautifulSoup(r.text, \"html5lib\")\n",
        "  articles = soup.find_all(\"article\", class_=\"_taxonomy-item_q6jgq_1 _opener_q6jgq_14\")\n",
        "  # list of summaries\n",
        "  summary = []\n",
        "  for i in range(len(articles)):\n",
        "    try:\n",
        "      testo1 = articles[i].select_one(\"a\").get_text().strip()\n",
        "    except:\n",
        "      testo1 = \"\"\n",
        "    try:\n",
        "      testo2 = articles[i].select_one(\"p\").get_text().strip()\n",
        "    except:\n",
        "      testo2 = \"\"\n",
        "\n",
        "    if testo1[-1] == \"?\":\n",
        "      if testo2 == \"\": riassunto = testo1\n",
        "      elif testo2[-1] == \".\": riassunto = testo1 + \" \" + testo2\n",
        "      else: riassunto = testo1 + \" \" + testo2[0].lower() + testo2[1:] + \".\"\n",
        "    elif testo1[-1] == \",\":\n",
        "      if testo2 == \"\": riassunto = testo1[:-1] + \".\"\n",
        "      elif testo2[-1] == \".\": riassunto = testo1 + \" \" + testo2[0].lower() + testo2[1:]\n",
        "      else: riassunto = testo1 + \" \" + testo2[0].lower() + testo2[1:] + \".\"\n",
        "    elif testo1[-1] != \",\":\n",
        "      if testo2 == \"\": riassunto = testo1 + \".\"\n",
        "      elif testo2[-1] == \".\": riassunto = testo1 + \". \" + testo2\n",
        "      else: riassunto = testo1 + \". \" + testo2 + \".\"\n",
        "\n",
        "    summary.append((riassunto))\n",
        "\n",
        "  # articles urls\n",
        "  pagelinks = []\n",
        "  print(\"lunghezza articoli: \", len(articles))\n",
        "\n",
        "  for i in range(len(articles)):\n",
        "    url = articles[i].find_all('a')[0]\n",
        "    pagelinks.append(url.get('href'))\n",
        "\n",
        "  thearticle = []\n",
        "  paragraph_test = []\n",
        "  print(\"lunghezza pagelinks: \", len(pagelinks))\n",
        "  for link in pagelinks:\n",
        "    paragraphtext = []\n",
        "    url = link\n",
        "    page = requests.get(url)\n",
        "    time.sleep(0.2)\n",
        "    soup = BeautifulSoup(page.text, 'html.parser')\n",
        "\n",
        "\n",
        "    testo_articolo = soup.find_all(\"p\")\n",
        "    for paragraph in testo_articolo[:-1]:\n",
        "        text = paragraph.get_text()\n",
        "        paragraphtext.append(text)\n",
        "\n",
        "    testo_fin = ' '.join(paragraphtext)\n",
        "    thearticle.append(testo_fin)\n",
        "  d = {'source': thearticle, 'target': summary}\n",
        "  return d\n"
      ]
    },
    {
      "cell_type": "code",
      "execution_count": null,
      "metadata": {
        "id": "Kq7HR2EIMV09"
      },
      "outputs": [],
      "source": [
        "df_train = pd.DataFrame(columns=[\"source\", \"target\"])\n",
        "df_test = pd.DataFrame(columns=[\"source\", \"target\"])\n",
        "i = 0\n",
        "j = 0\n",
        "conto = 0\n",
        "argomenti = \"tecnologia\"\n",
        "numero_articoli = 160\n",
        "numero_articoli_per_pagina = 20\n",
        "numero_test = 3                 # ogni unità equivale a 20 articoli, però partendo da 2 in su.\n",
        "\n",
        "for j in range(1, int(numero_articoli/numero_articoli_per_pagina)+1):\n",
        "  if j == 1:\n",
        "    ret = coppie(\"https://www.ilpost.it/\" + argomenti+\"/\")\n",
        "    conto += 20\n",
        "    print(\"\\nPagina: \" + \"https://www.ilpost.it/\" + argomenti+\"/\"\n",
        "    + \"\\nArticoli Scaricati: \" + str(conto))\n",
        "    df_train = pd.concat([df_train, pd.DataFrame(ret)])\n",
        "\n",
        "  else:\n",
        "    ret = coppie(\"https://www.ilpost.it/\" + argomenti + \"/page/\" + str(j) +\"/\")\n",
        "    conto += 20\n",
        "    print(\"\\nPagina: \" + \"https://www.ilpost.it/\" + argomenti + \"/page/\" + str(j) +\"/\"\n",
        "    + \"\\nArticoli Scaricati: \" + str(conto))\n",
        "    df_train = pd.concat([df_train, pd.DataFrame(ret)])\n",
        "\n",
        "for j in range(int(numero_articoli/numero_articoli_per_pagina)+1, int(numero_articoli/numero_articoli_per_pagina)+numero_test):\n",
        "    ret = coppie(\"https://www.ilpost.it/\" + argomenti + \"/page/\" + str(j) +\"/\")\n",
        "    print(\"\\nPagina: \" + \"https://www.ilpost.it/\" + argomenti + \"/page/\" + str(j) +\"/\")\n",
        "    df_test = pd.concat([df_test, pd.DataFrame(ret)])"
      ]
    },
    {
      "cell_type": "markdown",
      "source": [
        "#### Cleaning"
      ],
      "metadata": {
        "id": "53gaUa7ZojvZ"
      }
    },
    {
      "cell_type": "markdown",
      "source": [
        "All'interno della funzione coppie avviene già una correzione quando titolo principale e secondario vengono uniti, per far si che il titolo principale termina con un punto e dopo lo spazio inizi il secondario. Questo cunck ha lo scopo di eliminare eventuali articoli che non sono stati catturati dallo scraping e quindi vengono segnati come vuoti."
      ],
      "metadata": {
        "id": "6rnus4fdolDg"
      }
    },
    {
      "cell_type": "code",
      "execution_count": null,
      "metadata": {
        "colab": {
          "base_uri": "https://localhost:8080/"
        },
        "id": "8Hdvf1HPzenJ",
        "outputId": "c457fdcf-ee05-45ff-fc72-2cd4729763a4"
      },
      "outputs": [
        {
          "output_type": "stream",
          "name": "stdout",
          "text": [
            "160 160\n",
            "40 40\n"
          ]
        }
      ],
      "source": [
        "# some cleaning, remove empty rows\n",
        "df_train['source'].replace(\"\", np.nan, inplace=True)\n",
        "df_train['target'].replace(\"\", np.nan, inplace=True)\n",
        "df_train.dropna(subset=['source'], inplace=True)\n",
        "df_train.dropna(subset=['target'], inplace=True)\n",
        "df_train = df_train.reset_index(drop=True)\n",
        "\n",
        "print(df_train.source.size, df_train.target.size)\n",
        "\n",
        "# some cleaning, remove empty rows\n",
        "df_test['source'].replace(\"\", np.nan, inplace=True)\n",
        "df_test['target'].replace(\"\", np.nan, inplace=True)\n",
        "df_test.dropna(subset=['source'], inplace=True)\n",
        "df_test.dropna(subset=['target'], inplace=True)\n",
        "df_test = df_test.reset_index(drop=True)\n",
        "\n",
        "print(df_test.source.size, df_test.target.size)"
      ]
    },
    {
      "cell_type": "code",
      "execution_count": null,
      "metadata": {
        "id": "DlA1j43bMBtu"
      },
      "outputs": [],
      "source": [
        "df_train.to_csv(\"/content/drive/MyDrive/Prog_NLP/train.csv\", sep=',', index=False)\n",
        "df_test.to_csv(\"/content/drive/MyDrive/Prog_NLP/test.csv\", sep=',', index=False)"
      ]
    },
    {
      "cell_type": "markdown",
      "metadata": {
        "id": "s4zKwXZ80jl_"
      },
      "source": [
        "#### Plot lunghezze riassunti"
      ]
    },
    {
      "cell_type": "markdown",
      "source": [
        "Visualizziamo attraverso un istogramma quante parole ci sono nelle sintesi composte dall'unione del titolo primario e secondario. Noteremo due curve dovute dal fatto che non tutti gli articoli dispongono del titolo secondario e dunque vi sarà una netta separazione tra la lunghezza di articoli con solo il titolo principale e quelli con titolo principale e secondario."
      ],
      "metadata": {
        "id": "uBPhg8lInJPu"
      }
    },
    {
      "cell_type": "code",
      "execution_count": null,
      "metadata": {
        "id": "ub-KEnG2zzgv"
      },
      "outputs": [],
      "source": [
        "word_bound = re.compile(r'\\b')\n",
        "\n",
        "def num_words(line):\n",
        "    return len(word_bound.findall(line)) >> 1"
      ]
    },
    {
      "cell_type": "code",
      "execution_count": null,
      "metadata": {
        "colab": {
          "base_uri": "https://localhost:8080/",
          "height": 482
        },
        "id": "qFs_UWri0nZJ",
        "outputId": "c8c945ab-bc1c-42a9-9545-5f7534df698f"
      },
      "outputs": [
        {
          "output_type": "display_data",
          "data": {
            "text/plain": [
              "<Figure size 640x480 with 1 Axes>"
            ],
            "image/svg+xml": "<?xml version=\"1.0\" encoding=\"utf-8\" standalone=\"no\"?>\n<!DOCTYPE svg PUBLIC \"-//W3C//DTD SVG 1.1//EN\"\n  \"http://www.w3.org/Graphics/SVG/1.1/DTD/svg11.dtd\">\n<svg xmlns:xlink=\"http://www.w3.org/1999/xlink\" width=\"404.923125pt\" height=\"345.42825pt\" viewBox=\"0 0 404.923125 345.42825\" xmlns=\"http://www.w3.org/2000/svg\" version=\"1.1\">\n <metadata>\n  <rdf:RDF xmlns:dc=\"http://purl.org/dc/elements/1.1/\" xmlns:cc=\"http://creativecommons.org/ns#\" xmlns:rdf=\"http://www.w3.org/1999/02/22-rdf-syntax-ns#\">\n   <cc:Work>\n    <dc:type rdf:resource=\"http://purl.org/dc/dcmitype/StillImage\"/>\n    <dc:date>2024-01-02T11:55:34.003473</dc:date>\n    <dc:format>image/svg+xml</dc:format>\n    <dc:creator>\n     <cc:Agent>\n      <dc:title>Matplotlib v3.7.1, https://matplotlib.org/</dc:title>\n     </cc:Agent>\n    </dc:creator>\n   </cc:Work>\n  </rdf:RDF>\n </metadata>\n <defs>\n  <style type=\"text/css\">*{stroke-linejoin: round; stroke-linecap: butt}</style>\n </defs>\n <g id=\"figure_1\">\n  <g id=\"patch_1\">\n   <path d=\"M 0 345.42825 \nL 404.923125 345.42825 \nL 404.923125 -0 \nL 0 -0 \nz\n\" style=\"fill: #ffffff\"/>\n  </g>\n  <g id=\"axes_1\">\n   <g id=\"patch_2\">\n    <path d=\"M 40.603125 307.872 \nL 397.723125 307.872 \nL 397.723125 52.128 \nL 40.603125 52.128 \nz\n\" style=\"fill: #ffffff\"/>\n   </g>\n   <g id=\"patch_3\">\n    <path d=\"M 56.835852 307.872 \nL 60.945403 307.872 \nL 60.945403 307.872 \nL 56.835852 307.872 \nz\n\" clip-path=\"url(#pb015d434d6)\" style=\"fill: #00bfbf\"/>\n   </g>\n   <g id=\"patch_4\">\n    <path d=\"M 60.945403 307.872 \nL 65.054955 307.872 \nL 65.054955 307.872 \nL 60.945403 307.872 \nz\n\" clip-path=\"url(#pb015d434d6)\" style=\"fill: #00bfbf\"/>\n   </g>\n   <g id=\"patch_5\">\n    <path d=\"M 65.054955 307.872 \nL 69.164506 307.872 \nL 69.164506 307.872 \nL 65.054955 307.872 \nz\n\" clip-path=\"url(#pb015d434d6)\" style=\"fill: #00bfbf\"/>\n   </g>\n   <g id=\"patch_6\">\n    <path d=\"M 69.164506 307.872 \nL 73.274057 307.872 \nL 73.274057 307.872 \nL 69.164506 307.872 \nz\n\" clip-path=\"url(#pb015d434d6)\" style=\"fill: #00bfbf\"/>\n   </g>\n   <g id=\"patch_7\">\n    <path d=\"M 73.274057 307.872 \nL 77.383608 307.872 \nL 77.383608 307.872 \nL 73.274057 307.872 \nz\n\" clip-path=\"url(#pb015d434d6)\" style=\"fill: #00bfbf\"/>\n   </g>\n   <g id=\"patch_8\">\n    <path d=\"M 77.383608 307.872 \nL 81.49316 307.872 \nL 81.49316 307.872 \nL 77.383608 307.872 \nz\n\" clip-path=\"url(#pb015d434d6)\" style=\"fill: #00bfbf\"/>\n   </g>\n   <g id=\"patch_9\">\n    <path d=\"M 81.49316 307.872 \nL 85.602711 307.872 \nL 85.602711 307.872 \nL 81.49316 307.872 \nz\n\" clip-path=\"url(#pb015d434d6)\" style=\"fill: #00bfbf\"/>\n   </g>\n   <g id=\"patch_10\">\n    <path d=\"M 85.602711 307.872 \nL 89.712262 307.872 \nL 89.712262 289.136176 \nL 85.602711 289.136176 \nz\n\" clip-path=\"url(#pb015d434d6)\" style=\"fill: #00bfbf\"/>\n   </g>\n   <g id=\"patch_11\">\n    <path d=\"M 89.712262 307.872 \nL 93.821813 307.872 \nL 93.821813 289.136176 \nL 89.712262 289.136176 \nz\n\" clip-path=\"url(#pb015d434d6)\" style=\"fill: #00bfbf\"/>\n   </g>\n   <g id=\"patch_12\">\n    <path d=\"M 93.821813 307.872 \nL 97.931364 307.872 \nL 97.931364 270.400352 \nL 93.821813 270.400352 \nz\n\" clip-path=\"url(#pb015d434d6)\" style=\"fill: #00bfbf\"/>\n   </g>\n   <g id=\"patch_13\">\n    <path d=\"M 97.931364 307.872 \nL 102.040916 307.872 \nL 102.040916 307.872 \nL 97.931364 307.872 \nz\n\" clip-path=\"url(#pb015d434d6)\" style=\"fill: #00bfbf\"/>\n   </g>\n   <g id=\"patch_14\">\n    <path d=\"M 102.040916 307.872 \nL 106.150467 307.872 \nL 106.150467 289.136176 \nL 102.040916 289.136176 \nz\n\" clip-path=\"url(#pb015d434d6)\" style=\"fill: #00bfbf\"/>\n   </g>\n   <g id=\"patch_15\">\n    <path d=\"M 106.150467 307.872 \nL 110.260018 307.872 \nL 110.260018 307.872 \nL 106.150467 307.872 \nz\n\" clip-path=\"url(#pb015d434d6)\" style=\"fill: #00bfbf\"/>\n   </g>\n   <g id=\"patch_16\">\n    <path d=\"M 110.260018 307.872 \nL 114.369569 307.872 \nL 114.369569 289.136176 \nL 110.260018 289.136176 \nz\n\" clip-path=\"url(#pb015d434d6)\" style=\"fill: #00bfbf\"/>\n   </g>\n   <g id=\"patch_17\">\n    <path d=\"M 114.369569 307.872 \nL 118.47912 307.872 \nL 118.47912 270.400352 \nL 114.369569 270.400352 \nz\n\" clip-path=\"url(#pb015d434d6)\" style=\"fill: #00bfbf\"/>\n   </g>\n   <g id=\"patch_18\">\n    <path d=\"M 118.47912 307.872 \nL 122.588672 307.872 \nL 122.588672 232.928703 \nL 118.47912 232.928703 \nz\n\" clip-path=\"url(#pb015d434d6)\" style=\"fill: #00bfbf\"/>\n   </g>\n   <g id=\"patch_19\">\n    <path d=\"M 122.588672 307.872 \nL 126.698223 307.872 \nL 126.698223 251.664527 \nL 122.588672 251.664527 \nz\n\" clip-path=\"url(#pb015d434d6)\" style=\"fill: #00bfbf\"/>\n   </g>\n   <g id=\"patch_20\">\n    <path d=\"M 126.698223 307.872 \nL 130.807774 307.872 \nL 130.807774 214.192879 \nL 126.698223 214.192879 \nz\n\" clip-path=\"url(#pb015d434d6)\" style=\"fill: #00bfbf\"/>\n   </g>\n   <g id=\"patch_21\">\n    <path d=\"M 130.807774 307.872 \nL 134.917325 307.872 \nL 134.917325 157.985407 \nL 130.807774 157.985407 \nz\n\" clip-path=\"url(#pb015d434d6)\" style=\"fill: #00bfbf\"/>\n   </g>\n   <g id=\"patch_22\">\n    <path d=\"M 134.917325 307.872 \nL 139.026876 307.872 \nL 139.026876 270.400352 \nL 134.917325 270.400352 \nz\n\" clip-path=\"url(#pb015d434d6)\" style=\"fill: #00bfbf\"/>\n   </g>\n   <g id=\"patch_23\">\n    <path d=\"M 139.026876 307.872 \nL 143.136428 307.872 \nL 143.136428 251.664527 \nL 139.026876 251.664527 \nz\n\" clip-path=\"url(#pb015d434d6)\" style=\"fill: #00bfbf\"/>\n   </g>\n   <g id=\"patch_24\">\n    <path d=\"M 143.136428 307.872 \nL 147.245979 307.872 \nL 147.245979 289.136176 \nL 143.136428 289.136176 \nz\n\" clip-path=\"url(#pb015d434d6)\" style=\"fill: #00bfbf\"/>\n   </g>\n   <g id=\"patch_25\">\n    <path d=\"M 147.245979 307.872 \nL 151.35553 307.872 \nL 151.35553 289.136176 \nL 147.245979 289.136176 \nz\n\" clip-path=\"url(#pb015d434d6)\" style=\"fill: #00bfbf\"/>\n   </g>\n   <g id=\"patch_26\">\n    <path d=\"M 151.35553 307.872 \nL 155.465081 307.872 \nL 155.465081 289.136176 \nL 151.35553 289.136176 \nz\n\" clip-path=\"url(#pb015d434d6)\" style=\"fill: #00bfbf\"/>\n   </g>\n   <g id=\"patch_27\">\n    <path d=\"M 155.465081 307.872 \nL 159.574632 307.872 \nL 159.574632 289.136176 \nL 155.465081 289.136176 \nz\n\" clip-path=\"url(#pb015d434d6)\" style=\"fill: #00bfbf\"/>\n   </g>\n   <g id=\"patch_28\">\n    <path d=\"M 159.574632 307.872 \nL 163.684184 307.872 \nL 163.684184 289.136176 \nL 159.574632 289.136176 \nz\n\" clip-path=\"url(#pb015d434d6)\" style=\"fill: #00bfbf\"/>\n   </g>\n   <g id=\"patch_29\">\n    <path d=\"M 163.684184 307.872 \nL 167.793735 307.872 \nL 167.793735 307.872 \nL 163.684184 307.872 \nz\n\" clip-path=\"url(#pb015d434d6)\" style=\"fill: #00bfbf\"/>\n   </g>\n   <g id=\"patch_30\">\n    <path d=\"M 167.793735 307.872 \nL 171.903286 307.872 \nL 171.903286 307.872 \nL 167.793735 307.872 \nz\n\" clip-path=\"url(#pb015d434d6)\" style=\"fill: #00bfbf\"/>\n   </g>\n   <g id=\"patch_31\">\n    <path d=\"M 171.903286 307.872 \nL 176.012837 307.872 \nL 176.012837 307.872 \nL 171.903286 307.872 \nz\n\" clip-path=\"url(#pb015d434d6)\" style=\"fill: #00bfbf\"/>\n   </g>\n   <g id=\"patch_32\">\n    <path d=\"M 176.012837 307.872 \nL 180.122389 307.872 \nL 180.122389 307.872 \nL 176.012837 307.872 \nz\n\" clip-path=\"url(#pb015d434d6)\" style=\"fill: #00bfbf\"/>\n   </g>\n   <g id=\"patch_33\">\n    <path d=\"M 180.122389 307.872 \nL 184.23194 307.872 \nL 184.23194 307.872 \nL 180.122389 307.872 \nz\n\" clip-path=\"url(#pb015d434d6)\" style=\"fill: #00bfbf\"/>\n   </g>\n   <g id=\"patch_34\">\n    <path d=\"M 184.23194 307.872 \nL 188.341491 307.872 \nL 188.341491 289.136176 \nL 184.23194 289.136176 \nz\n\" clip-path=\"url(#pb015d434d6)\" style=\"fill: #00bfbf\"/>\n   </g>\n   <g id=\"patch_35\">\n    <path d=\"M 188.341491 307.872 \nL 192.451042 307.872 \nL 192.451042 307.872 \nL 188.341491 307.872 \nz\n\" clip-path=\"url(#pb015d434d6)\" style=\"fill: #00bfbf\"/>\n   </g>\n   <g id=\"patch_36\">\n    <path d=\"M 192.451042 307.872 \nL 196.560593 307.872 \nL 196.560593 289.136176 \nL 192.451042 289.136176 \nz\n\" clip-path=\"url(#pb015d434d6)\" style=\"fill: #00bfbf\"/>\n   </g>\n   <g id=\"patch_37\">\n    <path d=\"M 196.560593 307.872 \nL 200.670145 307.872 \nL 200.670145 307.872 \nL 196.560593 307.872 \nz\n\" clip-path=\"url(#pb015d434d6)\" style=\"fill: #00bfbf\"/>\n   </g>\n   <g id=\"patch_38\">\n    <path d=\"M 200.670145 307.872 \nL 204.779696 307.872 \nL 204.779696 307.872 \nL 200.670145 307.872 \nz\n\" clip-path=\"url(#pb015d434d6)\" style=\"fill: #00bfbf\"/>\n   </g>\n   <g id=\"patch_39\">\n    <path d=\"M 204.779696 307.872 \nL 208.889247 307.872 \nL 208.889247 307.872 \nL 204.779696 307.872 \nz\n\" clip-path=\"url(#pb015d434d6)\" style=\"fill: #00bfbf\"/>\n   </g>\n   <g id=\"patch_40\">\n    <path d=\"M 208.889247 307.872 \nL 212.998798 307.872 \nL 212.998798 270.400352 \nL 208.889247 270.400352 \nz\n\" clip-path=\"url(#pb015d434d6)\" style=\"fill: #00bfbf\"/>\n   </g>\n   <g id=\"patch_41\">\n    <path d=\"M 212.998798 307.872 \nL 217.108349 307.872 \nL 217.108349 289.136176 \nL 212.998798 289.136176 \nz\n\" clip-path=\"url(#pb015d434d6)\" style=\"fill: #00bfbf\"/>\n   </g>\n   <g id=\"patch_42\">\n    <path d=\"M 217.108349 307.872 \nL 221.217901 307.872 \nL 221.217901 270.400352 \nL 217.108349 270.400352 \nz\n\" clip-path=\"url(#pb015d434d6)\" style=\"fill: #00bfbf\"/>\n   </g>\n   <g id=\"patch_43\">\n    <path d=\"M 221.217901 307.872 \nL 225.327452 307.872 \nL 225.327452 270.400352 \nL 221.217901 270.400352 \nz\n\" clip-path=\"url(#pb015d434d6)\" style=\"fill: #00bfbf\"/>\n   </g>\n   <g id=\"patch_44\">\n    <path d=\"M 225.327452 307.872 \nL 229.437003 307.872 \nL 229.437003 195.457055 \nL 225.327452 195.457055 \nz\n\" clip-path=\"url(#pb015d434d6)\" style=\"fill: #00bfbf\"/>\n   </g>\n   <g id=\"patch_45\">\n    <path d=\"M 229.437003 307.872 \nL 233.546554 307.872 \nL 233.546554 251.664527 \nL 229.437003 251.664527 \nz\n\" clip-path=\"url(#pb015d434d6)\" style=\"fill: #00bfbf\"/>\n   </g>\n   <g id=\"patch_46\">\n    <path d=\"M 233.546554 307.872 \nL 237.656105 307.872 \nL 237.656105 214.192879 \nL 233.546554 214.192879 \nz\n\" clip-path=\"url(#pb015d434d6)\" style=\"fill: #00bfbf\"/>\n   </g>\n   <g id=\"patch_47\">\n    <path d=\"M 237.656105 307.872 \nL 241.765657 307.872 \nL 241.765657 157.985407 \nL 237.656105 157.985407 \nz\n\" clip-path=\"url(#pb015d434d6)\" style=\"fill: #00bfbf\"/>\n   </g>\n   <g id=\"patch_48\">\n    <path d=\"M 241.765657 307.872 \nL 245.875208 307.872 \nL 245.875208 176.721231 \nL 241.765657 176.721231 \nz\n\" clip-path=\"url(#pb015d434d6)\" style=\"fill: #00bfbf\"/>\n   </g>\n   <g id=\"patch_49\">\n    <path d=\"M 245.875208 307.872 \nL 249.984759 307.872 \nL 249.984759 251.664527 \nL 245.875208 251.664527 \nz\n\" clip-path=\"url(#pb015d434d6)\" style=\"fill: #00bfbf\"/>\n   </g>\n   <g id=\"patch_50\">\n    <path d=\"M 249.984759 307.872 \nL 254.09431 307.872 \nL 254.09431 214.192879 \nL 249.984759 214.192879 \nz\n\" clip-path=\"url(#pb015d434d6)\" style=\"fill: #00bfbf\"/>\n   </g>\n   <g id=\"patch_51\">\n    <path d=\"M 254.09431 307.872 \nL 258.203861 307.872 \nL 258.203861 195.457055 \nL 254.09431 195.457055 \nz\n\" clip-path=\"url(#pb015d434d6)\" style=\"fill: #00bfbf\"/>\n   </g>\n   <g id=\"patch_52\">\n    <path d=\"M 258.203861 307.872 \nL 262.313413 307.872 \nL 262.313413 195.457055 \nL 258.203861 195.457055 \nz\n\" clip-path=\"url(#pb015d434d6)\" style=\"fill: #00bfbf\"/>\n   </g>\n   <g id=\"patch_53\">\n    <path d=\"M 262.313413 307.872 \nL 266.422964 307.872 \nL 266.422964 195.457055 \nL 262.313413 195.457055 \nz\n\" clip-path=\"url(#pb015d434d6)\" style=\"fill: #00bfbf\"/>\n   </g>\n   <g id=\"patch_54\">\n    <path d=\"M 266.422964 307.872 \nL 270.532515 307.872 \nL 270.532515 232.928703 \nL 266.422964 232.928703 \nz\n\" clip-path=\"url(#pb015d434d6)\" style=\"fill: #00bfbf\"/>\n   </g>\n   <g id=\"patch_55\">\n    <path d=\"M 270.532515 307.872 \nL 274.642066 307.872 \nL 274.642066 64.306286 \nL 270.532515 64.306286 \nz\n\" clip-path=\"url(#pb015d434d6)\" style=\"fill: #00bfbf\"/>\n   </g>\n   <g id=\"patch_56\">\n    <path d=\"M 274.642066 307.872 \nL 278.751618 307.872 \nL 278.751618 195.457055 \nL 274.642066 195.457055 \nz\n\" clip-path=\"url(#pb015d434d6)\" style=\"fill: #00bfbf\"/>\n   </g>\n   <g id=\"patch_57\">\n    <path d=\"M 278.751618 307.872 \nL 282.861169 307.872 \nL 282.861169 232.928703 \nL 278.751618 232.928703 \nz\n\" clip-path=\"url(#pb015d434d6)\" style=\"fill: #00bfbf\"/>\n   </g>\n   <g id=\"patch_58\">\n    <path d=\"M 282.861169 307.872 \nL 286.97072 307.872 \nL 286.97072 214.192879 \nL 282.861169 214.192879 \nz\n\" clip-path=\"url(#pb015d434d6)\" style=\"fill: #00bfbf\"/>\n   </g>\n   <g id=\"patch_59\">\n    <path d=\"M 286.97072 307.872 \nL 291.080271 307.872 \nL 291.080271 214.192879 \nL 286.97072 214.192879 \nz\n\" clip-path=\"url(#pb015d434d6)\" style=\"fill: #00bfbf\"/>\n   </g>\n   <g id=\"patch_60\">\n    <path d=\"M 291.080271 307.872 \nL 295.189822 307.872 \nL 295.189822 251.664527 \nL 291.080271 251.664527 \nz\n\" clip-path=\"url(#pb015d434d6)\" style=\"fill: #00bfbf\"/>\n   </g>\n   <g id=\"patch_61\">\n    <path d=\"M 295.189822 307.872 \nL 299.299374 307.872 \nL 299.299374 251.664527 \nL 295.189822 251.664527 \nz\n\" clip-path=\"url(#pb015d434d6)\" style=\"fill: #00bfbf\"/>\n   </g>\n   <g id=\"patch_62\">\n    <path d=\"M 299.299374 307.872 \nL 303.408925 307.872 \nL 303.408925 232.928703 \nL 299.299374 232.928703 \nz\n\" clip-path=\"url(#pb015d434d6)\" style=\"fill: #00bfbf\"/>\n   </g>\n   <g id=\"patch_63\">\n    <path d=\"M 303.408925 307.872 \nL 307.518476 307.872 \nL 307.518476 270.400352 \nL 303.408925 270.400352 \nz\n\" clip-path=\"url(#pb015d434d6)\" style=\"fill: #00bfbf\"/>\n   </g>\n   <g id=\"patch_64\">\n    <path d=\"M 307.518476 307.872 \nL 311.628027 307.872 \nL 311.628027 270.400352 \nL 307.518476 270.400352 \nz\n\" clip-path=\"url(#pb015d434d6)\" style=\"fill: #00bfbf\"/>\n   </g>\n   <g id=\"patch_65\">\n    <path d=\"M 311.628027 307.872 \nL 315.737578 307.872 \nL 315.737578 270.400352 \nL 311.628027 270.400352 \nz\n\" clip-path=\"url(#pb015d434d6)\" style=\"fill: #00bfbf\"/>\n   </g>\n   <g id=\"patch_66\">\n    <path d=\"M 315.737578 307.872 \nL 319.84713 307.872 \nL 319.84713 307.872 \nL 315.737578 307.872 \nz\n\" clip-path=\"url(#pb015d434d6)\" style=\"fill: #00bfbf\"/>\n   </g>\n   <g id=\"patch_67\">\n    <path d=\"M 319.84713 307.872 \nL 323.956681 307.872 \nL 323.956681 307.872 \nL 319.84713 307.872 \nz\n\" clip-path=\"url(#pb015d434d6)\" style=\"fill: #00bfbf\"/>\n   </g>\n   <g id=\"patch_68\">\n    <path d=\"M 323.956681 307.872 \nL 328.066232 307.872 \nL 328.066232 289.136176 \nL 323.956681 289.136176 \nz\n\" clip-path=\"url(#pb015d434d6)\" style=\"fill: #00bfbf\"/>\n   </g>\n   <g id=\"patch_69\">\n    <path d=\"M 328.066232 307.872 \nL 332.175783 307.872 \nL 332.175783 307.872 \nL 328.066232 307.872 \nz\n\" clip-path=\"url(#pb015d434d6)\" style=\"fill: #00bfbf\"/>\n   </g>\n   <g id=\"patch_70\">\n    <path d=\"M 332.175783 307.872 \nL 336.285334 307.872 \nL 336.285334 270.400352 \nL 332.175783 270.400352 \nz\n\" clip-path=\"url(#pb015d434d6)\" style=\"fill: #00bfbf\"/>\n   </g>\n   <g id=\"patch_71\">\n    <path d=\"M 336.285334 307.872 \nL 340.394886 307.872 \nL 340.394886 289.136176 \nL 336.285334 289.136176 \nz\n\" clip-path=\"url(#pb015d434d6)\" style=\"fill: #00bfbf\"/>\n   </g>\n   <g id=\"patch_72\">\n    <path d=\"M 340.394886 307.872 \nL 344.504437 307.872 \nL 344.504437 289.136176 \nL 340.394886 289.136176 \nz\n\" clip-path=\"url(#pb015d434d6)\" style=\"fill: #00bfbf\"/>\n   </g>\n   <g id=\"patch_73\">\n    <path d=\"M 344.504437 307.872 \nL 348.613988 307.872 \nL 348.613988 307.872 \nL 344.504437 307.872 \nz\n\" clip-path=\"url(#pb015d434d6)\" style=\"fill: #00bfbf\"/>\n   </g>\n   <g id=\"patch_74\">\n    <path d=\"M 348.613988 307.872 \nL 352.723539 307.872 \nL 352.723539 307.872 \nL 348.613988 307.872 \nz\n\" clip-path=\"url(#pb015d434d6)\" style=\"fill: #00bfbf\"/>\n   </g>\n   <g id=\"patch_75\">\n    <path d=\"M 352.723539 307.872 \nL 356.83309 307.872 \nL 356.83309 307.872 \nL 352.723539 307.872 \nz\n\" clip-path=\"url(#pb015d434d6)\" style=\"fill: #00bfbf\"/>\n   </g>\n   <g id=\"patch_76\">\n    <path d=\"M 356.83309 307.872 \nL 360.942642 307.872 \nL 360.942642 307.872 \nL 356.83309 307.872 \nz\n\" clip-path=\"url(#pb015d434d6)\" style=\"fill: #00bfbf\"/>\n   </g>\n   <g id=\"patch_77\">\n    <path d=\"M 360.942642 307.872 \nL 365.052193 307.872 \nL 365.052193 307.872 \nL 360.942642 307.872 \nz\n\" clip-path=\"url(#pb015d434d6)\" style=\"fill: #00bfbf\"/>\n   </g>\n   <g id=\"patch_78\">\n    <path d=\"M 365.052193 307.872 \nL 369.161744 307.872 \nL 369.161744 307.872 \nL 365.052193 307.872 \nz\n\" clip-path=\"url(#pb015d434d6)\" style=\"fill: #00bfbf\"/>\n   </g>\n   <g id=\"patch_79\">\n    <path d=\"M 369.161744 307.872 \nL 373.271295 307.872 \nL 373.271295 307.872 \nL 369.161744 307.872 \nz\n\" clip-path=\"url(#pb015d434d6)\" style=\"fill: #00bfbf\"/>\n   </g>\n   <g id=\"patch_80\">\n    <path d=\"M 373.271295 307.872 \nL 377.380847 307.872 \nL 377.380847 307.872 \nL 373.271295 307.872 \nz\n\" clip-path=\"url(#pb015d434d6)\" style=\"fill: #00bfbf\"/>\n   </g>\n   <g id=\"patch_81\">\n    <path d=\"M 377.380847 307.872 \nL 381.490398 307.872 \nL 381.490398 307.872 \nL 377.380847 307.872 \nz\n\" clip-path=\"url(#pb015d434d6)\" style=\"fill: #00bfbf\"/>\n   </g>\n   <g id=\"matplotlib.axis_1\">\n    <g id=\"xtick_1\">\n     <g id=\"line2d_1\">\n      <defs>\n       <path id=\"m7687376398\" d=\"M 0 0 \nL 0 3.5 \n\" style=\"stroke: #000000; stroke-width: 0.8\"/>\n      </defs>\n      <g>\n       <use xlink:href=\"#m7687376398\" x=\"56.835852\" y=\"307.872\" style=\"stroke: #000000; stroke-width: 0.8\"/>\n      </g>\n     </g>\n     <g id=\"text_1\">\n      <!-- 0 -->\n      <g transform=\"translate(53.654602 322.470438) scale(0.1 -0.1)\">\n       <defs>\n        <path id=\"DejaVuSans-30\" d=\"M 2034 4250 \nQ 1547 4250 1301 3770 \nQ 1056 3291 1056 2328 \nQ 1056 1369 1301 889 \nQ 1547 409 2034 409 \nQ 2525 409 2770 889 \nQ 3016 1369 3016 2328 \nQ 3016 3291 2770 3770 \nQ 2525 4250 2034 4250 \nz\nM 2034 4750 \nQ 2819 4750 3233 4129 \nQ 3647 3509 3647 2328 \nQ 3647 1150 3233 529 \nQ 2819 -91 2034 -91 \nQ 1250 -91 836 529 \nQ 422 1150 422 2328 \nQ 422 3509 836 4129 \nQ 1250 4750 2034 4750 \nz\n\" transform=\"scale(0.015625)\"/>\n       </defs>\n       <use xlink:href=\"#DejaVuSans-30\"/>\n      </g>\n     </g>\n    </g>\n    <g id=\"xtick_2\">\n     <g id=\"line2d_2\">\n      <g>\n       <use xlink:href=\"#m7687376398\" x=\"97.931364\" y=\"307.872\" style=\"stroke: #000000; stroke-width: 0.8\"/>\n      </g>\n     </g>\n     <g id=\"text_2\">\n      <!-- 10 -->\n      <g transform=\"translate(91.568864 322.470438) scale(0.1 -0.1)\">\n       <defs>\n        <path id=\"DejaVuSans-31\" d=\"M 794 531 \nL 1825 531 \nL 1825 4091 \nL 703 3866 \nL 703 4441 \nL 1819 4666 \nL 2450 4666 \nL 2450 531 \nL 3481 531 \nL 3481 0 \nL 794 0 \nL 794 531 \nz\n\" transform=\"scale(0.015625)\"/>\n       </defs>\n       <use xlink:href=\"#DejaVuSans-31\"/>\n       <use xlink:href=\"#DejaVuSans-30\" x=\"63.623047\"/>\n      </g>\n     </g>\n    </g>\n    <g id=\"xtick_3\">\n     <g id=\"line2d_3\">\n      <g>\n       <use xlink:href=\"#m7687376398\" x=\"139.026876\" y=\"307.872\" style=\"stroke: #000000; stroke-width: 0.8\"/>\n      </g>\n     </g>\n     <g id=\"text_3\">\n      <!-- 20 -->\n      <g transform=\"translate(132.664376 322.470438) scale(0.1 -0.1)\">\n       <defs>\n        <path id=\"DejaVuSans-32\" d=\"M 1228 531 \nL 3431 531 \nL 3431 0 \nL 469 0 \nL 469 531 \nQ 828 903 1448 1529 \nQ 2069 2156 2228 2338 \nQ 2531 2678 2651 2914 \nQ 2772 3150 2772 3378 \nQ 2772 3750 2511 3984 \nQ 2250 4219 1831 4219 \nQ 1534 4219 1204 4116 \nQ 875 4013 500 3803 \nL 500 4441 \nQ 881 4594 1212 4672 \nQ 1544 4750 1819 4750 \nQ 2544 4750 2975 4387 \nQ 3406 4025 3406 3419 \nQ 3406 3131 3298 2873 \nQ 3191 2616 2906 2266 \nQ 2828 2175 2409 1742 \nQ 1991 1309 1228 531 \nz\n\" transform=\"scale(0.015625)\"/>\n       </defs>\n       <use xlink:href=\"#DejaVuSans-32\"/>\n       <use xlink:href=\"#DejaVuSans-30\" x=\"63.623047\"/>\n      </g>\n     </g>\n    </g>\n    <g id=\"xtick_4\">\n     <g id=\"line2d_4\">\n      <g>\n       <use xlink:href=\"#m7687376398\" x=\"180.122389\" y=\"307.872\" style=\"stroke: #000000; stroke-width: 0.8\"/>\n      </g>\n     </g>\n     <g id=\"text_4\">\n      <!-- 30 -->\n      <g transform=\"translate(173.759889 322.470438) scale(0.1 -0.1)\">\n       <defs>\n        <path id=\"DejaVuSans-33\" d=\"M 2597 2516 \nQ 3050 2419 3304 2112 \nQ 3559 1806 3559 1356 \nQ 3559 666 3084 287 \nQ 2609 -91 1734 -91 \nQ 1441 -91 1130 -33 \nQ 819 25 488 141 \nL 488 750 \nQ 750 597 1062 519 \nQ 1375 441 1716 441 \nQ 2309 441 2620 675 \nQ 2931 909 2931 1356 \nQ 2931 1769 2642 2001 \nQ 2353 2234 1838 2234 \nL 1294 2234 \nL 1294 2753 \nL 1863 2753 \nQ 2328 2753 2575 2939 \nQ 2822 3125 2822 3475 \nQ 2822 3834 2567 4026 \nQ 2313 4219 1838 4219 \nQ 1578 4219 1281 4162 \nQ 984 4106 628 3988 \nL 628 4550 \nQ 988 4650 1302 4700 \nQ 1616 4750 1894 4750 \nQ 2613 4750 3031 4423 \nQ 3450 4097 3450 3541 \nQ 3450 3153 3228 2886 \nQ 3006 2619 2597 2516 \nz\n\" transform=\"scale(0.015625)\"/>\n       </defs>\n       <use xlink:href=\"#DejaVuSans-33\"/>\n       <use xlink:href=\"#DejaVuSans-30\" x=\"63.623047\"/>\n      </g>\n     </g>\n    </g>\n    <g id=\"xtick_5\">\n     <g id=\"line2d_5\">\n      <g>\n       <use xlink:href=\"#m7687376398\" x=\"221.217901\" y=\"307.872\" style=\"stroke: #000000; stroke-width: 0.8\"/>\n      </g>\n     </g>\n     <g id=\"text_5\">\n      <!-- 40 -->\n      <g transform=\"translate(214.855401 322.470438) scale(0.1 -0.1)\">\n       <defs>\n        <path id=\"DejaVuSans-34\" d=\"M 2419 4116 \nL 825 1625 \nL 2419 1625 \nL 2419 4116 \nz\nM 2253 4666 \nL 3047 4666 \nL 3047 1625 \nL 3713 1625 \nL 3713 1100 \nL 3047 1100 \nL 3047 0 \nL 2419 0 \nL 2419 1100 \nL 313 1100 \nL 313 1709 \nL 2253 4666 \nz\n\" transform=\"scale(0.015625)\"/>\n       </defs>\n       <use xlink:href=\"#DejaVuSans-34\"/>\n       <use xlink:href=\"#DejaVuSans-30\" x=\"63.623047\"/>\n      </g>\n     </g>\n    </g>\n    <g id=\"xtick_6\">\n     <g id=\"line2d_6\">\n      <g>\n       <use xlink:href=\"#m7687376398\" x=\"262.313413\" y=\"307.872\" style=\"stroke: #000000; stroke-width: 0.8\"/>\n      </g>\n     </g>\n     <g id=\"text_6\">\n      <!-- 50 -->\n      <g transform=\"translate(255.950913 322.470438) scale(0.1 -0.1)\">\n       <defs>\n        <path id=\"DejaVuSans-35\" d=\"M 691 4666 \nL 3169 4666 \nL 3169 4134 \nL 1269 4134 \nL 1269 2991 \nQ 1406 3038 1543 3061 \nQ 1681 3084 1819 3084 \nQ 2600 3084 3056 2656 \nQ 3513 2228 3513 1497 \nQ 3513 744 3044 326 \nQ 2575 -91 1722 -91 \nQ 1428 -91 1123 -41 \nQ 819 9 494 109 \nL 494 744 \nQ 775 591 1075 516 \nQ 1375 441 1709 441 \nQ 2250 441 2565 725 \nQ 2881 1009 2881 1497 \nQ 2881 1984 2565 2268 \nQ 2250 2553 1709 2553 \nQ 1456 2553 1204 2497 \nQ 953 2441 691 2322 \nL 691 4666 \nz\n\" transform=\"scale(0.015625)\"/>\n       </defs>\n       <use xlink:href=\"#DejaVuSans-35\"/>\n       <use xlink:href=\"#DejaVuSans-30\" x=\"63.623047\"/>\n      </g>\n     </g>\n    </g>\n    <g id=\"xtick_7\">\n     <g id=\"line2d_7\">\n      <g>\n       <use xlink:href=\"#m7687376398\" x=\"303.408925\" y=\"307.872\" style=\"stroke: #000000; stroke-width: 0.8\"/>\n      </g>\n     </g>\n     <g id=\"text_7\">\n      <!-- 60 -->\n      <g transform=\"translate(297.046425 322.470438) scale(0.1 -0.1)\">\n       <defs>\n        <path id=\"DejaVuSans-36\" d=\"M 2113 2584 \nQ 1688 2584 1439 2293 \nQ 1191 2003 1191 1497 \nQ 1191 994 1439 701 \nQ 1688 409 2113 409 \nQ 2538 409 2786 701 \nQ 3034 994 3034 1497 \nQ 3034 2003 2786 2293 \nQ 2538 2584 2113 2584 \nz\nM 3366 4563 \nL 3366 3988 \nQ 3128 4100 2886 4159 \nQ 2644 4219 2406 4219 \nQ 1781 4219 1451 3797 \nQ 1122 3375 1075 2522 \nQ 1259 2794 1537 2939 \nQ 1816 3084 2150 3084 \nQ 2853 3084 3261 2657 \nQ 3669 2231 3669 1497 \nQ 3669 778 3244 343 \nQ 2819 -91 2113 -91 \nQ 1303 -91 875 529 \nQ 447 1150 447 2328 \nQ 447 3434 972 4092 \nQ 1497 4750 2381 4750 \nQ 2619 4750 2861 4703 \nQ 3103 4656 3366 4563 \nz\n\" transform=\"scale(0.015625)\"/>\n       </defs>\n       <use xlink:href=\"#DejaVuSans-36\"/>\n       <use xlink:href=\"#DejaVuSans-30\" x=\"63.623047\"/>\n      </g>\n     </g>\n    </g>\n    <g id=\"xtick_8\">\n     <g id=\"line2d_8\">\n      <g>\n       <use xlink:href=\"#m7687376398\" x=\"344.504437\" y=\"307.872\" style=\"stroke: #000000; stroke-width: 0.8\"/>\n      </g>\n     </g>\n     <g id=\"text_8\">\n      <!-- 70 -->\n      <g transform=\"translate(338.141937 322.470438) scale(0.1 -0.1)\">\n       <defs>\n        <path id=\"DejaVuSans-37\" d=\"M 525 4666 \nL 3525 4666 \nL 3525 4397 \nL 1831 0 \nL 1172 0 \nL 2766 4134 \nL 525 4134 \nL 525 4666 \nz\n\" transform=\"scale(0.015625)\"/>\n       </defs>\n       <use xlink:href=\"#DejaVuSans-37\"/>\n       <use xlink:href=\"#DejaVuSans-30\" x=\"63.623047\"/>\n      </g>\n     </g>\n    </g>\n    <g id=\"xtick_9\">\n     <g id=\"line2d_9\">\n      <g>\n       <use xlink:href=\"#m7687376398\" x=\"385.599949\" y=\"307.872\" style=\"stroke: #000000; stroke-width: 0.8\"/>\n      </g>\n     </g>\n     <g id=\"text_9\">\n      <!-- 80 -->\n      <g transform=\"translate(379.237449 322.470438) scale(0.1 -0.1)\">\n       <defs>\n        <path id=\"DejaVuSans-38\" d=\"M 2034 2216 \nQ 1584 2216 1326 1975 \nQ 1069 1734 1069 1313 \nQ 1069 891 1326 650 \nQ 1584 409 2034 409 \nQ 2484 409 2743 651 \nQ 3003 894 3003 1313 \nQ 3003 1734 2745 1975 \nQ 2488 2216 2034 2216 \nz\nM 1403 2484 \nQ 997 2584 770 2862 \nQ 544 3141 544 3541 \nQ 544 4100 942 4425 \nQ 1341 4750 2034 4750 \nQ 2731 4750 3128 4425 \nQ 3525 4100 3525 3541 \nQ 3525 3141 3298 2862 \nQ 3072 2584 2669 2484 \nQ 3125 2378 3379 2068 \nQ 3634 1759 3634 1313 \nQ 3634 634 3220 271 \nQ 2806 -91 2034 -91 \nQ 1263 -91 848 271 \nQ 434 634 434 1313 \nQ 434 1759 690 2068 \nQ 947 2378 1403 2484 \nz\nM 1172 3481 \nQ 1172 3119 1398 2916 \nQ 1625 2713 2034 2713 \nQ 2441 2713 2670 2916 \nQ 2900 3119 2900 3481 \nQ 2900 3844 2670 4047 \nQ 2441 4250 2034 4250 \nQ 1625 4250 1398 4047 \nQ 1172 3844 1172 3481 \nz\n\" transform=\"scale(0.015625)\"/>\n       </defs>\n       <use xlink:href=\"#DejaVuSans-38\"/>\n       <use xlink:href=\"#DejaVuSans-30\" x=\"63.623047\"/>\n      </g>\n     </g>\n    </g>\n    <g id=\"text_10\">\n     <!-- tokens -->\n     <g transform=\"translate(202.579531 336.148562) scale(0.1 -0.1)\">\n      <defs>\n       <path id=\"DejaVuSans-74\" d=\"M 1172 4494 \nL 1172 3500 \nL 2356 3500 \nL 2356 3053 \nL 1172 3053 \nL 1172 1153 \nQ 1172 725 1289 603 \nQ 1406 481 1766 481 \nL 2356 481 \nL 2356 0 \nL 1766 0 \nQ 1100 0 847 248 \nQ 594 497 594 1153 \nL 594 3053 \nL 172 3053 \nL 172 3500 \nL 594 3500 \nL 594 4494 \nL 1172 4494 \nz\n\" transform=\"scale(0.015625)\"/>\n       <path id=\"DejaVuSans-6f\" d=\"M 1959 3097 \nQ 1497 3097 1228 2736 \nQ 959 2375 959 1747 \nQ 959 1119 1226 758 \nQ 1494 397 1959 397 \nQ 2419 397 2687 759 \nQ 2956 1122 2956 1747 \nQ 2956 2369 2687 2733 \nQ 2419 3097 1959 3097 \nz\nM 1959 3584 \nQ 2709 3584 3137 3096 \nQ 3566 2609 3566 1747 \nQ 3566 888 3137 398 \nQ 2709 -91 1959 -91 \nQ 1206 -91 779 398 \nQ 353 888 353 1747 \nQ 353 2609 779 3096 \nQ 1206 3584 1959 3584 \nz\n\" transform=\"scale(0.015625)\"/>\n       <path id=\"DejaVuSans-6b\" d=\"M 581 4863 \nL 1159 4863 \nL 1159 1991 \nL 2875 3500 \nL 3609 3500 \nL 1753 1863 \nL 3688 0 \nL 2938 0 \nL 1159 1709 \nL 1159 0 \nL 581 0 \nL 581 4863 \nz\n\" transform=\"scale(0.015625)\"/>\n       <path id=\"DejaVuSans-65\" d=\"M 3597 1894 \nL 3597 1613 \nL 953 1613 \nQ 991 1019 1311 708 \nQ 1631 397 2203 397 \nQ 2534 397 2845 478 \nQ 3156 559 3463 722 \nL 3463 178 \nQ 3153 47 2828 -22 \nQ 2503 -91 2169 -91 \nQ 1331 -91 842 396 \nQ 353 884 353 1716 \nQ 353 2575 817 3079 \nQ 1281 3584 2069 3584 \nQ 2775 3584 3186 3129 \nQ 3597 2675 3597 1894 \nz\nM 3022 2063 \nQ 3016 2534 2758 2815 \nQ 2500 3097 2075 3097 \nQ 1594 3097 1305 2825 \nQ 1016 2553 972 2059 \nL 3022 2063 \nz\n\" transform=\"scale(0.015625)\"/>\n       <path id=\"DejaVuSans-6e\" d=\"M 3513 2113 \nL 3513 0 \nL 2938 0 \nL 2938 2094 \nQ 2938 2591 2744 2837 \nQ 2550 3084 2163 3084 \nQ 1697 3084 1428 2787 \nQ 1159 2491 1159 1978 \nL 1159 0 \nL 581 0 \nL 581 3500 \nL 1159 3500 \nL 1159 2956 \nQ 1366 3272 1645 3428 \nQ 1925 3584 2291 3584 \nQ 2894 3584 3203 3211 \nQ 3513 2838 3513 2113 \nz\n\" transform=\"scale(0.015625)\"/>\n       <path id=\"DejaVuSans-73\" d=\"M 2834 3397 \nL 2834 2853 \nQ 2591 2978 2328 3040 \nQ 2066 3103 1784 3103 \nQ 1356 3103 1142 2972 \nQ 928 2841 928 2578 \nQ 928 2378 1081 2264 \nQ 1234 2150 1697 2047 \nL 1894 2003 \nQ 2506 1872 2764 1633 \nQ 3022 1394 3022 966 \nQ 3022 478 2636 193 \nQ 2250 -91 1575 -91 \nQ 1294 -91 989 -36 \nQ 684 19 347 128 \nL 347 722 \nQ 666 556 975 473 \nQ 1284 391 1588 391 \nQ 1994 391 2212 530 \nQ 2431 669 2431 922 \nQ 2431 1156 2273 1281 \nQ 2116 1406 1581 1522 \nL 1381 1569 \nQ 847 1681 609 1914 \nQ 372 2147 372 2553 \nQ 372 3047 722 3315 \nQ 1072 3584 1716 3584 \nQ 2034 3584 2315 3537 \nQ 2597 3491 2834 3397 \nz\n\" transform=\"scale(0.015625)\"/>\n      </defs>\n      <use xlink:href=\"#DejaVuSans-74\"/>\n      <use xlink:href=\"#DejaVuSans-6f\" x=\"39.208984\"/>\n      <use xlink:href=\"#DejaVuSans-6b\" x=\"100.390625\"/>\n      <use xlink:href=\"#DejaVuSans-65\" x=\"154.675781\"/>\n      <use xlink:href=\"#DejaVuSans-6e\" x=\"216.199219\"/>\n      <use xlink:href=\"#DejaVuSans-73\" x=\"279.578125\"/>\n     </g>\n    </g>\n   </g>\n   <g id=\"matplotlib.axis_2\">\n    <g id=\"ytick_1\">\n     <g id=\"line2d_10\">\n      <defs>\n       <path id=\"m77b1e5955f\" d=\"M 0 0 \nL -3.5 0 \n\" style=\"stroke: #000000; stroke-width: 0.8\"/>\n      </defs>\n      <g>\n       <use xlink:href=\"#m77b1e5955f\" x=\"40.603125\" y=\"307.872\" style=\"stroke: #000000; stroke-width: 0.8\"/>\n      </g>\n     </g>\n     <g id=\"text_11\">\n      <!-- 0 -->\n      <g transform=\"translate(27.240625 311.671219) scale(0.1 -0.1)\">\n       <use xlink:href=\"#DejaVuSans-30\"/>\n      </g>\n     </g>\n    </g>\n    <g id=\"ytick_2\">\n     <g id=\"line2d_11\">\n      <g>\n       <use xlink:href=\"#m77b1e5955f\" x=\"40.603125\" y=\"270.400352\" style=\"stroke: #000000; stroke-width: 0.8\"/>\n      </g>\n     </g>\n     <g id=\"text_12\">\n      <!-- 2 -->\n      <g transform=\"translate(27.240625 274.19957) scale(0.1 -0.1)\">\n       <use xlink:href=\"#DejaVuSans-32\"/>\n      </g>\n     </g>\n    </g>\n    <g id=\"ytick_3\">\n     <g id=\"line2d_12\">\n      <g>\n       <use xlink:href=\"#m77b1e5955f\" x=\"40.603125\" y=\"232.928703\" style=\"stroke: #000000; stroke-width: 0.8\"/>\n      </g>\n     </g>\n     <g id=\"text_13\">\n      <!-- 4 -->\n      <g transform=\"translate(27.240625 236.727922) scale(0.1 -0.1)\">\n       <use xlink:href=\"#DejaVuSans-34\"/>\n      </g>\n     </g>\n    </g>\n    <g id=\"ytick_4\">\n     <g id=\"line2d_13\">\n      <g>\n       <use xlink:href=\"#m77b1e5955f\" x=\"40.603125\" y=\"195.457055\" style=\"stroke: #000000; stroke-width: 0.8\"/>\n      </g>\n     </g>\n     <g id=\"text_14\">\n      <!-- 6 -->\n      <g transform=\"translate(27.240625 199.256274) scale(0.1 -0.1)\">\n       <use xlink:href=\"#DejaVuSans-36\"/>\n      </g>\n     </g>\n    </g>\n    <g id=\"ytick_5\">\n     <g id=\"line2d_14\">\n      <g>\n       <use xlink:href=\"#m77b1e5955f\" x=\"40.603125\" y=\"157.985407\" style=\"stroke: #000000; stroke-width: 0.8\"/>\n      </g>\n     </g>\n     <g id=\"text_15\">\n      <!-- 8 -->\n      <g transform=\"translate(27.240625 161.784625) scale(0.1 -0.1)\">\n       <use xlink:href=\"#DejaVuSans-38\"/>\n      </g>\n     </g>\n    </g>\n    <g id=\"ytick_6\">\n     <g id=\"line2d_15\">\n      <g>\n       <use xlink:href=\"#m77b1e5955f\" x=\"40.603125\" y=\"120.513758\" style=\"stroke: #000000; stroke-width: 0.8\"/>\n      </g>\n     </g>\n     <g id=\"text_16\">\n      <!-- 10 -->\n      <g transform=\"translate(20.878125 124.312977) scale(0.1 -0.1)\">\n       <use xlink:href=\"#DejaVuSans-31\"/>\n       <use xlink:href=\"#DejaVuSans-30\" x=\"63.623047\"/>\n      </g>\n     </g>\n    </g>\n    <g id=\"ytick_7\">\n     <g id=\"line2d_16\">\n      <g>\n       <use xlink:href=\"#m77b1e5955f\" x=\"40.603125\" y=\"83.04211\" style=\"stroke: #000000; stroke-width: 0.8\"/>\n      </g>\n     </g>\n     <g id=\"text_17\">\n      <!-- 12 -->\n      <g transform=\"translate(20.878125 86.841329) scale(0.1 -0.1)\">\n       <use xlink:href=\"#DejaVuSans-31\"/>\n       <use xlink:href=\"#DejaVuSans-32\" x=\"63.623047\"/>\n      </g>\n     </g>\n    </g>\n    <g id=\"text_18\">\n     <!-- numero -->\n     <g transform=\"translate(14.798438 199.286719) rotate(-90) scale(0.1 -0.1)\">\n      <defs>\n       <path id=\"DejaVuSans-75\" d=\"M 544 1381 \nL 544 3500 \nL 1119 3500 \nL 1119 1403 \nQ 1119 906 1312 657 \nQ 1506 409 1894 409 \nQ 2359 409 2629 706 \nQ 2900 1003 2900 1516 \nL 2900 3500 \nL 3475 3500 \nL 3475 0 \nL 2900 0 \nL 2900 538 \nQ 2691 219 2414 64 \nQ 2138 -91 1772 -91 \nQ 1169 -91 856 284 \nQ 544 659 544 1381 \nz\nM 1991 3584 \nL 1991 3584 \nz\n\" transform=\"scale(0.015625)\"/>\n       <path id=\"DejaVuSans-6d\" d=\"M 3328 2828 \nQ 3544 3216 3844 3400 \nQ 4144 3584 4550 3584 \nQ 5097 3584 5394 3201 \nQ 5691 2819 5691 2113 \nL 5691 0 \nL 5113 0 \nL 5113 2094 \nQ 5113 2597 4934 2840 \nQ 4756 3084 4391 3084 \nQ 3944 3084 3684 2787 \nQ 3425 2491 3425 1978 \nL 3425 0 \nL 2847 0 \nL 2847 2094 \nQ 2847 2600 2669 2842 \nQ 2491 3084 2119 3084 \nQ 1678 3084 1418 2786 \nQ 1159 2488 1159 1978 \nL 1159 0 \nL 581 0 \nL 581 3500 \nL 1159 3500 \nL 1159 2956 \nQ 1356 3278 1631 3431 \nQ 1906 3584 2284 3584 \nQ 2666 3584 2933 3390 \nQ 3200 3197 3328 2828 \nz\n\" transform=\"scale(0.015625)\"/>\n       <path id=\"DejaVuSans-72\" d=\"M 2631 2963 \nQ 2534 3019 2420 3045 \nQ 2306 3072 2169 3072 \nQ 1681 3072 1420 2755 \nQ 1159 2438 1159 1844 \nL 1159 0 \nL 581 0 \nL 581 3500 \nL 1159 3500 \nL 1159 2956 \nQ 1341 3275 1631 3429 \nQ 1922 3584 2338 3584 \nQ 2397 3584 2469 3576 \nQ 2541 3569 2628 3553 \nL 2631 2963 \nz\n\" transform=\"scale(0.015625)\"/>\n      </defs>\n      <use xlink:href=\"#DejaVuSans-6e\"/>\n      <use xlink:href=\"#DejaVuSans-75\" x=\"63.378906\"/>\n      <use xlink:href=\"#DejaVuSans-6d\" x=\"126.757812\"/>\n      <use xlink:href=\"#DejaVuSans-65\" x=\"224.169922\"/>\n      <use xlink:href=\"#DejaVuSans-72\" x=\"285.693359\"/>\n      <use xlink:href=\"#DejaVuSans-6f\" x=\"324.556641\"/>\n     </g>\n    </g>\n   </g>\n   <g id=\"patch_82\">\n    <path d=\"M 40.603125 307.872 \nL 40.603125 52.128 \n\" style=\"fill: none; stroke: #000000; stroke-width: 0.8; stroke-linejoin: miter; stroke-linecap: square\"/>\n   </g>\n   <g id=\"patch_83\">\n    <path d=\"M 397.723125 307.872 \nL 397.723125 52.128 \n\" style=\"fill: none; stroke: #000000; stroke-width: 0.8; stroke-linejoin: miter; stroke-linecap: square\"/>\n   </g>\n   <g id=\"patch_84\">\n    <path d=\"M 40.603125 307.872 \nL 397.723125 307.872 \n\" style=\"fill: none; stroke: #000000; stroke-width: 0.8; stroke-linejoin: miter; stroke-linecap: square\"/>\n   </g>\n   <g id=\"patch_85\">\n    <path d=\"M 40.603125 52.128 \nL 397.723125 52.128 \n\" style=\"fill: none; stroke: #000000; stroke-width: 0.8; stroke-linejoin: miter; stroke-linecap: square\"/>\n   </g>\n   <g id=\"text_19\">\n    <!-- IlPost -->\n    <g transform=\"translate(203.176875 46.128) scale(0.12 -0.12)\">\n     <defs>\n      <path id=\"DejaVuSans-49\" d=\"M 628 4666 \nL 1259 4666 \nL 1259 0 \nL 628 0 \nL 628 4666 \nz\n\" transform=\"scale(0.015625)\"/>\n      <path id=\"DejaVuSans-6c\" d=\"M 603 4863 \nL 1178 4863 \nL 1178 0 \nL 603 0 \nL 603 4863 \nz\n\" transform=\"scale(0.015625)\"/>\n      <path id=\"DejaVuSans-50\" d=\"M 1259 4147 \nL 1259 2394 \nL 2053 2394 \nQ 2494 2394 2734 2622 \nQ 2975 2850 2975 3272 \nQ 2975 3691 2734 3919 \nQ 2494 4147 2053 4147 \nL 1259 4147 \nz\nM 628 4666 \nL 2053 4666 \nQ 2838 4666 3239 4311 \nQ 3641 3956 3641 3272 \nQ 3641 2581 3239 2228 \nQ 2838 1875 2053 1875 \nL 1259 1875 \nL 1259 0 \nL 628 0 \nL 628 4666 \nz\n\" transform=\"scale(0.015625)\"/>\n     </defs>\n     <use xlink:href=\"#DejaVuSans-49\"/>\n     <use xlink:href=\"#DejaVuSans-6c\" x=\"29.492188\"/>\n     <use xlink:href=\"#DejaVuSans-50\" x=\"57.275391\"/>\n     <use xlink:href=\"#DejaVuSans-6f\" x=\"113.953125\"/>\n     <use xlink:href=\"#DejaVuSans-73\" x=\"175.134766\"/>\n     <use xlink:href=\"#DejaVuSans-74\" x=\"227.234375\"/>\n    </g>\n   </g>\n  </g>\n  <g id=\"text_20\">\n   <!-- lunghezze riassunti training set -->\n   <g transform=\"translate(87.911719 17.837812) scale(0.14 -0.14)\">\n    <defs>\n     <path id=\"DejaVuSans-Bold-6c\" d=\"M 538 4863 \nL 1656 4863 \nL 1656 0 \nL 538 0 \nL 538 4863 \nz\n\" transform=\"scale(0.015625)\"/>\n     <path id=\"DejaVuSans-Bold-75\" d=\"M 500 1363 \nL 500 3500 \nL 1625 3500 \nL 1625 3150 \nQ 1625 2866 1622 2436 \nQ 1619 2006 1619 1863 \nQ 1619 1441 1641 1255 \nQ 1663 1069 1716 984 \nQ 1784 875 1895 815 \nQ 2006 756 2150 756 \nQ 2500 756 2700 1025 \nQ 2900 1294 2900 1772 \nL 2900 3500 \nL 4019 3500 \nL 4019 0 \nL 2900 0 \nL 2900 506 \nQ 2647 200 2364 54 \nQ 2081 -91 1741 -91 \nQ 1134 -91 817 281 \nQ 500 653 500 1363 \nz\n\" transform=\"scale(0.015625)\"/>\n     <path id=\"DejaVuSans-Bold-6e\" d=\"M 4056 2131 \nL 4056 0 \nL 2931 0 \nL 2931 347 \nL 2931 1631 \nQ 2931 2084 2911 2256 \nQ 2891 2428 2841 2509 \nQ 2775 2619 2662 2680 \nQ 2550 2741 2406 2741 \nQ 2056 2741 1856 2470 \nQ 1656 2200 1656 1722 \nL 1656 0 \nL 538 0 \nL 538 3500 \nL 1656 3500 \nL 1656 2988 \nQ 1909 3294 2193 3439 \nQ 2478 3584 2822 3584 \nQ 3428 3584 3742 3212 \nQ 4056 2841 4056 2131 \nz\n\" transform=\"scale(0.015625)\"/>\n     <path id=\"DejaVuSans-Bold-67\" d=\"M 2919 594 \nQ 2688 288 2409 144 \nQ 2131 0 1766 0 \nQ 1125 0 706 504 \nQ 288 1009 288 1791 \nQ 288 2575 706 3076 \nQ 1125 3578 1766 3578 \nQ 2131 3578 2409 3434 \nQ 2688 3291 2919 2981 \nL 2919 3500 \nL 4044 3500 \nL 4044 353 \nQ 4044 -491 3511 -936 \nQ 2978 -1381 1966 -1381 \nQ 1638 -1381 1331 -1331 \nQ 1025 -1281 716 -1178 \nL 716 -306 \nQ 1009 -475 1290 -558 \nQ 1572 -641 1856 -641 \nQ 2406 -641 2662 -400 \nQ 2919 -159 2919 353 \nL 2919 594 \nz\nM 2181 2772 \nQ 1834 2772 1640 2515 \nQ 1447 2259 1447 1791 \nQ 1447 1309 1634 1061 \nQ 1822 813 2181 813 \nQ 2531 813 2725 1069 \nQ 2919 1325 2919 1791 \nQ 2919 2259 2725 2515 \nQ 2531 2772 2181 2772 \nz\n\" transform=\"scale(0.015625)\"/>\n     <path id=\"DejaVuSans-Bold-68\" d=\"M 4056 2131 \nL 4056 0 \nL 2931 0 \nL 2931 347 \nL 2931 1625 \nQ 2931 2084 2911 2256 \nQ 2891 2428 2841 2509 \nQ 2775 2619 2662 2680 \nQ 2550 2741 2406 2741 \nQ 2056 2741 1856 2470 \nQ 1656 2200 1656 1722 \nL 1656 0 \nL 538 0 \nL 538 4863 \nL 1656 4863 \nL 1656 2988 \nQ 1909 3294 2193 3439 \nQ 2478 3584 2822 3584 \nQ 3428 3584 3742 3212 \nQ 4056 2841 4056 2131 \nz\n\" transform=\"scale(0.015625)\"/>\n     <path id=\"DejaVuSans-Bold-65\" d=\"M 4031 1759 \nL 4031 1441 \nL 1416 1441 \nQ 1456 1047 1700 850 \nQ 1944 653 2381 653 \nQ 2734 653 3104 758 \nQ 3475 863 3866 1075 \nL 3866 213 \nQ 3469 63 3072 -14 \nQ 2675 -91 2278 -91 \nQ 1328 -91 801 392 \nQ 275 875 275 1747 \nQ 275 2603 792 3093 \nQ 1309 3584 2216 3584 \nQ 3041 3584 3536 3087 \nQ 4031 2591 4031 1759 \nz\nM 2881 2131 \nQ 2881 2450 2695 2645 \nQ 2509 2841 2209 2841 \nQ 1884 2841 1681 2658 \nQ 1478 2475 1428 2131 \nL 2881 2131 \nz\n\" transform=\"scale(0.015625)\"/>\n     <path id=\"DejaVuSans-Bold-7a\" d=\"M 366 3500 \nL 3419 3500 \nL 3419 2719 \nL 1575 800 \nL 3419 800 \nL 3419 0 \nL 288 0 \nL 288 781 \nL 2131 2700 \nL 366 2700 \nL 366 3500 \nz\n\" transform=\"scale(0.015625)\"/>\n     <path id=\"DejaVuSans-Bold-20\" transform=\"scale(0.015625)\"/>\n     <path id=\"DejaVuSans-Bold-72\" d=\"M 3138 2547 \nQ 2991 2616 2845 2648 \nQ 2700 2681 2553 2681 \nQ 2122 2681 1889 2404 \nQ 1656 2128 1656 1613 \nL 1656 0 \nL 538 0 \nL 538 3500 \nL 1656 3500 \nL 1656 2925 \nQ 1872 3269 2151 3426 \nQ 2431 3584 2822 3584 \nQ 2878 3584 2943 3579 \nQ 3009 3575 3134 3559 \nL 3138 2547 \nz\n\" transform=\"scale(0.015625)\"/>\n     <path id=\"DejaVuSans-Bold-69\" d=\"M 538 3500 \nL 1656 3500 \nL 1656 0 \nL 538 0 \nL 538 3500 \nz\nM 538 4863 \nL 1656 4863 \nL 1656 3950 \nL 538 3950 \nL 538 4863 \nz\n\" transform=\"scale(0.015625)\"/>\n     <path id=\"DejaVuSans-Bold-61\" d=\"M 2106 1575 \nQ 1756 1575 1579 1456 \nQ 1403 1338 1403 1106 \nQ 1403 894 1545 773 \nQ 1688 653 1941 653 \nQ 2256 653 2472 879 \nQ 2688 1106 2688 1447 \nL 2688 1575 \nL 2106 1575 \nz\nM 3816 1997 \nL 3816 0 \nL 2688 0 \nL 2688 519 \nQ 2463 200 2181 54 \nQ 1900 -91 1497 -91 \nQ 953 -91 614 226 \nQ 275 544 275 1050 \nQ 275 1666 698 1953 \nQ 1122 2241 2028 2241 \nL 2688 2241 \nL 2688 2328 \nQ 2688 2594 2478 2717 \nQ 2269 2841 1825 2841 \nQ 1466 2841 1156 2769 \nQ 847 2697 581 2553 \nL 581 3406 \nQ 941 3494 1303 3539 \nQ 1666 3584 2028 3584 \nQ 2975 3584 3395 3211 \nQ 3816 2838 3816 1997 \nz\n\" transform=\"scale(0.015625)\"/>\n     <path id=\"DejaVuSans-Bold-73\" d=\"M 3272 3391 \nL 3272 2541 \nQ 2913 2691 2578 2766 \nQ 2244 2841 1947 2841 \nQ 1628 2841 1473 2761 \nQ 1319 2681 1319 2516 \nQ 1319 2381 1436 2309 \nQ 1553 2238 1856 2203 \nL 2053 2175 \nQ 2913 2066 3209 1816 \nQ 3506 1566 3506 1031 \nQ 3506 472 3093 190 \nQ 2681 -91 1863 -91 \nQ 1516 -91 1145 -36 \nQ 775 19 384 128 \nL 384 978 \nQ 719 816 1070 734 \nQ 1422 653 1784 653 \nQ 2113 653 2278 743 \nQ 2444 834 2444 1013 \nQ 2444 1163 2330 1236 \nQ 2216 1309 1875 1350 \nL 1678 1375 \nQ 931 1469 631 1722 \nQ 331 1975 331 2491 \nQ 331 3047 712 3315 \nQ 1094 3584 1881 3584 \nQ 2191 3584 2531 3537 \nQ 2872 3491 3272 3391 \nz\n\" transform=\"scale(0.015625)\"/>\n     <path id=\"DejaVuSans-Bold-74\" d=\"M 1759 4494 \nL 1759 3500 \nL 2913 3500 \nL 2913 2700 \nL 1759 2700 \nL 1759 1216 \nQ 1759 972 1856 886 \nQ 1953 800 2241 800 \nL 2816 800 \nL 2816 0 \nL 1856 0 \nQ 1194 0 917 276 \nQ 641 553 641 1216 \nL 641 2700 \nL 84 2700 \nL 84 3500 \nL 641 3500 \nL 641 4494 \nL 1759 4494 \nz\n\" transform=\"scale(0.015625)\"/>\n    </defs>\n    <use xlink:href=\"#DejaVuSans-Bold-6c\"/>\n    <use xlink:href=\"#DejaVuSans-Bold-75\" x=\"34.277344\"/>\n    <use xlink:href=\"#DejaVuSans-Bold-6e\" x=\"105.46875\"/>\n    <use xlink:href=\"#DejaVuSans-Bold-67\" x=\"176.660156\"/>\n    <use xlink:href=\"#DejaVuSans-Bold-68\" x=\"248.242188\"/>\n    <use xlink:href=\"#DejaVuSans-Bold-65\" x=\"319.433594\"/>\n    <use xlink:href=\"#DejaVuSans-Bold-7a\" x=\"387.255859\"/>\n    <use xlink:href=\"#DejaVuSans-Bold-7a\" x=\"445.458984\"/>\n    <use xlink:href=\"#DejaVuSans-Bold-65\" x=\"503.662109\"/>\n    <use xlink:href=\"#DejaVuSans-Bold-20\" x=\"571.484375\"/>\n    <use xlink:href=\"#DejaVuSans-Bold-72\" x=\"606.298828\"/>\n    <use xlink:href=\"#DejaVuSans-Bold-69\" x=\"655.615234\"/>\n    <use xlink:href=\"#DejaVuSans-Bold-61\" x=\"689.892578\"/>\n    <use xlink:href=\"#DejaVuSans-Bold-73\" x=\"757.373047\"/>\n    <use xlink:href=\"#DejaVuSans-Bold-73\" x=\"816.894531\"/>\n    <use xlink:href=\"#DejaVuSans-Bold-75\" x=\"876.416016\"/>\n    <use xlink:href=\"#DejaVuSans-Bold-6e\" x=\"947.607422\"/>\n    <use xlink:href=\"#DejaVuSans-Bold-74\" x=\"1018.798828\"/>\n    <use xlink:href=\"#DejaVuSans-Bold-69\" x=\"1066.601562\"/>\n    <use xlink:href=\"#DejaVuSans-Bold-20\" x=\"1100.878906\"/>\n    <use xlink:href=\"#DejaVuSans-Bold-74\" x=\"1135.693359\"/>\n    <use xlink:href=\"#DejaVuSans-Bold-72\" x=\"1183.496094\"/>\n    <use xlink:href=\"#DejaVuSans-Bold-61\" x=\"1232.8125\"/>\n    <use xlink:href=\"#DejaVuSans-Bold-69\" x=\"1300.292969\"/>\n    <use xlink:href=\"#DejaVuSans-Bold-6e\" x=\"1334.570312\"/>\n    <use xlink:href=\"#DejaVuSans-Bold-69\" x=\"1405.761719\"/>\n    <use xlink:href=\"#DejaVuSans-Bold-6e\" x=\"1440.039062\"/>\n    <use xlink:href=\"#DejaVuSans-Bold-67\" x=\"1511.230469\"/>\n    <use xlink:href=\"#DejaVuSans-Bold-20\" x=\"1582.8125\"/>\n    <use xlink:href=\"#DejaVuSans-Bold-73\" x=\"1617.626953\"/>\n    <use xlink:href=\"#DejaVuSans-Bold-65\" x=\"1677.148438\"/>\n    <use xlink:href=\"#DejaVuSans-Bold-74\" x=\"1744.970703\"/>\n   </g>\n  </g>\n </g>\n <defs>\n  <clipPath id=\"pb015d434d6\">\n   <rect x=\"40.603125\" y=\"52.128\" width=\"357.12\" height=\"255.744\"/>\n  </clipPath>\n </defs>\n</svg>\n",
            "application/pdf": "[encoded data removed]"
          },
          "metadata": {}
        }
      ],
      "source": [
        "ii = [i for i in range(0,80)]\n",
        "lunghezze_riass = [num_words(df_train[\"target\"].iloc[i]) for i in range(df_train.shape[0])]\n",
        "\n",
        "fig = plt.figure()\n",
        "ax = fig.add_subplot()\n",
        "fig.subplots_adjust(top=0.85)\n",
        "\n",
        "fig.suptitle('lunghezze riassunti training set', fontsize=14, fontweight='bold')\n",
        "ax.set_title('IlPost')\n",
        "\n",
        "ax.set_xlabel('tokens')\n",
        "ax.set_ylabel('numero')\n",
        "\n",
        "#plt.style.use(['dark_background'])\n",
        "plt.hist(lunghezze_riass, bins=ii, color='c')\n",
        "\n",
        "plt.show()"
      ]
    },
    {
      "cell_type": "markdown",
      "source": [
        "Nel prossimo grafico viene mostrata la lunghezza dei testi in numero di parole degli articoli formati dall'unione di tutti i paragrafi."
      ],
      "metadata": {
        "id": "ptbWCtWKnsoT"
      }
    },
    {
      "cell_type": "code",
      "execution_count": null,
      "metadata": {
        "colab": {
          "base_uri": "https://localhost:8080/",
          "height": 482
        },
        "id": "f3JKGf2f09E9",
        "outputId": "e163a408-4018-4b91-ca72-421864d8b775"
      },
      "outputs": [
        {
          "output_type": "display_data",
          "data": {
            "text/plain": [
              "<Figure size 640x480 with 1 Axes>"
            ],
            "image/svg+xml": "<?xml version=\"1.0\" encoding=\"utf-8\" standalone=\"no\"?>\n<!DOCTYPE svg PUBLIC \"-//W3C//DTD SVG 1.1//EN\"\n  \"http://www.w3.org/Graphics/SVG/1.1/DTD/svg11.dtd\">\n<svg xmlns:xlink=\"http://www.w3.org/1999/xlink\" width=\"408.10125pt\" height=\"345.42825pt\" viewBox=\"0 0 408.10125 345.42825\" xmlns=\"http://www.w3.org/2000/svg\" version=\"1.1\">\n <metadata>\n  <rdf:RDF xmlns:dc=\"http://purl.org/dc/elements/1.1/\" xmlns:cc=\"http://creativecommons.org/ns#\" xmlns:rdf=\"http://www.w3.org/1999/02/22-rdf-syntax-ns#\">\n   <cc:Work>\n    <dc:type rdf:resource=\"http://purl.org/dc/dcmitype/StillImage\"/>\n    <dc:date>2024-01-02T11:55:35.257062</dc:date>\n    <dc:format>image/svg+xml</dc:format>\n    <dc:creator>\n     <cc:Agent>\n      <dc:title>Matplotlib v3.7.1, https://matplotlib.org/</dc:title>\n     </cc:Agent>\n    </dc:creator>\n   </cc:Work>\n  </rdf:RDF>\n </metadata>\n <defs>\n  <style type=\"text/css\">*{stroke-linejoin: round; stroke-linecap: butt}</style>\n </defs>\n <g id=\"figure_1\">\n  <g id=\"patch_1\">\n   <path d=\"M 0 345.42825 \nL 408.10125 345.42825 \nL 408.10125 -0 \nL 0 -0 \nz\n\" style=\"fill: #ffffff\"/>\n  </g>\n  <g id=\"axes_1\">\n   <g id=\"patch_2\">\n    <path d=\"M 43.78125 307.872 \nL 400.90125 307.872 \nL 400.90125 52.128 \nL 43.78125 52.128 \nz\n\" style=\"fill: #ffffff\"/>\n   </g>\n   <g id=\"patch_3\">\n    <path d=\"M 60.013977 307.872 \nL 63.925478 307.872 \nL 63.925478 307.872 \nL 60.013977 307.872 \nz\n\" clip-path=\"url(#p495e077297)\" style=\"fill: #00bfbf\"/>\n   </g>\n   <g id=\"patch_4\">\n    <path d=\"M 63.925478 307.872 \nL 67.836978 307.872 \nL 67.836978 307.872 \nL 63.925478 307.872 \nz\n\" clip-path=\"url(#p495e077297)\" style=\"fill: #00bfbf\"/>\n   </g>\n   <g id=\"patch_5\">\n    <path d=\"M 67.836978 307.872 \nL 71.748479 307.872 \nL 71.748479 307.872 \nL 67.836978 307.872 \nz\n\" clip-path=\"url(#p495e077297)\" style=\"fill: #00bfbf\"/>\n   </g>\n   <g id=\"patch_6\">\n    <path d=\"M 71.748479 307.872 \nL 75.659979 307.872 \nL 75.659979 307.872 \nL 71.748479 307.872 \nz\n\" clip-path=\"url(#p495e077297)\" style=\"fill: #00bfbf\"/>\n   </g>\n   <g id=\"patch_7\">\n    <path d=\"M 75.659979 307.872 \nL 79.57148 307.872 \nL 79.57148 307.872 \nL 75.659979 307.872 \nz\n\" clip-path=\"url(#p495e077297)\" style=\"fill: #00bfbf\"/>\n   </g>\n   <g id=\"patch_8\">\n    <path d=\"M 79.57148 307.872 \nL 83.482981 307.872 \nL 83.482981 307.872 \nL 79.57148 307.872 \nz\n\" clip-path=\"url(#p495e077297)\" style=\"fill: #00bfbf\"/>\n   </g>\n   <g id=\"patch_9\">\n    <path d=\"M 83.482981 307.872 \nL 87.394481 307.872 \nL 87.394481 307.872 \nL 83.482981 307.872 \nz\n\" clip-path=\"url(#p495e077297)\" style=\"fill: #00bfbf\"/>\n   </g>\n   <g id=\"patch_10\">\n    <path d=\"M 87.394481 307.872 \nL 91.305982 307.872 \nL 91.305982 307.872 \nL 87.394481 307.872 \nz\n\" clip-path=\"url(#p495e077297)\" style=\"fill: #00bfbf\"/>\n   </g>\n   <g id=\"patch_11\">\n    <path d=\"M 91.305982 307.872 \nL 95.217482 307.872 \nL 95.217482 307.872 \nL 91.305982 307.872 \nz\n\" clip-path=\"url(#p495e077297)\" style=\"fill: #00bfbf\"/>\n   </g>\n   <g id=\"patch_12\">\n    <path d=\"M 95.217482 307.872 \nL 99.128983 307.872 \nL 99.128983 307.872 \nL 95.217482 307.872 \nz\n\" clip-path=\"url(#p495e077297)\" style=\"fill: #00bfbf\"/>\n   </g>\n   <g id=\"patch_13\">\n    <path d=\"M 99.128983 307.872 \nL 103.040483 307.872 \nL 103.040483 307.872 \nL 99.128983 307.872 \nz\n\" clip-path=\"url(#p495e077297)\" style=\"fill: #00bfbf\"/>\n   </g>\n   <g id=\"patch_14\">\n    <path d=\"M 103.040483 307.872 \nL 106.951984 307.872 \nL 106.951984 307.872 \nL 103.040483 307.872 \nz\n\" clip-path=\"url(#p495e077297)\" style=\"fill: #00bfbf\"/>\n   </g>\n   <g id=\"patch_15\">\n    <path d=\"M 106.951984 307.872 \nL 110.863484 307.872 \nL 110.863484 307.872 \nL 106.951984 307.872 \nz\n\" clip-path=\"url(#p495e077297)\" style=\"fill: #00bfbf\"/>\n   </g>\n   <g id=\"patch_16\">\n    <path d=\"M 110.863484 307.872 \nL 114.774985 307.872 \nL 114.774985 307.872 \nL 110.863484 307.872 \nz\n\" clip-path=\"url(#p495e077297)\" style=\"fill: #00bfbf\"/>\n   </g>\n   <g id=\"patch_17\">\n    <path d=\"M 114.774985 307.872 \nL 118.686485 307.872 \nL 118.686485 307.872 \nL 114.774985 307.872 \nz\n\" clip-path=\"url(#p495e077297)\" style=\"fill: #00bfbf\"/>\n   </g>\n   <g id=\"patch_18\">\n    <path d=\"M 118.686485 307.872 \nL 122.597986 307.872 \nL 122.597986 307.872 \nL 118.686485 307.872 \nz\n\" clip-path=\"url(#p495e077297)\" style=\"fill: #00bfbf\"/>\n   </g>\n   <g id=\"patch_19\">\n    <path d=\"M 122.597986 307.872 \nL 126.509487 307.872 \nL 126.509487 307.872 \nL 122.597986 307.872 \nz\n\" clip-path=\"url(#p495e077297)\" style=\"fill: #00bfbf\"/>\n   </g>\n   <g id=\"patch_20\">\n    <path d=\"M 126.509487 307.872 \nL 130.420987 307.872 \nL 130.420987 246.980571 \nL 126.509487 246.980571 \nz\n\" clip-path=\"url(#p495e077297)\" style=\"fill: #00bfbf\"/>\n   </g>\n   <g id=\"patch_21\">\n    <path d=\"M 130.420987 307.872 \nL 134.332488 307.872 \nL 134.332488 186.089143 \nL 130.420987 186.089143 \nz\n\" clip-path=\"url(#p495e077297)\" style=\"fill: #00bfbf\"/>\n   </g>\n   <g id=\"patch_22\">\n    <path d=\"M 134.332488 307.872 \nL 138.243988 307.872 \nL 138.243988 307.872 \nL 134.332488 307.872 \nz\n\" clip-path=\"url(#p495e077297)\" style=\"fill: #00bfbf\"/>\n   </g>\n   <g id=\"patch_23\">\n    <path d=\"M 138.243988 307.872 \nL 142.155489 307.872 \nL 142.155489 246.980571 \nL 138.243988 246.980571 \nz\n\" clip-path=\"url(#p495e077297)\" style=\"fill: #00bfbf\"/>\n   </g>\n   <g id=\"patch_24\">\n    <path d=\"M 142.155489 307.872 \nL 146.066989 307.872 \nL 146.066989 246.980571 \nL 142.155489 246.980571 \nz\n\" clip-path=\"url(#p495e077297)\" style=\"fill: #00bfbf\"/>\n   </g>\n   <g id=\"patch_25\">\n    <path d=\"M 146.066989 307.872 \nL 149.97849 307.872 \nL 149.97849 307.872 \nL 146.066989 307.872 \nz\n\" clip-path=\"url(#p495e077297)\" style=\"fill: #00bfbf\"/>\n   </g>\n   <g id=\"patch_26\">\n    <path d=\"M 149.97849 307.872 \nL 153.88999 307.872 \nL 153.88999 307.872 \nL 149.97849 307.872 \nz\n\" clip-path=\"url(#p495e077297)\" style=\"fill: #00bfbf\"/>\n   </g>\n   <g id=\"patch_27\">\n    <path d=\"M 153.88999 307.872 \nL 157.801491 307.872 \nL 157.801491 186.089143 \nL 153.88999 186.089143 \nz\n\" clip-path=\"url(#p495e077297)\" style=\"fill: #00bfbf\"/>\n   </g>\n   <g id=\"patch_28\">\n    <path d=\"M 157.801491 307.872 \nL 161.712992 307.872 \nL 161.712992 186.089143 \nL 157.801491 186.089143 \nz\n\" clip-path=\"url(#p495e077297)\" style=\"fill: #00bfbf\"/>\n   </g>\n   <g id=\"patch_29\">\n    <path d=\"M 161.712992 307.872 \nL 165.624492 307.872 \nL 165.624492 246.980571 \nL 161.712992 246.980571 \nz\n\" clip-path=\"url(#p495e077297)\" style=\"fill: #00bfbf\"/>\n   </g>\n   <g id=\"patch_30\">\n    <path d=\"M 165.624492 307.872 \nL 169.535993 307.872 \nL 169.535993 246.980571 \nL 165.624492 246.980571 \nz\n\" clip-path=\"url(#p495e077297)\" style=\"fill: #00bfbf\"/>\n   </g>\n   <g id=\"patch_31\">\n    <path d=\"M 169.535993 307.872 \nL 173.447493 307.872 \nL 173.447493 246.980571 \nL 169.535993 246.980571 \nz\n\" clip-path=\"url(#p495e077297)\" style=\"fill: #00bfbf\"/>\n   </g>\n   <g id=\"patch_32\">\n    <path d=\"M 173.447493 307.872 \nL 177.358994 307.872 \nL 177.358994 186.089143 \nL 173.447493 186.089143 \nz\n\" clip-path=\"url(#p495e077297)\" style=\"fill: #00bfbf\"/>\n   </g>\n   <g id=\"patch_33\">\n    <path d=\"M 177.358994 307.872 \nL 181.270494 307.872 \nL 181.270494 246.980571 \nL 177.358994 246.980571 \nz\n\" clip-path=\"url(#p495e077297)\" style=\"fill: #00bfbf\"/>\n   </g>\n   <g id=\"patch_34\">\n    <path d=\"M 181.270494 307.872 \nL 185.181995 307.872 \nL 185.181995 246.980571 \nL 181.270494 246.980571 \nz\n\" clip-path=\"url(#p495e077297)\" style=\"fill: #00bfbf\"/>\n   </g>\n   <g id=\"patch_35\">\n    <path d=\"M 185.181995 307.872 \nL 189.093495 307.872 \nL 189.093495 186.089143 \nL 185.181995 186.089143 \nz\n\" clip-path=\"url(#p495e077297)\" style=\"fill: #00bfbf\"/>\n   </g>\n   <g id=\"patch_36\">\n    <path d=\"M 189.093495 307.872 \nL 193.004996 307.872 \nL 193.004996 246.980571 \nL 189.093495 246.980571 \nz\n\" clip-path=\"url(#p495e077297)\" style=\"fill: #00bfbf\"/>\n   </g>\n   <g id=\"patch_37\">\n    <path d=\"M 193.004996 307.872 \nL 196.916496 307.872 \nL 196.916496 246.980571 \nL 193.004996 246.980571 \nz\n\" clip-path=\"url(#p495e077297)\" style=\"fill: #00bfbf\"/>\n   </g>\n   <g id=\"patch_38\">\n    <path d=\"M 196.916496 307.872 \nL 200.827997 307.872 \nL 200.827997 246.980571 \nL 196.916496 246.980571 \nz\n\" clip-path=\"url(#p495e077297)\" style=\"fill: #00bfbf\"/>\n   </g>\n   <g id=\"patch_39\">\n    <path d=\"M 200.827997 307.872 \nL 204.739498 307.872 \nL 204.739498 186.089143 \nL 200.827997 186.089143 \nz\n\" clip-path=\"url(#p495e077297)\" style=\"fill: #00bfbf\"/>\n   </g>\n   <g id=\"patch_40\">\n    <path d=\"M 204.739498 307.872 \nL 208.650998 307.872 \nL 208.650998 246.980571 \nL 204.739498 246.980571 \nz\n\" clip-path=\"url(#p495e077297)\" style=\"fill: #00bfbf\"/>\n   </g>\n   <g id=\"patch_41\">\n    <path d=\"M 208.650998 307.872 \nL 212.562499 307.872 \nL 212.562499 307.872 \nL 208.650998 307.872 \nz\n\" clip-path=\"url(#p495e077297)\" style=\"fill: #00bfbf\"/>\n   </g>\n   <g id=\"patch_42\">\n    <path d=\"M 212.562499 307.872 \nL 216.473999 307.872 \nL 216.473999 307.872 \nL 212.562499 307.872 \nz\n\" clip-path=\"url(#p495e077297)\" style=\"fill: #00bfbf\"/>\n   </g>\n   <g id=\"patch_43\">\n    <path d=\"M 216.473999 307.872 \nL 220.3855 307.872 \nL 220.3855 246.980571 \nL 216.473999 246.980571 \nz\n\" clip-path=\"url(#p495e077297)\" style=\"fill: #00bfbf\"/>\n   </g>\n   <g id=\"patch_44\">\n    <path d=\"M 220.3855 307.872 \nL 224.297 307.872 \nL 224.297 64.306286 \nL 220.3855 64.306286 \nz\n\" clip-path=\"url(#p495e077297)\" style=\"fill: #00bfbf\"/>\n   </g>\n   <g id=\"patch_45\">\n    <path d=\"M 224.297 307.872 \nL 228.208501 307.872 \nL 228.208501 246.980571 \nL 224.297 246.980571 \nz\n\" clip-path=\"url(#p495e077297)\" style=\"fill: #00bfbf\"/>\n   </g>\n   <g id=\"patch_46\">\n    <path d=\"M 228.208501 307.872 \nL 232.120001 307.872 \nL 232.120001 186.089143 \nL 228.208501 186.089143 \nz\n\" clip-path=\"url(#p495e077297)\" style=\"fill: #00bfbf\"/>\n   </g>\n   <g id=\"patch_47\">\n    <path d=\"M 232.120001 307.872 \nL 236.031502 307.872 \nL 236.031502 186.089143 \nL 232.120001 186.089143 \nz\n\" clip-path=\"url(#p495e077297)\" style=\"fill: #00bfbf\"/>\n   </g>\n   <g id=\"patch_48\">\n    <path d=\"M 236.031502 307.872 \nL 239.943002 307.872 \nL 239.943002 307.872 \nL 236.031502 307.872 \nz\n\" clip-path=\"url(#p495e077297)\" style=\"fill: #00bfbf\"/>\n   </g>\n   <g id=\"patch_49\">\n    <path d=\"M 239.943002 307.872 \nL 243.854503 307.872 \nL 243.854503 307.872 \nL 239.943002 307.872 \nz\n\" clip-path=\"url(#p495e077297)\" style=\"fill: #00bfbf\"/>\n   </g>\n   <g id=\"patch_50\">\n    <path d=\"M 243.854503 307.872 \nL 247.766004 307.872 \nL 247.766004 307.872 \nL 243.854503 307.872 \nz\n\" clip-path=\"url(#p495e077297)\" style=\"fill: #00bfbf\"/>\n   </g>\n   <g id=\"patch_51\">\n    <path d=\"M 247.766004 307.872 \nL 251.677504 307.872 \nL 251.677504 186.089143 \nL 247.766004 186.089143 \nz\n\" clip-path=\"url(#p495e077297)\" style=\"fill: #00bfbf\"/>\n   </g>\n   <g id=\"patch_52\">\n    <path d=\"M 251.677504 307.872 \nL 255.589005 307.872 \nL 255.589005 307.872 \nL 251.677504 307.872 \nz\n\" clip-path=\"url(#p495e077297)\" style=\"fill: #00bfbf\"/>\n   </g>\n   <g id=\"patch_53\">\n    <path d=\"M 255.589005 307.872 \nL 259.500505 307.872 \nL 259.500505 307.872 \nL 255.589005 307.872 \nz\n\" clip-path=\"url(#p495e077297)\" style=\"fill: #00bfbf\"/>\n   </g>\n   <g id=\"patch_54\">\n    <path d=\"M 259.500505 307.872 \nL 263.412006 307.872 \nL 263.412006 307.872 \nL 259.500505 307.872 \nz\n\" clip-path=\"url(#p495e077297)\" style=\"fill: #00bfbf\"/>\n   </g>\n   <g id=\"patch_55\">\n    <path d=\"M 263.412006 307.872 \nL 267.323506 307.872 \nL 267.323506 307.872 \nL 263.412006 307.872 \nz\n\" clip-path=\"url(#p495e077297)\" style=\"fill: #00bfbf\"/>\n   </g>\n   <g id=\"patch_56\">\n    <path d=\"M 267.323506 307.872 \nL 271.235007 307.872 \nL 271.235007 246.980571 \nL 267.323506 246.980571 \nz\n\" clip-path=\"url(#p495e077297)\" style=\"fill: #00bfbf\"/>\n   </g>\n   <g id=\"patch_57\">\n    <path d=\"M 271.235007 307.872 \nL 275.146507 307.872 \nL 275.146507 307.872 \nL 271.235007 307.872 \nz\n\" clip-path=\"url(#p495e077297)\" style=\"fill: #00bfbf\"/>\n   </g>\n   <g id=\"patch_58\">\n    <path d=\"M 275.146507 307.872 \nL 279.058008 307.872 \nL 279.058008 246.980571 \nL 275.146507 246.980571 \nz\n\" clip-path=\"url(#p495e077297)\" style=\"fill: #00bfbf\"/>\n   </g>\n   <g id=\"patch_59\">\n    <path d=\"M 279.058008 307.872 \nL 282.969508 307.872 \nL 282.969508 186.089143 \nL 279.058008 186.089143 \nz\n\" clip-path=\"url(#p495e077297)\" style=\"fill: #00bfbf\"/>\n   </g>\n   <g id=\"patch_60\">\n    <path d=\"M 282.969508 307.872 \nL 286.881009 307.872 \nL 286.881009 307.872 \nL 282.969508 307.872 \nz\n\" clip-path=\"url(#p495e077297)\" style=\"fill: #00bfbf\"/>\n   </g>\n   <g id=\"patch_61\">\n    <path d=\"M 286.881009 307.872 \nL 290.79251 307.872 \nL 290.79251 246.980571 \nL 286.881009 246.980571 \nz\n\" clip-path=\"url(#p495e077297)\" style=\"fill: #00bfbf\"/>\n   </g>\n   <g id=\"patch_62\">\n    <path d=\"M 290.79251 307.872 \nL 294.70401 307.872 \nL 294.70401 246.980571 \nL 290.79251 246.980571 \nz\n\" clip-path=\"url(#p495e077297)\" style=\"fill: #00bfbf\"/>\n   </g>\n   <g id=\"patch_63\">\n    <path d=\"M 294.70401 307.872 \nL 298.615511 307.872 \nL 298.615511 307.872 \nL 294.70401 307.872 \nz\n\" clip-path=\"url(#p495e077297)\" style=\"fill: #00bfbf\"/>\n   </g>\n   <g id=\"patch_64\">\n    <path d=\"M 298.615511 307.872 \nL 302.527011 307.872 \nL 302.527011 307.872 \nL 298.615511 307.872 \nz\n\" clip-path=\"url(#p495e077297)\" style=\"fill: #00bfbf\"/>\n   </g>\n   <g id=\"patch_65\">\n    <path d=\"M 302.527011 307.872 \nL 306.438512 307.872 \nL 306.438512 307.872 \nL 302.527011 307.872 \nz\n\" clip-path=\"url(#p495e077297)\" style=\"fill: #00bfbf\"/>\n   </g>\n   <g id=\"patch_66\">\n    <path d=\"M 306.438512 307.872 \nL 310.350012 307.872 \nL 310.350012 246.980571 \nL 306.438512 246.980571 \nz\n\" clip-path=\"url(#p495e077297)\" style=\"fill: #00bfbf\"/>\n   </g>\n   <g id=\"patch_67\">\n    <path d=\"M 310.350012 307.872 \nL 314.261513 307.872 \nL 314.261513 307.872 \nL 310.350012 307.872 \nz\n\" clip-path=\"url(#p495e077297)\" style=\"fill: #00bfbf\"/>\n   </g>\n   <g id=\"patch_68\">\n    <path d=\"M 314.261513 307.872 \nL 318.173013 307.872 \nL 318.173013 307.872 \nL 314.261513 307.872 \nz\n\" clip-path=\"url(#p495e077297)\" style=\"fill: #00bfbf\"/>\n   </g>\n   <g id=\"patch_69\">\n    <path d=\"M 318.173013 307.872 \nL 322.084514 307.872 \nL 322.084514 246.980571 \nL 318.173013 246.980571 \nz\n\" clip-path=\"url(#p495e077297)\" style=\"fill: #00bfbf\"/>\n   </g>\n   <g id=\"patch_70\">\n    <path d=\"M 322.084514 307.872 \nL 325.996015 307.872 \nL 325.996015 307.872 \nL 322.084514 307.872 \nz\n\" clip-path=\"url(#p495e077297)\" style=\"fill: #00bfbf\"/>\n   </g>\n   <g id=\"patch_71\">\n    <path d=\"M 325.996015 307.872 \nL 329.907515 307.872 \nL 329.907515 307.872 \nL 325.996015 307.872 \nz\n\" clip-path=\"url(#p495e077297)\" style=\"fill: #00bfbf\"/>\n   </g>\n   <g id=\"patch_72\">\n    <path d=\"M 329.907515 307.872 \nL 333.819016 307.872 \nL 333.819016 307.872 \nL 329.907515 307.872 \nz\n\" clip-path=\"url(#p495e077297)\" style=\"fill: #00bfbf\"/>\n   </g>\n   <g id=\"patch_73\">\n    <path d=\"M 333.819016 307.872 \nL 337.730516 307.872 \nL 337.730516 246.980571 \nL 333.819016 246.980571 \nz\n\" clip-path=\"url(#p495e077297)\" style=\"fill: #00bfbf\"/>\n   </g>\n   <g id=\"patch_74\">\n    <path d=\"M 337.730516 307.872 \nL 341.642017 307.872 \nL 341.642017 246.980571 \nL 337.730516 246.980571 \nz\n\" clip-path=\"url(#p495e077297)\" style=\"fill: #00bfbf\"/>\n   </g>\n   <g id=\"patch_75\">\n    <path d=\"M 341.642017 307.872 \nL 345.553517 307.872 \nL 345.553517 246.980571 \nL 341.642017 246.980571 \nz\n\" clip-path=\"url(#p495e077297)\" style=\"fill: #00bfbf\"/>\n   </g>\n   <g id=\"patch_76\">\n    <path d=\"M 345.553517 307.872 \nL 349.465018 307.872 \nL 349.465018 307.872 \nL 345.553517 307.872 \nz\n\" clip-path=\"url(#p495e077297)\" style=\"fill: #00bfbf\"/>\n   </g>\n   <g id=\"patch_77\">\n    <path d=\"M 349.465018 307.872 \nL 353.376518 307.872 \nL 353.376518 307.872 \nL 349.465018 307.872 \nz\n\" clip-path=\"url(#p495e077297)\" style=\"fill: #00bfbf\"/>\n   </g>\n   <g id=\"patch_78\">\n    <path d=\"M 353.376518 307.872 \nL 357.288019 307.872 \nL 357.288019 246.980571 \nL 353.376518 246.980571 \nz\n\" clip-path=\"url(#p495e077297)\" style=\"fill: #00bfbf\"/>\n   </g>\n   <g id=\"patch_79\">\n    <path d=\"M 357.288019 307.872 \nL 361.199519 307.872 \nL 361.199519 307.872 \nL 357.288019 307.872 \nz\n\" clip-path=\"url(#p495e077297)\" style=\"fill: #00bfbf\"/>\n   </g>\n   <g id=\"patch_80\">\n    <path d=\"M 361.199519 307.872 \nL 365.11102 307.872 \nL 365.11102 307.872 \nL 361.199519 307.872 \nz\n\" clip-path=\"url(#p495e077297)\" style=\"fill: #00bfbf\"/>\n   </g>\n   <g id=\"patch_81\">\n    <path d=\"M 365.11102 307.872 \nL 369.022521 307.872 \nL 369.022521 307.872 \nL 365.11102 307.872 \nz\n\" clip-path=\"url(#p495e077297)\" style=\"fill: #00bfbf\"/>\n   </g>\n   <g id=\"patch_82\">\n    <path d=\"M 369.022521 307.872 \nL 372.934021 307.872 \nL 372.934021 307.872 \nL 369.022521 307.872 \nz\n\" clip-path=\"url(#p495e077297)\" style=\"fill: #00bfbf\"/>\n   </g>\n   <g id=\"patch_83\">\n    <path d=\"M 372.934021 307.872 \nL 376.845522 307.872 \nL 376.845522 246.980571 \nL 372.934021 246.980571 \nz\n\" clip-path=\"url(#p495e077297)\" style=\"fill: #00bfbf\"/>\n   </g>\n   <g id=\"patch_84\">\n    <path d=\"M 376.845522 307.872 \nL 380.757022 307.872 \nL 380.757022 307.872 \nL 376.845522 307.872 \nz\n\" clip-path=\"url(#p495e077297)\" style=\"fill: #00bfbf\"/>\n   </g>\n   <g id=\"patch_85\">\n    <path d=\"M 380.757022 307.872 \nL 384.668523 307.872 \nL 384.668523 307.872 \nL 380.757022 307.872 \nz\n\" clip-path=\"url(#p495e077297)\" style=\"fill: #00bfbf\"/>\n   </g>\n   <g id=\"matplotlib.axis_1\">\n    <g id=\"xtick_1\">\n     <g id=\"line2d_1\">\n      <defs>\n       <path id=\"m9758087289\" d=\"M 0 0 \nL 0 3.5 \n\" style=\"stroke: #000000; stroke-width: 0.8\"/>\n      </defs>\n      <g>\n       <use xlink:href=\"#m9758087289\" x=\"60.013977\" y=\"307.872\" style=\"stroke: #000000; stroke-width: 0.8\"/>\n      </g>\n     </g>\n     <g id=\"text_1\">\n      <!-- 0 -->\n      <g transform=\"translate(56.832727 322.470438) scale(0.1 -0.1)\">\n       <defs>\n        <path id=\"DejaVuSans-30\" d=\"M 2034 4250 \nQ 1547 4250 1301 3770 \nQ 1056 3291 1056 2328 \nQ 1056 1369 1301 889 \nQ 1547 409 2034 409 \nQ 2525 409 2770 889 \nQ 3016 1369 3016 2328 \nQ 3016 3291 2770 3770 \nQ 2525 4250 2034 4250 \nz\nM 2034 4750 \nQ 2819 4750 3233 4129 \nQ 3647 3509 3647 2328 \nQ 3647 1150 3233 529 \nQ 2819 -91 2034 -91 \nQ 1250 -91 836 529 \nQ 422 1150 422 2328 \nQ 422 3509 836 4129 \nQ 1250 4750 2034 4750 \nz\n\" transform=\"scale(0.015625)\"/>\n       </defs>\n       <use xlink:href=\"#DejaVuSans-30\"/>\n      </g>\n     </g>\n    </g>\n    <g id=\"xtick_2\">\n     <g id=\"line2d_2\">\n      <g>\n       <use xlink:href=\"#m9758087289\" x=\"125.205653\" y=\"307.872\" style=\"stroke: #000000; stroke-width: 0.8\"/>\n      </g>\n     </g>\n     <g id=\"text_2\">\n      <!-- 100 -->\n      <g transform=\"translate(115.661903 322.470438) scale(0.1 -0.1)\">\n       <defs>\n        <path id=\"DejaVuSans-31\" d=\"M 794 531 \nL 1825 531 \nL 1825 4091 \nL 703 3866 \nL 703 4441 \nL 1819 4666 \nL 2450 4666 \nL 2450 531 \nL 3481 531 \nL 3481 0 \nL 794 0 \nL 794 531 \nz\n\" transform=\"scale(0.015625)\"/>\n       </defs>\n       <use xlink:href=\"#DejaVuSans-31\"/>\n       <use xlink:href=\"#DejaVuSans-30\" x=\"63.623047\"/>\n       <use xlink:href=\"#DejaVuSans-30\" x=\"127.246094\"/>\n      </g>\n     </g>\n    </g>\n    <g id=\"xtick_3\">\n     <g id=\"line2d_3\">\n      <g>\n       <use xlink:href=\"#m9758087289\" x=\"190.397329\" y=\"307.872\" style=\"stroke: #000000; stroke-width: 0.8\"/>\n      </g>\n     </g>\n     <g id=\"text_3\">\n      <!-- 200 -->\n      <g transform=\"translate(180.853579 322.470438) scale(0.1 -0.1)\">\n       <defs>\n        <path id=\"DejaVuSans-32\" d=\"M 1228 531 \nL 3431 531 \nL 3431 0 \nL 469 0 \nL 469 531 \nQ 828 903 1448 1529 \nQ 2069 2156 2228 2338 \nQ 2531 2678 2651 2914 \nQ 2772 3150 2772 3378 \nQ 2772 3750 2511 3984 \nQ 2250 4219 1831 4219 \nQ 1534 4219 1204 4116 \nQ 875 4013 500 3803 \nL 500 4441 \nQ 881 4594 1212 4672 \nQ 1544 4750 1819 4750 \nQ 2544 4750 2975 4387 \nQ 3406 4025 3406 3419 \nQ 3406 3131 3298 2873 \nQ 3191 2616 2906 2266 \nQ 2828 2175 2409 1742 \nQ 1991 1309 1228 531 \nz\n\" transform=\"scale(0.015625)\"/>\n       </defs>\n       <use xlink:href=\"#DejaVuSans-32\"/>\n       <use xlink:href=\"#DejaVuSans-30\" x=\"63.623047\"/>\n       <use xlink:href=\"#DejaVuSans-30\" x=\"127.246094\"/>\n      </g>\n     </g>\n    </g>\n    <g id=\"xtick_4\">\n     <g id=\"line2d_4\">\n      <g>\n       <use xlink:href=\"#m9758087289\" x=\"255.589005\" y=\"307.872\" style=\"stroke: #000000; stroke-width: 0.8\"/>\n      </g>\n     </g>\n     <g id=\"text_4\">\n      <!-- 300 -->\n      <g transform=\"translate(246.045255 322.470438) scale(0.1 -0.1)\">\n       <defs>\n        <path id=\"DejaVuSans-33\" d=\"M 2597 2516 \nQ 3050 2419 3304 2112 \nQ 3559 1806 3559 1356 \nQ 3559 666 3084 287 \nQ 2609 -91 1734 -91 \nQ 1441 -91 1130 -33 \nQ 819 25 488 141 \nL 488 750 \nQ 750 597 1062 519 \nQ 1375 441 1716 441 \nQ 2309 441 2620 675 \nQ 2931 909 2931 1356 \nQ 2931 1769 2642 2001 \nQ 2353 2234 1838 2234 \nL 1294 2234 \nL 1294 2753 \nL 1863 2753 \nQ 2328 2753 2575 2939 \nQ 2822 3125 2822 3475 \nQ 2822 3834 2567 4026 \nQ 2313 4219 1838 4219 \nQ 1578 4219 1281 4162 \nQ 984 4106 628 3988 \nL 628 4550 \nQ 988 4650 1302 4700 \nQ 1616 4750 1894 4750 \nQ 2613 4750 3031 4423 \nQ 3450 4097 3450 3541 \nQ 3450 3153 3228 2886 \nQ 3006 2619 2597 2516 \nz\n\" transform=\"scale(0.015625)\"/>\n       </defs>\n       <use xlink:href=\"#DejaVuSans-33\"/>\n       <use xlink:href=\"#DejaVuSans-30\" x=\"63.623047\"/>\n       <use xlink:href=\"#DejaVuSans-30\" x=\"127.246094\"/>\n      </g>\n     </g>\n    </g>\n    <g id=\"xtick_5\">\n     <g id=\"line2d_5\">\n      <g>\n       <use xlink:href=\"#m9758087289\" x=\"320.78068\" y=\"307.872\" style=\"stroke: #000000; stroke-width: 0.8\"/>\n      </g>\n     </g>\n     <g id=\"text_5\">\n      <!-- 400 -->\n      <g transform=\"translate(311.23693 322.470438) scale(0.1 -0.1)\">\n       <defs>\n        <path id=\"DejaVuSans-34\" d=\"M 2419 4116 \nL 825 1625 \nL 2419 1625 \nL 2419 4116 \nz\nM 2253 4666 \nL 3047 4666 \nL 3047 1625 \nL 3713 1625 \nL 3713 1100 \nL 3047 1100 \nL 3047 0 \nL 2419 0 \nL 2419 1100 \nL 313 1100 \nL 313 1709 \nL 2253 4666 \nz\n\" transform=\"scale(0.015625)\"/>\n       </defs>\n       <use xlink:href=\"#DejaVuSans-34\"/>\n       <use xlink:href=\"#DejaVuSans-30\" x=\"63.623047\"/>\n       <use xlink:href=\"#DejaVuSans-30\" x=\"127.246094\"/>\n      </g>\n     </g>\n    </g>\n    <g id=\"xtick_6\">\n     <g id=\"line2d_6\">\n      <g>\n       <use xlink:href=\"#m9758087289\" x=\"385.972356\" y=\"307.872\" style=\"stroke: #000000; stroke-width: 0.8\"/>\n      </g>\n     </g>\n     <g id=\"text_6\">\n      <!-- 500 -->\n      <g transform=\"translate(376.428606 322.470438) scale(0.1 -0.1)\">\n       <defs>\n        <path id=\"DejaVuSans-35\" d=\"M 691 4666 \nL 3169 4666 \nL 3169 4134 \nL 1269 4134 \nL 1269 2991 \nQ 1406 3038 1543 3061 \nQ 1681 3084 1819 3084 \nQ 2600 3084 3056 2656 \nQ 3513 2228 3513 1497 \nQ 3513 744 3044 326 \nQ 2575 -91 1722 -91 \nQ 1428 -91 1123 -41 \nQ 819 9 494 109 \nL 494 744 \nQ 775 591 1075 516 \nQ 1375 441 1709 441 \nQ 2250 441 2565 725 \nQ 2881 1009 2881 1497 \nQ 2881 1984 2565 2268 \nQ 2250 2553 1709 2553 \nQ 1456 2553 1204 2497 \nQ 953 2441 691 2322 \nL 691 4666 \nz\n\" transform=\"scale(0.015625)\"/>\n       </defs>\n       <use xlink:href=\"#DejaVuSans-35\"/>\n       <use xlink:href=\"#DejaVuSans-30\" x=\"63.623047\"/>\n       <use xlink:href=\"#DejaVuSans-30\" x=\"127.246094\"/>\n      </g>\n     </g>\n    </g>\n    <g id=\"text_7\">\n     <!-- tokens -->\n     <g transform=\"translate(205.757656 336.148562) scale(0.1 -0.1)\">\n      <defs>\n       <path id=\"DejaVuSans-74\" d=\"M 1172 4494 \nL 1172 3500 \nL 2356 3500 \nL 2356 3053 \nL 1172 3053 \nL 1172 1153 \nQ 1172 725 1289 603 \nQ 1406 481 1766 481 \nL 2356 481 \nL 2356 0 \nL 1766 0 \nQ 1100 0 847 248 \nQ 594 497 594 1153 \nL 594 3053 \nL 172 3053 \nL 172 3500 \nL 594 3500 \nL 594 4494 \nL 1172 4494 \nz\n\" transform=\"scale(0.015625)\"/>\n       <path id=\"DejaVuSans-6f\" d=\"M 1959 3097 \nQ 1497 3097 1228 2736 \nQ 959 2375 959 1747 \nQ 959 1119 1226 758 \nQ 1494 397 1959 397 \nQ 2419 397 2687 759 \nQ 2956 1122 2956 1747 \nQ 2956 2369 2687 2733 \nQ 2419 3097 1959 3097 \nz\nM 1959 3584 \nQ 2709 3584 3137 3096 \nQ 3566 2609 3566 1747 \nQ 3566 888 3137 398 \nQ 2709 -91 1959 -91 \nQ 1206 -91 779 398 \nQ 353 888 353 1747 \nQ 353 2609 779 3096 \nQ 1206 3584 1959 3584 \nz\n\" transform=\"scale(0.015625)\"/>\n       <path id=\"DejaVuSans-6b\" d=\"M 581 4863 \nL 1159 4863 \nL 1159 1991 \nL 2875 3500 \nL 3609 3500 \nL 1753 1863 \nL 3688 0 \nL 2938 0 \nL 1159 1709 \nL 1159 0 \nL 581 0 \nL 581 4863 \nz\n\" transform=\"scale(0.015625)\"/>\n       <path id=\"DejaVuSans-65\" d=\"M 3597 1894 \nL 3597 1613 \nL 953 1613 \nQ 991 1019 1311 708 \nQ 1631 397 2203 397 \nQ 2534 397 2845 478 \nQ 3156 559 3463 722 \nL 3463 178 \nQ 3153 47 2828 -22 \nQ 2503 -91 2169 -91 \nQ 1331 -91 842 396 \nQ 353 884 353 1716 \nQ 353 2575 817 3079 \nQ 1281 3584 2069 3584 \nQ 2775 3584 3186 3129 \nQ 3597 2675 3597 1894 \nz\nM 3022 2063 \nQ 3016 2534 2758 2815 \nQ 2500 3097 2075 3097 \nQ 1594 3097 1305 2825 \nQ 1016 2553 972 2059 \nL 3022 2063 \nz\n\" transform=\"scale(0.015625)\"/>\n       <path id=\"DejaVuSans-6e\" d=\"M 3513 2113 \nL 3513 0 \nL 2938 0 \nL 2938 2094 \nQ 2938 2591 2744 2837 \nQ 2550 3084 2163 3084 \nQ 1697 3084 1428 2787 \nQ 1159 2491 1159 1978 \nL 1159 0 \nL 581 0 \nL 581 3500 \nL 1159 3500 \nL 1159 2956 \nQ 1366 3272 1645 3428 \nQ 1925 3584 2291 3584 \nQ 2894 3584 3203 3211 \nQ 3513 2838 3513 2113 \nz\n\" transform=\"scale(0.015625)\"/>\n       <path id=\"DejaVuSans-73\" d=\"M 2834 3397 \nL 2834 2853 \nQ 2591 2978 2328 3040 \nQ 2066 3103 1784 3103 \nQ 1356 3103 1142 2972 \nQ 928 2841 928 2578 \nQ 928 2378 1081 2264 \nQ 1234 2150 1697 2047 \nL 1894 2003 \nQ 2506 1872 2764 1633 \nQ 3022 1394 3022 966 \nQ 3022 478 2636 193 \nQ 2250 -91 1575 -91 \nQ 1294 -91 989 -36 \nQ 684 19 347 128 \nL 347 722 \nQ 666 556 975 473 \nQ 1284 391 1588 391 \nQ 1994 391 2212 530 \nQ 2431 669 2431 922 \nQ 2431 1156 2273 1281 \nQ 2116 1406 1581 1522 \nL 1381 1569 \nQ 847 1681 609 1914 \nQ 372 2147 372 2553 \nQ 372 3047 722 3315 \nQ 1072 3584 1716 3584 \nQ 2034 3584 2315 3537 \nQ 2597 3491 2834 3397 \nz\n\" transform=\"scale(0.015625)\"/>\n      </defs>\n      <use xlink:href=\"#DejaVuSans-74\"/>\n      <use xlink:href=\"#DejaVuSans-6f\" x=\"39.208984\"/>\n      <use xlink:href=\"#DejaVuSans-6b\" x=\"100.390625\"/>\n      <use xlink:href=\"#DejaVuSans-65\" x=\"154.675781\"/>\n      <use xlink:href=\"#DejaVuSans-6e\" x=\"216.199219\"/>\n      <use xlink:href=\"#DejaVuSans-73\" x=\"279.578125\"/>\n     </g>\n    </g>\n   </g>\n   <g id=\"matplotlib.axis_2\">\n    <g id=\"ytick_1\">\n     <g id=\"line2d_7\">\n      <defs>\n       <path id=\"ma5c1023e8c\" d=\"M 0 0 \nL -3.5 0 \n\" style=\"stroke: #000000; stroke-width: 0.8\"/>\n      </defs>\n      <g>\n       <use xlink:href=\"#ma5c1023e8c\" x=\"43.78125\" y=\"307.872\" style=\"stroke: #000000; stroke-width: 0.8\"/>\n      </g>\n     </g>\n     <g id=\"text_8\">\n      <!-- 0.0 -->\n      <g transform=\"translate(20.878125 311.671219) scale(0.1 -0.1)\">\n       <defs>\n        <path id=\"DejaVuSans-2e\" d=\"M 684 794 \nL 1344 794 \nL 1344 0 \nL 684 0 \nL 684 794 \nz\n\" transform=\"scale(0.015625)\"/>\n       </defs>\n       <use xlink:href=\"#DejaVuSans-30\"/>\n       <use xlink:href=\"#DejaVuSans-2e\" x=\"63.623047\"/>\n       <use xlink:href=\"#DejaVuSans-30\" x=\"95.410156\"/>\n      </g>\n     </g>\n    </g>\n    <g id=\"ytick_2\">\n     <g id=\"line2d_8\">\n      <g>\n       <use xlink:href=\"#ma5c1023e8c\" x=\"43.78125\" y=\"277.426286\" style=\"stroke: #000000; stroke-width: 0.8\"/>\n      </g>\n     </g>\n     <g id=\"text_9\">\n      <!-- 0.5 -->\n      <g transform=\"translate(20.878125 281.225504) scale(0.1 -0.1)\">\n       <use xlink:href=\"#DejaVuSans-30\"/>\n       <use xlink:href=\"#DejaVuSans-2e\" x=\"63.623047\"/>\n       <use xlink:href=\"#DejaVuSans-35\" x=\"95.410156\"/>\n      </g>\n     </g>\n    </g>\n    <g id=\"ytick_3\">\n     <g id=\"line2d_9\">\n      <g>\n       <use xlink:href=\"#ma5c1023e8c\" x=\"43.78125\" y=\"246.980571\" style=\"stroke: #000000; stroke-width: 0.8\"/>\n      </g>\n     </g>\n     <g id=\"text_10\">\n      <!-- 1.0 -->\n      <g transform=\"translate(20.878125 250.77979) scale(0.1 -0.1)\">\n       <use xlink:href=\"#DejaVuSans-31\"/>\n       <use xlink:href=\"#DejaVuSans-2e\" x=\"63.623047\"/>\n       <use xlink:href=\"#DejaVuSans-30\" x=\"95.410156\"/>\n      </g>\n     </g>\n    </g>\n    <g id=\"ytick_4\">\n     <g id=\"line2d_10\">\n      <g>\n       <use xlink:href=\"#ma5c1023e8c\" x=\"43.78125\" y=\"216.534857\" style=\"stroke: #000000; stroke-width: 0.8\"/>\n      </g>\n     </g>\n     <g id=\"text_11\">\n      <!-- 1.5 -->\n      <g transform=\"translate(20.878125 220.334076) scale(0.1 -0.1)\">\n       <use xlink:href=\"#DejaVuSans-31\"/>\n       <use xlink:href=\"#DejaVuSans-2e\" x=\"63.623047\"/>\n       <use xlink:href=\"#DejaVuSans-35\" x=\"95.410156\"/>\n      </g>\n     </g>\n    </g>\n    <g id=\"ytick_5\">\n     <g id=\"line2d_11\">\n      <g>\n       <use xlink:href=\"#ma5c1023e8c\" x=\"43.78125\" y=\"186.089143\" style=\"stroke: #000000; stroke-width: 0.8\"/>\n      </g>\n     </g>\n     <g id=\"text_12\">\n      <!-- 2.0 -->\n      <g transform=\"translate(20.878125 189.888362) scale(0.1 -0.1)\">\n       <use xlink:href=\"#DejaVuSans-32\"/>\n       <use xlink:href=\"#DejaVuSans-2e\" x=\"63.623047\"/>\n       <use xlink:href=\"#DejaVuSans-30\" x=\"95.410156\"/>\n      </g>\n     </g>\n    </g>\n    <g id=\"ytick_6\">\n     <g id=\"line2d_12\">\n      <g>\n       <use xlink:href=\"#ma5c1023e8c\" x=\"43.78125\" y=\"155.643429\" style=\"stroke: #000000; stroke-width: 0.8\"/>\n      </g>\n     </g>\n     <g id=\"text_13\">\n      <!-- 2.5 -->\n      <g transform=\"translate(20.878125 159.442647) scale(0.1 -0.1)\">\n       <use xlink:href=\"#DejaVuSans-32\"/>\n       <use xlink:href=\"#DejaVuSans-2e\" x=\"63.623047\"/>\n       <use xlink:href=\"#DejaVuSans-35\" x=\"95.410156\"/>\n      </g>\n     </g>\n    </g>\n    <g id=\"ytick_7\">\n     <g id=\"line2d_13\">\n      <g>\n       <use xlink:href=\"#ma5c1023e8c\" x=\"43.78125\" y=\"125.197714\" style=\"stroke: #000000; stroke-width: 0.8\"/>\n      </g>\n     </g>\n     <g id=\"text_14\">\n      <!-- 3.0 -->\n      <g transform=\"translate(20.878125 128.996933) scale(0.1 -0.1)\">\n       <use xlink:href=\"#DejaVuSans-33\"/>\n       <use xlink:href=\"#DejaVuSans-2e\" x=\"63.623047\"/>\n       <use xlink:href=\"#DejaVuSans-30\" x=\"95.410156\"/>\n      </g>\n     </g>\n    </g>\n    <g id=\"ytick_8\">\n     <g id=\"line2d_14\">\n      <g>\n       <use xlink:href=\"#ma5c1023e8c\" x=\"43.78125\" y=\"94.752\" style=\"stroke: #000000; stroke-width: 0.8\"/>\n      </g>\n     </g>\n     <g id=\"text_15\">\n      <!-- 3.5 -->\n      <g transform=\"translate(20.878125 98.551219) scale(0.1 -0.1)\">\n       <use xlink:href=\"#DejaVuSans-33\"/>\n       <use xlink:href=\"#DejaVuSans-2e\" x=\"63.623047\"/>\n       <use xlink:href=\"#DejaVuSans-35\" x=\"95.410156\"/>\n      </g>\n     </g>\n    </g>\n    <g id=\"ytick_9\">\n     <g id=\"line2d_15\">\n      <g>\n       <use xlink:href=\"#ma5c1023e8c\" x=\"43.78125\" y=\"64.306286\" style=\"stroke: #000000; stroke-width: 0.8\"/>\n      </g>\n     </g>\n     <g id=\"text_16\">\n      <!-- 4.0 -->\n      <g transform=\"translate(20.878125 68.105504) scale(0.1 -0.1)\">\n       <use xlink:href=\"#DejaVuSans-34\"/>\n       <use xlink:href=\"#DejaVuSans-2e\" x=\"63.623047\"/>\n       <use xlink:href=\"#DejaVuSans-30\" x=\"95.410156\"/>\n      </g>\n     </g>\n    </g>\n    <g id=\"text_17\">\n     <!-- numero -->\n     <g transform=\"translate(14.798438 199.286719) rotate(-90) scale(0.1 -0.1)\">\n      <defs>\n       <path id=\"DejaVuSans-75\" d=\"M 544 1381 \nL 544 3500 \nL 1119 3500 \nL 1119 1403 \nQ 1119 906 1312 657 \nQ 1506 409 1894 409 \nQ 2359 409 2629 706 \nQ 2900 1003 2900 1516 \nL 2900 3500 \nL 3475 3500 \nL 3475 0 \nL 2900 0 \nL 2900 538 \nQ 2691 219 2414 64 \nQ 2138 -91 1772 -91 \nQ 1169 -91 856 284 \nQ 544 659 544 1381 \nz\nM 1991 3584 \nL 1991 3584 \nz\n\" transform=\"scale(0.015625)\"/>\n       <path id=\"DejaVuSans-6d\" d=\"M 3328 2828 \nQ 3544 3216 3844 3400 \nQ 4144 3584 4550 3584 \nQ 5097 3584 5394 3201 \nQ 5691 2819 5691 2113 \nL 5691 0 \nL 5113 0 \nL 5113 2094 \nQ 5113 2597 4934 2840 \nQ 4756 3084 4391 3084 \nQ 3944 3084 3684 2787 \nQ 3425 2491 3425 1978 \nL 3425 0 \nL 2847 0 \nL 2847 2094 \nQ 2847 2600 2669 2842 \nQ 2491 3084 2119 3084 \nQ 1678 3084 1418 2786 \nQ 1159 2488 1159 1978 \nL 1159 0 \nL 581 0 \nL 581 3500 \nL 1159 3500 \nL 1159 2956 \nQ 1356 3278 1631 3431 \nQ 1906 3584 2284 3584 \nQ 2666 3584 2933 3390 \nQ 3200 3197 3328 2828 \nz\n\" transform=\"scale(0.015625)\"/>\n       <path id=\"DejaVuSans-72\" d=\"M 2631 2963 \nQ 2534 3019 2420 3045 \nQ 2306 3072 2169 3072 \nQ 1681 3072 1420 2755 \nQ 1159 2438 1159 1844 \nL 1159 0 \nL 581 0 \nL 581 3500 \nL 1159 3500 \nL 1159 2956 \nQ 1341 3275 1631 3429 \nQ 1922 3584 2338 3584 \nQ 2397 3584 2469 3576 \nQ 2541 3569 2628 3553 \nL 2631 2963 \nz\n\" transform=\"scale(0.015625)\"/>\n      </defs>\n      <use xlink:href=\"#DejaVuSans-6e\"/>\n      <use xlink:href=\"#DejaVuSans-75\" x=\"63.378906\"/>\n      <use xlink:href=\"#DejaVuSans-6d\" x=\"126.757812\"/>\n      <use xlink:href=\"#DejaVuSans-65\" x=\"224.169922\"/>\n      <use xlink:href=\"#DejaVuSans-72\" x=\"285.693359\"/>\n      <use xlink:href=\"#DejaVuSans-6f\" x=\"324.556641\"/>\n     </g>\n    </g>\n   </g>\n   <g id=\"patch_86\">\n    <path d=\"M 43.78125 307.872 \nL 43.78125 52.128 \n\" style=\"fill: none; stroke: #000000; stroke-width: 0.8; stroke-linejoin: miter; stroke-linecap: square\"/>\n   </g>\n   <g id=\"patch_87\">\n    <path d=\"M 400.90125 307.872 \nL 400.90125 52.128 \n\" style=\"fill: none; stroke: #000000; stroke-width: 0.8; stroke-linejoin: miter; stroke-linecap: square\"/>\n   </g>\n   <g id=\"patch_88\">\n    <path d=\"M 43.78125 307.872 \nL 400.90125 307.872 \n\" style=\"fill: none; stroke: #000000; stroke-width: 0.8; stroke-linejoin: miter; stroke-linecap: square\"/>\n   </g>\n   <g id=\"patch_89\">\n    <path d=\"M 43.78125 52.128 \nL 400.90125 52.128 \n\" style=\"fill: none; stroke: #000000; stroke-width: 0.8; stroke-linejoin: miter; stroke-linecap: square\"/>\n   </g>\n   <g id=\"text_18\">\n    <!-- IlPost -->\n    <g transform=\"translate(206.355 46.128) scale(0.12 -0.12)\">\n     <defs>\n      <path id=\"DejaVuSans-49\" d=\"M 628 4666 \nL 1259 4666 \nL 1259 0 \nL 628 0 \nL 628 4666 \nz\n\" transform=\"scale(0.015625)\"/>\n      <path id=\"DejaVuSans-6c\" d=\"M 603 4863 \nL 1178 4863 \nL 1178 0 \nL 603 0 \nL 603 4863 \nz\n\" transform=\"scale(0.015625)\"/>\n      <path id=\"DejaVuSans-50\" d=\"M 1259 4147 \nL 1259 2394 \nL 2053 2394 \nQ 2494 2394 2734 2622 \nQ 2975 2850 2975 3272 \nQ 2975 3691 2734 3919 \nQ 2494 4147 2053 4147 \nL 1259 4147 \nz\nM 628 4666 \nL 2053 4666 \nQ 2838 4666 3239 4311 \nQ 3641 3956 3641 3272 \nQ 3641 2581 3239 2228 \nQ 2838 1875 2053 1875 \nL 1259 1875 \nL 1259 0 \nL 628 0 \nL 628 4666 \nz\n\" transform=\"scale(0.015625)\"/>\n     </defs>\n     <use xlink:href=\"#DejaVuSans-49\"/>\n     <use xlink:href=\"#DejaVuSans-6c\" x=\"29.492188\"/>\n     <use xlink:href=\"#DejaVuSans-50\" x=\"57.275391\"/>\n     <use xlink:href=\"#DejaVuSans-6f\" x=\"113.953125\"/>\n     <use xlink:href=\"#DejaVuSans-73\" x=\"175.134766\"/>\n     <use xlink:href=\"#DejaVuSans-74\" x=\"227.234375\"/>\n    </g>\n   </g>\n  </g>\n  <g id=\"text_19\">\n   <!-- lunghezze documenti -->\n   <g transform=\"translate(132.417188 17.837812) scale(0.14 -0.14)\">\n    <defs>\n     <path id=\"DejaVuSans-Bold-6c\" d=\"M 538 4863 \nL 1656 4863 \nL 1656 0 \nL 538 0 \nL 538 4863 \nz\n\" transform=\"scale(0.015625)\"/>\n     <path id=\"DejaVuSans-Bold-75\" d=\"M 500 1363 \nL 500 3500 \nL 1625 3500 \nL 1625 3150 \nQ 1625 2866 1622 2436 \nQ 1619 2006 1619 1863 \nQ 1619 1441 1641 1255 \nQ 1663 1069 1716 984 \nQ 1784 875 1895 815 \nQ 2006 756 2150 756 \nQ 2500 756 2700 1025 \nQ 2900 1294 2900 1772 \nL 2900 3500 \nL 4019 3500 \nL 4019 0 \nL 2900 0 \nL 2900 506 \nQ 2647 200 2364 54 \nQ 2081 -91 1741 -91 \nQ 1134 -91 817 281 \nQ 500 653 500 1363 \nz\n\" transform=\"scale(0.015625)\"/>\n     <path id=\"DejaVuSans-Bold-6e\" d=\"M 4056 2131 \nL 4056 0 \nL 2931 0 \nL 2931 347 \nL 2931 1631 \nQ 2931 2084 2911 2256 \nQ 2891 2428 2841 2509 \nQ 2775 2619 2662 2680 \nQ 2550 2741 2406 2741 \nQ 2056 2741 1856 2470 \nQ 1656 2200 1656 1722 \nL 1656 0 \nL 538 0 \nL 538 3500 \nL 1656 3500 \nL 1656 2988 \nQ 1909 3294 2193 3439 \nQ 2478 3584 2822 3584 \nQ 3428 3584 3742 3212 \nQ 4056 2841 4056 2131 \nz\n\" transform=\"scale(0.015625)\"/>\n     <path id=\"DejaVuSans-Bold-67\" d=\"M 2919 594 \nQ 2688 288 2409 144 \nQ 2131 0 1766 0 \nQ 1125 0 706 504 \nQ 288 1009 288 1791 \nQ 288 2575 706 3076 \nQ 1125 3578 1766 3578 \nQ 2131 3578 2409 3434 \nQ 2688 3291 2919 2981 \nL 2919 3500 \nL 4044 3500 \nL 4044 353 \nQ 4044 -491 3511 -936 \nQ 2978 -1381 1966 -1381 \nQ 1638 -1381 1331 -1331 \nQ 1025 -1281 716 -1178 \nL 716 -306 \nQ 1009 -475 1290 -558 \nQ 1572 -641 1856 -641 \nQ 2406 -641 2662 -400 \nQ 2919 -159 2919 353 \nL 2919 594 \nz\nM 2181 2772 \nQ 1834 2772 1640 2515 \nQ 1447 2259 1447 1791 \nQ 1447 1309 1634 1061 \nQ 1822 813 2181 813 \nQ 2531 813 2725 1069 \nQ 2919 1325 2919 1791 \nQ 2919 2259 2725 2515 \nQ 2531 2772 2181 2772 \nz\n\" transform=\"scale(0.015625)\"/>\n     <path id=\"DejaVuSans-Bold-68\" d=\"M 4056 2131 \nL 4056 0 \nL 2931 0 \nL 2931 347 \nL 2931 1625 \nQ 2931 2084 2911 2256 \nQ 2891 2428 2841 2509 \nQ 2775 2619 2662 2680 \nQ 2550 2741 2406 2741 \nQ 2056 2741 1856 2470 \nQ 1656 2200 1656 1722 \nL 1656 0 \nL 538 0 \nL 538 4863 \nL 1656 4863 \nL 1656 2988 \nQ 1909 3294 2193 3439 \nQ 2478 3584 2822 3584 \nQ 3428 3584 3742 3212 \nQ 4056 2841 4056 2131 \nz\n\" transform=\"scale(0.015625)\"/>\n     <path id=\"DejaVuSans-Bold-65\" d=\"M 4031 1759 \nL 4031 1441 \nL 1416 1441 \nQ 1456 1047 1700 850 \nQ 1944 653 2381 653 \nQ 2734 653 3104 758 \nQ 3475 863 3866 1075 \nL 3866 213 \nQ 3469 63 3072 -14 \nQ 2675 -91 2278 -91 \nQ 1328 -91 801 392 \nQ 275 875 275 1747 \nQ 275 2603 792 3093 \nQ 1309 3584 2216 3584 \nQ 3041 3584 3536 3087 \nQ 4031 2591 4031 1759 \nz\nM 2881 2131 \nQ 2881 2450 2695 2645 \nQ 2509 2841 2209 2841 \nQ 1884 2841 1681 2658 \nQ 1478 2475 1428 2131 \nL 2881 2131 \nz\n\" transform=\"scale(0.015625)\"/>\n     <path id=\"DejaVuSans-Bold-7a\" d=\"M 366 3500 \nL 3419 3500 \nL 3419 2719 \nL 1575 800 \nL 3419 800 \nL 3419 0 \nL 288 0 \nL 288 781 \nL 2131 2700 \nL 366 2700 \nL 366 3500 \nz\n\" transform=\"scale(0.015625)\"/>\n     <path id=\"DejaVuSans-Bold-20\" transform=\"scale(0.015625)\"/>\n     <path id=\"DejaVuSans-Bold-64\" d=\"M 2919 2988 \nL 2919 4863 \nL 4044 4863 \nL 4044 0 \nL 2919 0 \nL 2919 506 \nQ 2688 197 2409 53 \nQ 2131 -91 1766 -91 \nQ 1119 -91 703 423 \nQ 288 938 288 1747 \nQ 288 2556 703 3070 \nQ 1119 3584 1766 3584 \nQ 2128 3584 2408 3439 \nQ 2688 3294 2919 2988 \nz\nM 2181 722 \nQ 2541 722 2730 984 \nQ 2919 1247 2919 1747 \nQ 2919 2247 2730 2509 \nQ 2541 2772 2181 2772 \nQ 1825 2772 1636 2509 \nQ 1447 2247 1447 1747 \nQ 1447 1247 1636 984 \nQ 1825 722 2181 722 \nz\n\" transform=\"scale(0.015625)\"/>\n     <path id=\"DejaVuSans-Bold-6f\" d=\"M 2203 2784 \nQ 1831 2784 1636 2517 \nQ 1441 2250 1441 1747 \nQ 1441 1244 1636 976 \nQ 1831 709 2203 709 \nQ 2569 709 2762 976 \nQ 2956 1244 2956 1747 \nQ 2956 2250 2762 2517 \nQ 2569 2784 2203 2784 \nz\nM 2203 3584 \nQ 3106 3584 3614 3096 \nQ 4122 2609 4122 1747 \nQ 4122 884 3614 396 \nQ 3106 -91 2203 -91 \nQ 1297 -91 786 396 \nQ 275 884 275 1747 \nQ 275 2609 786 3096 \nQ 1297 3584 2203 3584 \nz\n\" transform=\"scale(0.015625)\"/>\n     <path id=\"DejaVuSans-Bold-63\" d=\"M 3366 3391 \nL 3366 2478 \nQ 3138 2634 2908 2709 \nQ 2678 2784 2431 2784 \nQ 1963 2784 1702 2511 \nQ 1441 2238 1441 1747 \nQ 1441 1256 1702 982 \nQ 1963 709 2431 709 \nQ 2694 709 2930 787 \nQ 3166 866 3366 1019 \nL 3366 103 \nQ 3103 6 2833 -42 \nQ 2563 -91 2291 -91 \nQ 1344 -91 809 395 \nQ 275 881 275 1747 \nQ 275 2613 809 3098 \nQ 1344 3584 2291 3584 \nQ 2566 3584 2833 3536 \nQ 3100 3488 3366 3391 \nz\n\" transform=\"scale(0.015625)\"/>\n     <path id=\"DejaVuSans-Bold-6d\" d=\"M 3781 2919 \nQ 3994 3244 4286 3414 \nQ 4578 3584 4928 3584 \nQ 5531 3584 5847 3212 \nQ 6163 2841 6163 2131 \nL 6163 0 \nL 5038 0 \nL 5038 1825 \nQ 5041 1866 5042 1909 \nQ 5044 1953 5044 2034 \nQ 5044 2406 4934 2573 \nQ 4825 2741 4581 2741 \nQ 4263 2741 4089 2478 \nQ 3916 2216 3909 1719 \nL 3909 0 \nL 2784 0 \nL 2784 1825 \nQ 2784 2406 2684 2573 \nQ 2584 2741 2328 2741 \nQ 2006 2741 1831 2477 \nQ 1656 2213 1656 1722 \nL 1656 0 \nL 531 0 \nL 531 3500 \nL 1656 3500 \nL 1656 2988 \nQ 1863 3284 2130 3434 \nQ 2397 3584 2719 3584 \nQ 3081 3584 3359 3409 \nQ 3638 3234 3781 2919 \nz\n\" transform=\"scale(0.015625)\"/>\n     <path id=\"DejaVuSans-Bold-74\" d=\"M 1759 4494 \nL 1759 3500 \nL 2913 3500 \nL 2913 2700 \nL 1759 2700 \nL 1759 1216 \nQ 1759 972 1856 886 \nQ 1953 800 2241 800 \nL 2816 800 \nL 2816 0 \nL 1856 0 \nQ 1194 0 917 276 \nQ 641 553 641 1216 \nL 641 2700 \nL 84 2700 \nL 84 3500 \nL 641 3500 \nL 641 4494 \nL 1759 4494 \nz\n\" transform=\"scale(0.015625)\"/>\n     <path id=\"DejaVuSans-Bold-69\" d=\"M 538 3500 \nL 1656 3500 \nL 1656 0 \nL 538 0 \nL 538 3500 \nz\nM 538 4863 \nL 1656 4863 \nL 1656 3950 \nL 538 3950 \nL 538 4863 \nz\n\" transform=\"scale(0.015625)\"/>\n    </defs>\n    <use xlink:href=\"#DejaVuSans-Bold-6c\"/>\n    <use xlink:href=\"#DejaVuSans-Bold-75\" x=\"34.277344\"/>\n    <use xlink:href=\"#DejaVuSans-Bold-6e\" x=\"105.46875\"/>\n    <use xlink:href=\"#DejaVuSans-Bold-67\" x=\"176.660156\"/>\n    <use xlink:href=\"#DejaVuSans-Bold-68\" x=\"248.242188\"/>\n    <use xlink:href=\"#DejaVuSans-Bold-65\" x=\"319.433594\"/>\n    <use xlink:href=\"#DejaVuSans-Bold-7a\" x=\"387.255859\"/>\n    <use xlink:href=\"#DejaVuSans-Bold-7a\" x=\"445.458984\"/>\n    <use xlink:href=\"#DejaVuSans-Bold-65\" x=\"503.662109\"/>\n    <use xlink:href=\"#DejaVuSans-Bold-20\" x=\"571.484375\"/>\n    <use xlink:href=\"#DejaVuSans-Bold-64\" x=\"606.298828\"/>\n    <use xlink:href=\"#DejaVuSans-Bold-6f\" x=\"677.880859\"/>\n    <use xlink:href=\"#DejaVuSans-Bold-63\" x=\"746.582031\"/>\n    <use xlink:href=\"#DejaVuSans-Bold-75\" x=\"805.859375\"/>\n    <use xlink:href=\"#DejaVuSans-Bold-6d\" x=\"877.050781\"/>\n    <use xlink:href=\"#DejaVuSans-Bold-65\" x=\"981.25\"/>\n    <use xlink:href=\"#DejaVuSans-Bold-6e\" x=\"1049.072266\"/>\n    <use xlink:href=\"#DejaVuSans-Bold-74\" x=\"1120.263672\"/>\n    <use xlink:href=\"#DejaVuSans-Bold-69\" x=\"1168.066406\"/>\n   </g>\n  </g>\n </g>\n <defs>\n  <clipPath id=\"p495e077297\">\n   <rect x=\"43.78125\" y=\"52.128\" width=\"357.12\" height=\"255.744\"/>\n  </clipPath>\n </defs>\n</svg>\n",
            "application/pdf": "[encoded data removed]"
          },
          "metadata": {}
        }
      ],
      "source": [
        "ii = [i for i in range(0,500,6)]\n",
        "lunghezze_docu = [num_words(df_train['source'].iloc[i]) for i in range(df_train.shape[0])]\n",
        "\n",
        "fig = plt.figure()\n",
        "ax = fig.add_subplot()\n",
        "fig.subplots_adjust(top=0.85)\n",
        "\n",
        "fig.suptitle('lunghezze documenti', fontsize=14, fontweight='bold')\n",
        "ax.set_title('IlPost')\n",
        "\n",
        "ax.set_xlabel('tokens')\n",
        "ax.set_ylabel('numero')\n",
        "\n",
        "#plt.style.use(['dark_background'])\n",
        "plt.hist(lunghezze_docu, bins=ii, color='c')\n",
        "plt.show()"
      ]
    },
    {
      "cell_type": "markdown",
      "source": [
        "#### Pre-processing"
      ],
      "metadata": {
        "id": "54dPB1wh-ZnR"
      }
    },
    {
      "cell_type": "markdown",
      "source": [
        "Necessaria prima della tokenizzazione una fase di pre processing dove il testo viene normalizzato attraverso la standardizzazione dei caratteri, vi è poi la rimozione dei tag di HTML, e la rimozione dei spazi bianchi."
      ],
      "metadata": {
        "id": "SAUknDHdn3Cq"
      }
    },
    {
      "cell_type": "code",
      "execution_count": null,
      "metadata": {
        "id": "4Ry2Vebf1EtM"
      },
      "outputs": [],
      "source": [
        "## Pre processing training set\n",
        "df_train = pd.read_csv(\"/content/drive/MyDrive/Prog_NLP/train.csv\")\n",
        "df_train.shape[0]\n",
        "clean_inputs = []\n",
        "clean_targets = []\n",
        "\n",
        "preproc = preprocessing.make_pipeline(\n",
        "     preprocessing.normalize.unicode,\n",
        "     preprocessing.remove.html_tags,\n",
        "     preprocessing.normalize.whitespace\n",
        ")\n",
        "\n",
        "# apply to dataset elements\n",
        "clean_inputs = [preproc(df_train[\"source\"].iloc[i]) for i in range(df_train.shape[0])]\n",
        "clean_targets = [preproc(df_train[\"target\"].iloc[i]) for i in range(df_train.shape[0])]\n",
        "df_train = pd.DataFrame({\"source\": clean_inputs, \"target\": clean_targets})"
      ]
    },
    {
      "cell_type": "code",
      "execution_count": null,
      "metadata": {
        "id": "iYfJQ2MY1r-D"
      },
      "outputs": [],
      "source": [
        "## Pre processing test set\n",
        "df_test = pd.read_csv(\"/content/drive/MyDrive/Prog_NLP/test.csv\")\n",
        "df_test.shape[0]\n",
        "clean_inputs = []\n",
        "clean_targets = []\n",
        "\n",
        "preproc = preprocessing.make_pipeline(\n",
        "     preprocessing.normalize.unicode,\n",
        "     preprocessing.remove.html_tags,\n",
        "     preprocessing.normalize.whitespace\n",
        ")\n",
        "\n",
        "# apply to dataset elements\n",
        "clean_inputs = [preproc(df_test[\"source\"].iloc[i]) for i in range(df_test.shape[0])]\n",
        "clean_targets = [preproc(df_test[\"target\"].iloc[i]) for i in range(df_test.shape[0])]\n",
        "df_test = pd.DataFrame({\"source\": clean_inputs, \"target\": clean_targets})"
      ]
    },
    {
      "cell_type": "code",
      "execution_count": null,
      "metadata": {
        "id": "aEVpGgcM1j1b"
      },
      "outputs": [],
      "source": [
        "df_train.to_csv(\"/content/drive/MyDrive/Prog_NLP/train_clean.csv\", sep=',', index=False)\n",
        "df_test.to_csv(\"/content/drive/MyDrive/Prog_NLP/test_clean.csv\", sep=',', index=False)"
      ]
    },
    {
      "cell_type": "markdown",
      "metadata": {
        "id": "QfS0GWi_u6vM"
      },
      "source": [
        "## **Addestramento modello**"
      ]
    },
    {
      "cell_type": "markdown",
      "source": [
        "In questa parte di codice viene importato il modello pre-addestrato MBART dalla pagina web HuggingFace, al link: https://huggingface.co/ARTeLab/mbart-summarization-ilpost.\n",
        "\n",
        "Successivamente viene addestrato attraverso il dataset costruito nei cunck precedenti attraverso lo scraping della pagina web IlPost."
      ],
      "metadata": {
        "id": "-HsofEW6pQsc"
      }
    },
    {
      "cell_type": "markdown",
      "metadata": {
        "id": "iICnp9FLMiIb"
      },
      "source": [
        "#### Importiamo il modello pre-addestrato"
      ]
    },
    {
      "cell_type": "code",
      "execution_count": null,
      "metadata": {
        "colab": {
          "base_uri": "https://localhost:8080/",
          "height": 209,
          "referenced_widgets": [
            "d3a8d4c861514adcae38ce30fba419c4",
            "5d547c53c41a457cbce77894d0a7293d",
            "64fba2533b344aab861945f158997db0",
            "d210298eb3d14fb7958b534f4bfce420",
            "3ec05d536eac41df8ab9970bc8a583e3",
            "4d09c35b7a31415797f96de8a34da48e",
            "b041608c476c4fc3956edaa4b1f78563",
            "fd6702e2063c485cb7da123b18c72574",
            "6e4219a39f484ff49d9ce664db503a1d",
            "84bae4472ac946a0ab619bef09de2d30",
            "8747309fc4a7423eb4422f86c33fd5ab",
            "2b55cd113b624ac0b2cc59754b3fc051",
            "d75c61d4b99b41ae8b291a2ec5ac549b",
            "8c9871d89e8840eb8fb10d3ab4cac084",
            "315c594718d04217a1c676fd4b0a6206",
            "77ca91695762487995171980d957e5e8",
            "12c7d88714a84b6daa5777917fdaa736",
            "d6eed16fbe6b45ae8afe0c8a68bd2a36",
            "ad1053d3fee44d60b9ee4fbbd013b0fb",
            "00100b0e37d546a0b68e661777ca2ac6",
            "9ebb0847337546038893ecdba7cc4119",
            "240eb1a617bf4849a8a2daf7d31544f1",
            "af68eaecd7e14423a57d004479b56c81",
            "6fee2483f64a472fb4d37eff930523fa",
            "d1734d04234942199dcde301c48bbea7",
            "4ff265ea1bd548058c593d17178f41d1",
            "c6e08aa6a396493c80746bdb3fdd7e31",
            "ccca45ee9226497d88aefb168e1b9328",
            "83b6e72e47b14be9816a5f90e8875d3f",
            "fe883d84519f4e0c8c08416c07517575",
            "b4ac5ae8ad2c4e58b9d4d5ed89ee76af",
            "eb4b6c33ba0a4a95b5deef9dea69b84f",
            "770e8ec3ea84446a8e974a0935b0db20",
            "b8ed368c3c7e440db37088d109689611",
            "bb1756a59bcc4d778f63d538c42ffa02",
            "0e378ee5eca54897b5c5182d60feab52",
            "af73fbe9f3004add98edf9b15e379d45",
            "fdb46875c65f4f45bb31b51deb512f99",
            "fb81b86bd9e443719edfd54bc9e79abb",
            "14715f73613645b89ea598763223f0e2",
            "0232b5f81bdf4e5eb2b11eecb3918d1c",
            "67c2dff3925f4e9ca44e558fc3aad993",
            "dc573de72b174e09a1508b932f72a184",
            "cb61a1df57ce4d36995f8d430c2f70c6",
            "8c14ca0bdb8448a097c5234c1131036a",
            "b60c90f748ba461689f3b842955c481f",
            "078d587a93b8467ea2c0b1f0ed72f365",
            "848e10e8fb5648db965b3b578444b2ab",
            "f1ef8a234bae4540b8480abb35861ffb",
            "937cb7c473f843828663f74e1833c8e3",
            "0dc79a2bf5324972b92bde4d10d66719",
            "11f8dcaa84e94e28abde36a3a6f66d85",
            "71f47dbd9049405aba6e4fb5d39b42d5",
            "4fd43572dc484619af5a769914770a0e",
            "4e55814b03de4b8e9e5eec61e2f581af",
            "0101c333417d47c1b1df7cb142dd6012",
            "2ab9251f189f479f891aa41028b51731",
            "866e6b241ae74ad695625c565d4ecab8",
            "25deda9b9ed54e52a8832c5a79210069",
            "b434e25207c241d29c9431280451ad43",
            "8f24f595ecce4b8b930bcecb14cb7e33",
            "26e9345f99904ddd82044ab5d0749e70",
            "d64d7e99e84947bd856224225bc71ae1",
            "7e0d003b0ae94f9a8ec72225869bce4b",
            "efaf2b984b874a7eac018ffd0c04a61b",
            "3c10d0b490a54116b18f2b03748530ae"
          ]
        },
        "id": "CUg3-40kvHpC",
        "outputId": "a120aa4d-29ff-49ba-a47e-1de186b19146"
      },
      "outputs": [
        {
          "output_type": "display_data",
          "data": {
            "text/plain": [
              "tokenizer_config.json:   0%|          | 0.00/474 [00:00<?, ?B/s]"
            ],
            "application/vnd.jupyter.widget-view+json": {
              "version_major": 2,
              "version_minor": 0,
              "model_id": "d3a8d4c861514adcae38ce30fba419c4"
            }
          },
          "metadata": {}
        },
        {
          "output_type": "display_data",
          "data": {
            "text/plain": [
              "sentencepiece.bpe.model:   0%|          | 0.00/5.07M [00:00<?, ?B/s]"
            ],
            "application/vnd.jupyter.widget-view+json": {
              "version_major": 2,
              "version_minor": 0,
              "model_id": "2b55cd113b624ac0b2cc59754b3fc051"
            }
          },
          "metadata": {}
        },
        {
          "output_type": "display_data",
          "data": {
            "text/plain": [
              "special_tokens_map.json:   0%|          | 0.00/495 [00:00<?, ?B/s]"
            ],
            "application/vnd.jupyter.widget-view+json": {
              "version_major": 2,
              "version_minor": 0,
              "model_id": "af68eaecd7e14423a57d004479b56c81"
            }
          },
          "metadata": {}
        },
        {
          "output_type": "display_data",
          "data": {
            "text/plain": [
              "tokenizer.json:   0%|          | 0.00/9.08M [00:00<?, ?B/s]"
            ],
            "application/vnd.jupyter.widget-view+json": {
              "version_major": 2,
              "version_minor": 0,
              "model_id": "b8ed368c3c7e440db37088d109689611"
            }
          },
          "metadata": {}
        },
        {
          "output_type": "display_data",
          "data": {
            "text/plain": [
              "config.json:   0%|          | 0.00/1.43k [00:00<?, ?B/s]"
            ],
            "application/vnd.jupyter.widget-view+json": {
              "version_major": 2,
              "version_minor": 0,
              "model_id": "8c14ca0bdb8448a097c5234c1131036a"
            }
          },
          "metadata": {}
        },
        {
          "output_type": "display_data",
          "data": {
            "text/plain": [
              "model.safetensors:   0%|          | 0.00/2.44G [00:00<?, ?B/s]"
            ],
            "application/vnd.jupyter.widget-view+json": {
              "version_major": 2,
              "version_minor": 0,
              "model_id": "0101c333417d47c1b1df7cb142dd6012"
            }
          },
          "metadata": {}
        }
      ],
      "source": [
        "from transformers import MBartTokenizer, MBartForConditionalGeneration\n",
        "tokenizer = MBartTokenizer.from_pretrained(\"ARTeLab/mbart-summarization-ilpost\")\n",
        "model = MBartForConditionalGeneration.from_pretrained(\"ARTeLab/mbart-summarization-ilpost\")"
      ]
    },
    {
      "cell_type": "markdown",
      "source": [
        "#### Addestramento del modello"
      ],
      "metadata": {
        "id": "ResnkptDqBbp"
      }
    },
    {
      "cell_type": "markdown",
      "metadata": {
        "id": "daXlo3yNBMBX"
      },
      "source": [
        "Iper-prametri utilizzati nei try\n",
        "\n",
        "Sono stati segnati gli iperparametri modificati durante l'addestramento, il numero limitato di tentativi di fine-tuning è dovuto dal temine dei crediti di Colab.\n",
        "\n",
        "**Primo Dataset 80 train, 20 test**\n",
        "\n",
        "1| batch=8, lr=1e-6, epoch=5\n",
        "\n",
        "2| batch=16, lr=1e-6, epoch=5\n",
        "\n",
        "3| batch=4, lr=1e-6, epoch=5\n",
        "\n",
        "4| batch=2, lr=1e-6, epoch=5\n",
        "\n",
        "5| batch=2, lr=1e-6, epoch=10 BEST TRY\n",
        "\n",
        "**Nuovo Dataset 160 train, 40 test**\n",
        "\n",
        "6| batch=2, lr=1e-6, epoch=10 BEST TRY\n",
        "\n",
        "7| batch=2, lr=1e-5, epoch=10\n"
      ]
    },
    {
      "cell_type": "code",
      "execution_count": null,
      "metadata": {
        "colab": {
          "base_uri": "https://localhost:8080/"
        },
        "id": "EpmsFLIajkNp",
        "outputId": "e2445d96-716d-4bed-c2da-f2a52d31f9d5"
      },
      "outputs": [
        {
          "metadata": {
            "tags": null
          },
          "name": "stderr",
          "output_type": "stream",
          "text": [
            ""
          ]
        },
        {
          "metadata": {
            "tags": null
          },
          "name": "stdout",
          "output_type": "stream",
          "text": [
            "Epoch 1/10, Average Loss: 3.2964\n"
          ]
        },
        {
          "metadata": {
            "tags": null
          },
          "name": "stderr",
          "output_type": "stream",
          "text": [
            ""
          ]
        },
        {
          "metadata": {
            "tags": null
          },
          "name": "stdout",
          "output_type": "stream",
          "text": [
            "Epoch 2/10, Average Loss: 1.5096\n"
          ]
        },
        {
          "metadata": {
            "tags": null
          },
          "name": "stderr",
          "output_type": "stream",
          "text": [
            ""
          ]
        },
        {
          "metadata": {
            "tags": null
          },
          "name": "stdout",
          "output_type": "stream",
          "text": [
            "Epoch 3/10, Average Loss: 0.8434\n"
          ]
        },
        {
          "metadata": {
            "tags": null
          },
          "name": "stderr",
          "output_type": "stream",
          "text": [
            ""
          ]
        },
        {
          "metadata": {
            "tags": null
          },
          "name": "stdout",
          "output_type": "stream",
          "text": [
            "Epoch 4/10, Average Loss: 0.6036\n"
          ]
        },
        {
          "metadata": {
            "tags": null
          },
          "name": "stderr",
          "output_type": "stream",
          "text": [
            ""
          ]
        },
        {
          "metadata": {
            "tags": null
          },
          "name": "stdout",
          "output_type": "stream",
          "text": [
            "Epoch 5/10, Average Loss: 0.4193\n"
          ]
        },
        {
          "metadata": {
            "tags": null
          },
          "name": "stderr",
          "output_type": "stream",
          "text": [
            ""
          ]
        },
        {
          "metadata": {
            "tags": null
          },
          "name": "stdout",
          "output_type": "stream",
          "text": [
            "Epoch 6/10, Average Loss: 0.3243\n"
          ]
        },
        {
          "metadata": {
            "tags": null
          },
          "name": "stderr",
          "output_type": "stream",
          "text": [
            ""
          ]
        },
        {
          "metadata": {
            "tags": null
          },
          "name": "stdout",
          "output_type": "stream",
          "text": [
            "Epoch 7/10, Average Loss: 0.2443\n"
          ]
        },
        {
          "metadata": {
            "tags": null
          },
          "name": "stderr",
          "output_type": "stream",
          "text": [
            ""
          ]
        },
        {
          "metadata": {
            "tags": null
          },
          "name": "stdout",
          "output_type": "stream",
          "text": [
            "Epoch 8/10, Average Loss: 0.1539\n"
          ]
        },
        {
          "metadata": {
            "tags": null
          },
          "name": "stderr",
          "output_type": "stream",
          "text": [
            ""
          ]
        },
        {
          "metadata": {
            "tags": null
          },
          "name": "stdout",
          "output_type": "stream",
          "text": [
            "Epoch 9/10, Average Loss: 0.1060\n"
          ]
        },
        {
          "metadata": {
            "tags": null
          },
          "name": "stderr",
          "output_type": "stream",
          "text": [
            ""
          ]
        },
        {
          "metadata": {
            "tags": null
          },
          "name": "stdout",
          "output_type": "stream",
          "text": [
            "Epoch 10/10, Average Loss: 0.0757\n"
          ]
        }
      ],
      "source": [
        "import torch\n",
        "from torch.utils.data import DataLoader, TensorDataset\n",
        "\n",
        "train = pd.read_csv(\"/content/drive/MyDrive/Prog_NLP/train_clean.csv\")\n",
        "test = pd.read_csv(\"/content/drive/MyDrive/Prog_NLP/test_clean.csv\")\n",
        "\n",
        "train_texts = list(train[\"source\"])\n",
        "train_targets = list(train[\"target\"])\n",
        "\n",
        "test_texts = list(test[\"source\"])\n",
        "test_targets = list(test[\"target\"])\n",
        "\n",
        "\n",
        "# Tokenizzazione dei dati\n",
        "\n",
        "train_inputs = tokenizer(train_texts, return_tensors=\"pt\", padding=True, truncation=True)\n",
        "train_labels = tokenizer(train_targets, return_tensors=\"pt\", padding=True, truncation=True)\n",
        "\n",
        "test_inputs = tokenizer(test_texts, return_tensors=\"pt\", padding=True, truncation=True)\n",
        "test_labels = tokenizer(test_targets, return_tensors=\"pt\", padding=True, truncation=True)\n",
        "\n",
        "\n",
        "# Crea il dataset PyTorch\n",
        "train_dataset = TensorDataset(train_inputs[\"input_ids\"], train_labels[\"input_ids\"])\n",
        "test_dataset = TensorDataset(test_inputs[\"input_ids\"], test_labels[\"input_ids\"])\n",
        "# Crea il dataloader per il training\n",
        "batch_size = 2\n",
        "train_dataloader = DataLoader(train_dataset, batch_size=batch_size, shuffle=True)\n",
        "test_dataloader = DataLoader(test_dataset, batch_size=batch_size, shuffle=True)\n",
        "\n",
        "# Definisci l'ottimizzatore, la loss function e altri parametri di addestramento\n",
        "optimizer = torch.optim.Adam(model.parameters(), lr=1e-5)\n",
        "criterion = torch.nn.CrossEntropyLoss()\n",
        "\n",
        "loss_media_train = []\n",
        "\n",
        "# Addestra il modello\n",
        "num_epochs = 10\n",
        "for epoch in range(num_epochs):\n",
        "    model.train()\n",
        "    total_loss = 0.0\n",
        "    for batch in tqdm(train_dataloader, desc=f'Epoch {epoch + 1}/{num_epochs}', leave=False):\n",
        "        inputs = batch[0]\n",
        "        labels = batch[1]\n",
        "\n",
        "        optimizer.zero_grad()\n",
        "        outputs = model(inputs, labels=labels)\n",
        "        loss = outputs.loss\n",
        "        loss.backward()\n",
        "        optimizer.step()\n",
        "        total_loss += loss.item()\n",
        "    average_loss = total_loss / len(train_dataloader)\n",
        "    loss_media_train.append(average_loss)\n",
        "    print(f'Epoch {epoch + 1}/{num_epochs}, Average Loss: {average_loss:.4f}')\n",
        "\n",
        "model.eval()\n",
        "predictions = []\n",
        "references = []\n",
        "\n",
        "with torch.no_grad():\n",
        "    for batch in test_dataloader:\n",
        "        inputs = batch[0]\n",
        "        labels = batch[1]\n",
        "\n",
        "        outputs = model.generate(inputs)\n",
        "\n",
        "        # Decodifica le predizioni e i riferimenti\n",
        "        predicted_texts = tokenizer.batch_decode(outputs, skip_special_tokens=True)\n",
        "        target_texts = tokenizer.batch_decode(labels, skip_special_tokens=True)\n",
        "\n",
        "        # Aggiungi le predizioni e i riferimenti alle liste\n",
        "        predictions.extend(predicted_texts)\n",
        "        references.extend(target_texts)"
      ]
    },
    {
      "cell_type": "code",
      "execution_count": null,
      "metadata": {
        "id": "FNl2pZESTl5u"
      },
      "outputs": [],
      "source": [
        "# Salvataggio del modello\n",
        "torch.save(model.state_dict(), '/content/drive/MyDrive/Prog_NLP/tesxsumm_bert.pkl')"
      ]
    },
    {
      "cell_type": "markdown",
      "metadata": {
        "id": "UjhIKcIlHdww"
      },
      "source": [
        "#### **Grafico andamento loss**"
      ]
    },
    {
      "cell_type": "markdown",
      "metadata": {
        "id": "AzClVqspTR4D"
      },
      "source": [
        "#### **Curve di Loss**\n",
        "\n",
        "Questo ti darà un'indicazione di come la loss cambia durante l'addestramento per il set di training. La curva di loss del training decresce costantemente.\n",
        "Questo indica che il modello sta imparando bene dai dati di training. Purtroppo la curva non arriva in un punto in cui termina di decrescere, ma a causa della limitazione nei crediti di Colab non è stato possibile utilizzare l'early stopping per terminare l'addestramento quando la loss per le epoche era la stessa."
      ]
    },
    {
      "cell_type": "code",
      "execution_count": null,
      "metadata": {
        "colab": {
          "base_uri": "https://localhost:8080/",
          "height": 557
        },
        "id": "o5QKK44TTJsq",
        "outputId": "a52a4a57-cfc7-4235-8d74-bdbae1dabb22"
      },
      "outputs": [
        {
          "data": {
            "application/pdf": "[encoded data removed]",
            "image/svg+xml": "<?xml version=\"1.0\" encoding=\"utf-8\" standalone=\"no\"?>\n<!DOCTYPE svg PUBLIC \"-//W3C//DTD SVG 1.1//EN\"\n  \"http://www.w3.org/Graphics/SVG/1.1/DTD/svg11.dtd\">\n<svg xmlns:xlink=\"http://www.w3.org/1999/xlink\" width=\"616.033125pt\" height=\"401.360625pt\" viewBox=\"0 0 616.033125 401.360625\" xmlns=\"http://www.w3.org/2000/svg\" version=\"1.1\">\n <metadata>\n  <rdf:RDF xmlns:dc=\"http://purl.org/dc/elements/1.1/\" xmlns:cc=\"http://creativecommons.org/ns#\" xmlns:rdf=\"http://www.w3.org/1999/02/22-rdf-syntax-ns#\">\n   <cc:Work>\n    <dc:type rdf:resource=\"http://purl.org/dc/dcmitype/StillImage\"/>\n    <dc:date>2024-01-02T20:26:11.126432</dc:date>\n    <dc:format>image/svg+xml</dc:format>\n    <dc:creator>\n     <cc:Agent>\n      <dc:title>Matplotlib v3.7.1, https://matplotlib.org/</dc:title>\n     </cc:Agent>\n    </dc:creator>\n   </cc:Work>\n  </rdf:RDF>\n </metadata>\n <defs>\n  <style type=\"text/css\">*{stroke-linejoin: round; stroke-linecap: butt}</style>\n </defs>\n <g id=\"figure_1\">\n  <g id=\"patch_1\">\n   <path d=\"M 0 401.360625 \nL 616.033125 401.360625 \nL 616.033125 0 \nL 0 0 \nz\n\" style=\"fill: #ffffff\"/>\n  </g>\n  <g id=\"axes_1\">\n   <g id=\"patch_2\">\n    <path d=\"M 50.833125 357.9975 \nL 608.833125 357.9975 \nL 608.833125 25.3575 \nL 50.833125 25.3575 \nz\n\" style=\"fill: #ffffff\"/>\n   </g>\n   <g id=\"matplotlib.axis_1\">\n    <g id=\"xtick_1\">\n     <g id=\"line2d_1\">\n      <path d=\"M 76.196761 357.9975 \nL 76.196761 25.3575 \n\" clip-path=\"url(#pc44947b337)\" style=\"fill: none; stroke-dasharray: 2.96,1.28; stroke-dashoffset: 0; stroke: #b0b0b0; stroke-opacity: 0.6; stroke-width: 0.8\"/>\n     </g>\n     <g id=\"line2d_2\">\n      <defs>\n       <path id=\"m748ca43b0a\" d=\"M 0 0 \nL 0 3.5 \n\" style=\"stroke: #000000; stroke-width: 0.8\"/>\n      </defs>\n      <g>\n       <use xlink:href=\"#m748ca43b0a\" x=\"76.196761\" y=\"357.9975\" style=\"stroke: #000000; stroke-width: 0.8\"/>\n      </g>\n     </g>\n     <g id=\"text_1\">\n      <!-- 0 -->\n      <g transform=\"translate(72.379261 374.115625) scale(0.12 -0.12)\">\n       <defs>\n        <path id=\"DejaVuSans-30\" d=\"M 2034 4250 \nQ 1547 4250 1301 3770 \nQ 1056 3291 1056 2328 \nQ 1056 1369 1301 889 \nQ 1547 409 2034 409 \nQ 2525 409 2770 889 \nQ 3016 1369 3016 2328 \nQ 3016 3291 2770 3770 \nQ 2525 4250 2034 4250 \nz\nM 2034 4750 \nQ 2819 4750 3233 4129 \nQ 3647 3509 3647 2328 \nQ 3647 1150 3233 529 \nQ 2819 -91 2034 -91 \nQ 1250 -91 836 529 \nQ 422 1150 422 2328 \nQ 422 3509 836 4129 \nQ 1250 4750 2034 4750 \nz\n\" transform=\"scale(0.015625)\"/>\n       </defs>\n       <use xlink:href=\"#DejaVuSans-30\"/>\n      </g>\n     </g>\n    </g>\n    <g id=\"xtick_2\">\n     <g id=\"line2d_3\">\n      <path d=\"M 188.924034 357.9975 \nL 188.924034 25.3575 \n\" clip-path=\"url(#pc44947b337)\" style=\"fill: none; stroke-dasharray: 2.96,1.28; stroke-dashoffset: 0; stroke: #b0b0b0; stroke-opacity: 0.6; stroke-width: 0.8\"/>\n     </g>\n     <g id=\"line2d_4\">\n      <g>\n       <use xlink:href=\"#m748ca43b0a\" x=\"188.924034\" y=\"357.9975\" style=\"stroke: #000000; stroke-width: 0.8\"/>\n      </g>\n     </g>\n     <g id=\"text_2\">\n      <!-- 2 -->\n      <g transform=\"translate(185.106534 374.115625) scale(0.12 -0.12)\">\n       <defs>\n        <path id=\"DejaVuSans-32\" d=\"M 1228 531 \nL 3431 531 \nL 3431 0 \nL 469 0 \nL 469 531 \nQ 828 903 1448 1529 \nQ 2069 2156 2228 2338 \nQ 2531 2678 2651 2914 \nQ 2772 3150 2772 3378 \nQ 2772 3750 2511 3984 \nQ 2250 4219 1831 4219 \nQ 1534 4219 1204 4116 \nQ 875 4013 500 3803 \nL 500 4441 \nQ 881 4594 1212 4672 \nQ 1544 4750 1819 4750 \nQ 2544 4750 2975 4387 \nQ 3406 4025 3406 3419 \nQ 3406 3131 3298 2873 \nQ 3191 2616 2906 2266 \nQ 2828 2175 2409 1742 \nQ 1991 1309 1228 531 \nz\n\" transform=\"scale(0.015625)\"/>\n       </defs>\n       <use xlink:href=\"#DejaVuSans-32\"/>\n      </g>\n     </g>\n    </g>\n    <g id=\"xtick_3\">\n     <g id=\"line2d_5\">\n      <path d=\"M 301.651307 357.9975 \nL 301.651307 25.3575 \n\" clip-path=\"url(#pc44947b337)\" style=\"fill: none; stroke-dasharray: 2.96,1.28; stroke-dashoffset: 0; stroke: #b0b0b0; stroke-opacity: 0.6; stroke-width: 0.8\"/>\n     </g>\n     <g id=\"line2d_6\">\n      <g>\n       <use xlink:href=\"#m748ca43b0a\" x=\"301.651307\" y=\"357.9975\" style=\"stroke: #000000; stroke-width: 0.8\"/>\n      </g>\n     </g>\n     <g id=\"text_3\">\n      <!-- 4 -->\n      <g transform=\"translate(297.833807 374.115625) scale(0.12 -0.12)\">\n       <defs>\n        <path id=\"DejaVuSans-34\" d=\"M 2419 4116 \nL 825 1625 \nL 2419 1625 \nL 2419 4116 \nz\nM 2253 4666 \nL 3047 4666 \nL 3047 1625 \nL 3713 1625 \nL 3713 1100 \nL 3047 1100 \nL 3047 0 \nL 2419 0 \nL 2419 1100 \nL 313 1100 \nL 313 1709 \nL 2253 4666 \nz\n\" transform=\"scale(0.015625)\"/>\n       </defs>\n       <use xlink:href=\"#DejaVuSans-34\"/>\n      </g>\n     </g>\n    </g>\n    <g id=\"xtick_4\">\n     <g id=\"line2d_7\">\n      <path d=\"M 414.37858 357.9975 \nL 414.37858 25.3575 \n\" clip-path=\"url(#pc44947b337)\" style=\"fill: none; stroke-dasharray: 2.96,1.28; stroke-dashoffset: 0; stroke: #b0b0b0; stroke-opacity: 0.6; stroke-width: 0.8\"/>\n     </g>\n     <g id=\"line2d_8\">\n      <g>\n       <use xlink:href=\"#m748ca43b0a\" x=\"414.37858\" y=\"357.9975\" style=\"stroke: #000000; stroke-width: 0.8\"/>\n      </g>\n     </g>\n     <g id=\"text_4\">\n      <!-- 6 -->\n      <g transform=\"translate(410.56108 374.115625) scale(0.12 -0.12)\">\n       <defs>\n        <path id=\"DejaVuSans-36\" d=\"M 2113 2584 \nQ 1688 2584 1439 2293 \nQ 1191 2003 1191 1497 \nQ 1191 994 1439 701 \nQ 1688 409 2113 409 \nQ 2538 409 2786 701 \nQ 3034 994 3034 1497 \nQ 3034 2003 2786 2293 \nQ 2538 2584 2113 2584 \nz\nM 3366 4563 \nL 3366 3988 \nQ 3128 4100 2886 4159 \nQ 2644 4219 2406 4219 \nQ 1781 4219 1451 3797 \nQ 1122 3375 1075 2522 \nQ 1259 2794 1537 2939 \nQ 1816 3084 2150 3084 \nQ 2853 3084 3261 2657 \nQ 3669 2231 3669 1497 \nQ 3669 778 3244 343 \nQ 2819 -91 2113 -91 \nQ 1303 -91 875 529 \nQ 447 1150 447 2328 \nQ 447 3434 972 4092 \nQ 1497 4750 2381 4750 \nQ 2619 4750 2861 4703 \nQ 3103 4656 3366 4563 \nz\n\" transform=\"scale(0.015625)\"/>\n       </defs>\n       <use xlink:href=\"#DejaVuSans-36\"/>\n      </g>\n     </g>\n    </g>\n    <g id=\"xtick_5\">\n     <g id=\"line2d_9\">\n      <path d=\"M 527.105852 357.9975 \nL 527.105852 25.3575 \n\" clip-path=\"url(#pc44947b337)\" style=\"fill: none; stroke-dasharray: 2.96,1.28; stroke-dashoffset: 0; stroke: #b0b0b0; stroke-opacity: 0.6; stroke-width: 0.8\"/>\n     </g>\n     <g id=\"line2d_10\">\n      <g>\n       <use xlink:href=\"#m748ca43b0a\" x=\"527.105852\" y=\"357.9975\" style=\"stroke: #000000; stroke-width: 0.8\"/>\n      </g>\n     </g>\n     <g id=\"text_5\">\n      <!-- 8 -->\n      <g transform=\"translate(523.288352 374.115625) scale(0.12 -0.12)\">\n       <defs>\n        <path id=\"DejaVuSans-38\" d=\"M 2034 2216 \nQ 1584 2216 1326 1975 \nQ 1069 1734 1069 1313 \nQ 1069 891 1326 650 \nQ 1584 409 2034 409 \nQ 2484 409 2743 651 \nQ 3003 894 3003 1313 \nQ 3003 1734 2745 1975 \nQ 2488 2216 2034 2216 \nz\nM 1403 2484 \nQ 997 2584 770 2862 \nQ 544 3141 544 3541 \nQ 544 4100 942 4425 \nQ 1341 4750 2034 4750 \nQ 2731 4750 3128 4425 \nQ 3525 4100 3525 3541 \nQ 3525 3141 3298 2862 \nQ 3072 2584 2669 2484 \nQ 3125 2378 3379 2068 \nQ 3634 1759 3634 1313 \nQ 3634 634 3220 271 \nQ 2806 -91 2034 -91 \nQ 1263 -91 848 271 \nQ 434 634 434 1313 \nQ 434 1759 690 2068 \nQ 947 2378 1403 2484 \nz\nM 1172 3481 \nQ 1172 3119 1398 2916 \nQ 1625 2713 2034 2713 \nQ 2441 2713 2670 2916 \nQ 2900 3119 2900 3481 \nQ 2900 3844 2670 4047 \nQ 2441 4250 2034 4250 \nQ 1625 4250 1398 4047 \nQ 1172 3844 1172 3481 \nz\n\" transform=\"scale(0.015625)\"/>\n       </defs>\n       <use xlink:href=\"#DejaVuSans-38\"/>\n      </g>\n     </g>\n    </g>\n    <g id=\"text_6\">\n     <!-- Loss -->\n     <g transform=\"translate(314.479062 391.249062) scale(0.14 -0.14)\">\n      <defs>\n       <path id=\"DejaVuSans-4c\" d=\"M 628 4666 \nL 1259 4666 \nL 1259 531 \nL 3531 531 \nL 3531 0 \nL 628 0 \nL 628 4666 \nz\n\" transform=\"scale(0.015625)\"/>\n       <path id=\"DejaVuSans-6f\" d=\"M 1959 3097 \nQ 1497 3097 1228 2736 \nQ 959 2375 959 1747 \nQ 959 1119 1226 758 \nQ 1494 397 1959 397 \nQ 2419 397 2687 759 \nQ 2956 1122 2956 1747 \nQ 2956 2369 2687 2733 \nQ 2419 3097 1959 3097 \nz\nM 1959 3584 \nQ 2709 3584 3137 3096 \nQ 3566 2609 3566 1747 \nQ 3566 888 3137 398 \nQ 2709 -91 1959 -91 \nQ 1206 -91 779 398 \nQ 353 888 353 1747 \nQ 353 2609 779 3096 \nQ 1206 3584 1959 3584 \nz\n\" transform=\"scale(0.015625)\"/>\n       <path id=\"DejaVuSans-73\" d=\"M 2834 3397 \nL 2834 2853 \nQ 2591 2978 2328 3040 \nQ 2066 3103 1784 3103 \nQ 1356 3103 1142 2972 \nQ 928 2841 928 2578 \nQ 928 2378 1081 2264 \nQ 1234 2150 1697 2047 \nL 1894 2003 \nQ 2506 1872 2764 1633 \nQ 3022 1394 3022 966 \nQ 3022 478 2636 193 \nQ 2250 -91 1575 -91 \nQ 1294 -91 989 -36 \nQ 684 19 347 128 \nL 347 722 \nQ 666 556 975 473 \nQ 1284 391 1588 391 \nQ 1994 391 2212 530 \nQ 2431 669 2431 922 \nQ 2431 1156 2273 1281 \nQ 2116 1406 1581 1522 \nL 1381 1569 \nQ 847 1681 609 1914 \nQ 372 2147 372 2553 \nQ 372 3047 722 3315 \nQ 1072 3584 1716 3584 \nQ 2034 3584 2315 3537 \nQ 2597 3491 2834 3397 \nz\n\" transform=\"scale(0.015625)\"/>\n      </defs>\n      <use xlink:href=\"#DejaVuSans-4c\"/>\n      <use xlink:href=\"#DejaVuSans-6f\" x=\"53.962891\"/>\n      <use xlink:href=\"#DejaVuSans-73\" x=\"115.144531\"/>\n      <use xlink:href=\"#DejaVuSans-73\" x=\"167.244141\"/>\n     </g>\n    </g>\n   </g>\n   <g id=\"matplotlib.axis_2\">\n    <g id=\"ytick_1\">\n     <g id=\"line2d_11\">\n      <path d=\"M 50.833125 349.987414 \nL 608.833125 349.987414 \n\" clip-path=\"url(#pc44947b337)\" style=\"fill: none; stroke-dasharray: 2.96,1.28; stroke-dashoffset: 0; stroke: #b0b0b0; stroke-opacity: 0.6; stroke-width: 0.8\"/>\n     </g>\n     <g id=\"line2d_12\">\n      <defs>\n       <path id=\"m8448e811b5\" d=\"M 0 0 \nL -3.5 0 \n\" style=\"stroke: #000000; stroke-width: 0.8\"/>\n      </defs>\n      <g>\n       <use xlink:href=\"#m8448e811b5\" x=\"50.833125\" y=\"349.987414\" style=\"stroke: #000000; stroke-width: 0.8\"/>\n      </g>\n     </g>\n     <g id=\"text_7\">\n      <!-- 0.0 -->\n      <g transform=\"translate(24.749375 354.546477) scale(0.12 -0.12)\">\n       <defs>\n        <path id=\"DejaVuSans-2e\" d=\"M 684 794 \nL 1344 794 \nL 1344 0 \nL 684 0 \nL 684 794 \nz\n\" transform=\"scale(0.015625)\"/>\n       </defs>\n       <use xlink:href=\"#DejaVuSans-30\"/>\n       <use xlink:href=\"#DejaVuSans-2e\" x=\"63.623047\"/>\n       <use xlink:href=\"#DejaVuSans-30\" x=\"95.410156\"/>\n      </g>\n     </g>\n    </g>\n    <g id=\"ytick_2\">\n     <g id=\"line2d_13\">\n      <path d=\"M 50.833125 303.040714 \nL 608.833125 303.040714 \n\" clip-path=\"url(#pc44947b337)\" style=\"fill: none; stroke-dasharray: 2.96,1.28; stroke-dashoffset: 0; stroke: #b0b0b0; stroke-opacity: 0.6; stroke-width: 0.8\"/>\n     </g>\n     <g id=\"line2d_14\">\n      <g>\n       <use xlink:href=\"#m8448e811b5\" x=\"50.833125\" y=\"303.040714\" style=\"stroke: #000000; stroke-width: 0.8\"/>\n      </g>\n     </g>\n     <g id=\"text_8\">\n      <!-- 0.5 -->\n      <g transform=\"translate(24.749375 307.599776) scale(0.12 -0.12)\">\n       <defs>\n        <path id=\"DejaVuSans-35\" d=\"M 691 4666 \nL 3169 4666 \nL 3169 4134 \nL 1269 4134 \nL 1269 2991 \nQ 1406 3038 1543 3061 \nQ 1681 3084 1819 3084 \nQ 2600 3084 3056 2656 \nQ 3513 2228 3513 1497 \nQ 3513 744 3044 326 \nQ 2575 -91 1722 -91 \nQ 1428 -91 1123 -41 \nQ 819 9 494 109 \nL 494 744 \nQ 775 591 1075 516 \nQ 1375 441 1709 441 \nQ 2250 441 2565 725 \nQ 2881 1009 2881 1497 \nQ 2881 1984 2565 2268 \nQ 2250 2553 1709 2553 \nQ 1456 2553 1204 2497 \nQ 953 2441 691 2322 \nL 691 4666 \nz\n\" transform=\"scale(0.015625)\"/>\n       </defs>\n       <use xlink:href=\"#DejaVuSans-30\"/>\n       <use xlink:href=\"#DejaVuSans-2e\" x=\"63.623047\"/>\n       <use xlink:href=\"#DejaVuSans-35\" x=\"95.410156\"/>\n      </g>\n     </g>\n    </g>\n    <g id=\"ytick_3\">\n     <g id=\"line2d_15\">\n      <path d=\"M 50.833125 256.094013 \nL 608.833125 256.094013 \n\" clip-path=\"url(#pc44947b337)\" style=\"fill: none; stroke-dasharray: 2.96,1.28; stroke-dashoffset: 0; stroke: #b0b0b0; stroke-opacity: 0.6; stroke-width: 0.8\"/>\n     </g>\n     <g id=\"line2d_16\">\n      <g>\n       <use xlink:href=\"#m8448e811b5\" x=\"50.833125\" y=\"256.094013\" style=\"stroke: #000000; stroke-width: 0.8\"/>\n      </g>\n     </g>\n     <g id=\"text_9\">\n      <!-- 1.0 -->\n      <g transform=\"translate(24.749375 260.653076) scale(0.12 -0.12)\">\n       <defs>\n        <path id=\"DejaVuSans-31\" d=\"M 794 531 \nL 1825 531 \nL 1825 4091 \nL 703 3866 \nL 703 4441 \nL 1819 4666 \nL 2450 4666 \nL 2450 531 \nL 3481 531 \nL 3481 0 \nL 794 0 \nL 794 531 \nz\n\" transform=\"scale(0.015625)\"/>\n       </defs>\n       <use xlink:href=\"#DejaVuSans-31\"/>\n       <use xlink:href=\"#DejaVuSans-2e\" x=\"63.623047\"/>\n       <use xlink:href=\"#DejaVuSans-30\" x=\"95.410156\"/>\n      </g>\n     </g>\n    </g>\n    <g id=\"ytick_4\">\n     <g id=\"line2d_17\">\n      <path d=\"M 50.833125 209.147312 \nL 608.833125 209.147312 \n\" clip-path=\"url(#pc44947b337)\" style=\"fill: none; stroke-dasharray: 2.96,1.28; stroke-dashoffset: 0; stroke: #b0b0b0; stroke-opacity: 0.6; stroke-width: 0.8\"/>\n     </g>\n     <g id=\"line2d_18\">\n      <g>\n       <use xlink:href=\"#m8448e811b5\" x=\"50.833125\" y=\"209.147312\" style=\"stroke: #000000; stroke-width: 0.8\"/>\n      </g>\n     </g>\n     <g id=\"text_10\">\n      <!-- 1.5 -->\n      <g transform=\"translate(24.749375 213.706375) scale(0.12 -0.12)\">\n       <use xlink:href=\"#DejaVuSans-31\"/>\n       <use xlink:href=\"#DejaVuSans-2e\" x=\"63.623047\"/>\n       <use xlink:href=\"#DejaVuSans-35\" x=\"95.410156\"/>\n      </g>\n     </g>\n    </g>\n    <g id=\"ytick_5\">\n     <g id=\"line2d_19\">\n      <path d=\"M 50.833125 162.200612 \nL 608.833125 162.200612 \n\" clip-path=\"url(#pc44947b337)\" style=\"fill: none; stroke-dasharray: 2.96,1.28; stroke-dashoffset: 0; stroke: #b0b0b0; stroke-opacity: 0.6; stroke-width: 0.8\"/>\n     </g>\n     <g id=\"line2d_20\">\n      <g>\n       <use xlink:href=\"#m8448e811b5\" x=\"50.833125\" y=\"162.200612\" style=\"stroke: #000000; stroke-width: 0.8\"/>\n      </g>\n     </g>\n     <g id=\"text_11\">\n      <!-- 2.0 -->\n      <g transform=\"translate(24.749375 166.759674) scale(0.12 -0.12)\">\n       <use xlink:href=\"#DejaVuSans-32\"/>\n       <use xlink:href=\"#DejaVuSans-2e\" x=\"63.623047\"/>\n       <use xlink:href=\"#DejaVuSans-30\" x=\"95.410156\"/>\n      </g>\n     </g>\n    </g>\n    <g id=\"ytick_6\">\n     <g id=\"line2d_21\">\n      <path d=\"M 50.833125 115.253911 \nL 608.833125 115.253911 \n\" clip-path=\"url(#pc44947b337)\" style=\"fill: none; stroke-dasharray: 2.96,1.28; stroke-dashoffset: 0; stroke: #b0b0b0; stroke-opacity: 0.6; stroke-width: 0.8\"/>\n     </g>\n     <g id=\"line2d_22\">\n      <g>\n       <use xlink:href=\"#m8448e811b5\" x=\"50.833125\" y=\"115.253911\" style=\"stroke: #000000; stroke-width: 0.8\"/>\n      </g>\n     </g>\n     <g id=\"text_12\">\n      <!-- 2.5 -->\n      <g transform=\"translate(24.749375 119.812974) scale(0.12 -0.12)\">\n       <use xlink:href=\"#DejaVuSans-32\"/>\n       <use xlink:href=\"#DejaVuSans-2e\" x=\"63.623047\"/>\n       <use xlink:href=\"#DejaVuSans-35\" x=\"95.410156\"/>\n      </g>\n     </g>\n    </g>\n    <g id=\"ytick_7\">\n     <g id=\"line2d_23\">\n      <path d=\"M 50.833125 68.30721 \nL 608.833125 68.30721 \n\" clip-path=\"url(#pc44947b337)\" style=\"fill: none; stroke-dasharray: 2.96,1.28; stroke-dashoffset: 0; stroke: #b0b0b0; stroke-opacity: 0.6; stroke-width: 0.8\"/>\n     </g>\n     <g id=\"line2d_24\">\n      <g>\n       <use xlink:href=\"#m8448e811b5\" x=\"50.833125\" y=\"68.30721\" style=\"stroke: #000000; stroke-width: 0.8\"/>\n      </g>\n     </g>\n     <g id=\"text_13\">\n      <!-- 3.0 -->\n      <g transform=\"translate(24.749375 72.866273) scale(0.12 -0.12)\">\n       <defs>\n        <path id=\"DejaVuSans-33\" d=\"M 2597 2516 \nQ 3050 2419 3304 2112 \nQ 3559 1806 3559 1356 \nQ 3559 666 3084 287 \nQ 2609 -91 1734 -91 \nQ 1441 -91 1130 -33 \nQ 819 25 488 141 \nL 488 750 \nQ 750 597 1062 519 \nQ 1375 441 1716 441 \nQ 2309 441 2620 675 \nQ 2931 909 2931 1356 \nQ 2931 1769 2642 2001 \nQ 2353 2234 1838 2234 \nL 1294 2234 \nL 1294 2753 \nL 1863 2753 \nQ 2328 2753 2575 2939 \nQ 2822 3125 2822 3475 \nQ 2822 3834 2567 4026 \nQ 2313 4219 1838 4219 \nQ 1578 4219 1281 4162 \nQ 984 4106 628 3988 \nL 628 4550 \nQ 988 4650 1302 4700 \nQ 1616 4750 1894 4750 \nQ 2613 4750 3031 4423 \nQ 3450 4097 3450 3541 \nQ 3450 3153 3228 2886 \nQ 3006 2619 2597 2516 \nz\n\" transform=\"scale(0.015625)\"/>\n       </defs>\n       <use xlink:href=\"#DejaVuSans-33\"/>\n       <use xlink:href=\"#DejaVuSans-2e\" x=\"63.623047\"/>\n       <use xlink:href=\"#DejaVuSans-30\" x=\"95.410156\"/>\n      </g>\n     </g>\n    </g>\n    <g id=\"text_14\">\n     <!-- Numero epoche -->\n     <g transform=\"translate(17.837812 247.330781) rotate(-90) scale(0.14 -0.14)\">\n      <defs>\n       <path id=\"DejaVuSans-4e\" d=\"M 628 4666 \nL 1478 4666 \nL 3547 763 \nL 3547 4666 \nL 4159 4666 \nL 4159 0 \nL 3309 0 \nL 1241 3903 \nL 1241 0 \nL 628 0 \nL 628 4666 \nz\n\" transform=\"scale(0.015625)\"/>\n       <path id=\"DejaVuSans-75\" d=\"M 544 1381 \nL 544 3500 \nL 1119 3500 \nL 1119 1403 \nQ 1119 906 1312 657 \nQ 1506 409 1894 409 \nQ 2359 409 2629 706 \nQ 2900 1003 2900 1516 \nL 2900 3500 \nL 3475 3500 \nL 3475 0 \nL 2900 0 \nL 2900 538 \nQ 2691 219 2414 64 \nQ 2138 -91 1772 -91 \nQ 1169 -91 856 284 \nQ 544 659 544 1381 \nz\nM 1991 3584 \nL 1991 3584 \nz\n\" transform=\"scale(0.015625)\"/>\n       <path id=\"DejaVuSans-6d\" d=\"M 3328 2828 \nQ 3544 3216 3844 3400 \nQ 4144 3584 4550 3584 \nQ 5097 3584 5394 3201 \nQ 5691 2819 5691 2113 \nL 5691 0 \nL 5113 0 \nL 5113 2094 \nQ 5113 2597 4934 2840 \nQ 4756 3084 4391 3084 \nQ 3944 3084 3684 2787 \nQ 3425 2491 3425 1978 \nL 3425 0 \nL 2847 0 \nL 2847 2094 \nQ 2847 2600 2669 2842 \nQ 2491 3084 2119 3084 \nQ 1678 3084 1418 2786 \nQ 1159 2488 1159 1978 \nL 1159 0 \nL 581 0 \nL 581 3500 \nL 1159 3500 \nL 1159 2956 \nQ 1356 3278 1631 3431 \nQ 1906 3584 2284 3584 \nQ 2666 3584 2933 3390 \nQ 3200 3197 3328 2828 \nz\n\" transform=\"scale(0.015625)\"/>\n       <path id=\"DejaVuSans-65\" d=\"M 3597 1894 \nL 3597 1613 \nL 953 1613 \nQ 991 1019 1311 708 \nQ 1631 397 2203 397 \nQ 2534 397 2845 478 \nQ 3156 559 3463 722 \nL 3463 178 \nQ 3153 47 2828 -22 \nQ 2503 -91 2169 -91 \nQ 1331 -91 842 396 \nQ 353 884 353 1716 \nQ 353 2575 817 3079 \nQ 1281 3584 2069 3584 \nQ 2775 3584 3186 3129 \nQ 3597 2675 3597 1894 \nz\nM 3022 2063 \nQ 3016 2534 2758 2815 \nQ 2500 3097 2075 3097 \nQ 1594 3097 1305 2825 \nQ 1016 2553 972 2059 \nL 3022 2063 \nz\n\" transform=\"scale(0.015625)\"/>\n       <path id=\"DejaVuSans-72\" d=\"M 2631 2963 \nQ 2534 3019 2420 3045 \nQ 2306 3072 2169 3072 \nQ 1681 3072 1420 2755 \nQ 1159 2438 1159 1844 \nL 1159 0 \nL 581 0 \nL 581 3500 \nL 1159 3500 \nL 1159 2956 \nQ 1341 3275 1631 3429 \nQ 1922 3584 2338 3584 \nQ 2397 3584 2469 3576 \nQ 2541 3569 2628 3553 \nL 2631 2963 \nz\n\" transform=\"scale(0.015625)\"/>\n       <path id=\"DejaVuSans-20\" transform=\"scale(0.015625)\"/>\n       <path id=\"DejaVuSans-70\" d=\"M 1159 525 \nL 1159 -1331 \nL 581 -1331 \nL 581 3500 \nL 1159 3500 \nL 1159 2969 \nQ 1341 3281 1617 3432 \nQ 1894 3584 2278 3584 \nQ 2916 3584 3314 3078 \nQ 3713 2572 3713 1747 \nQ 3713 922 3314 415 \nQ 2916 -91 2278 -91 \nQ 1894 -91 1617 61 \nQ 1341 213 1159 525 \nz\nM 3116 1747 \nQ 3116 2381 2855 2742 \nQ 2594 3103 2138 3103 \nQ 1681 3103 1420 2742 \nQ 1159 2381 1159 1747 \nQ 1159 1113 1420 752 \nQ 1681 391 2138 391 \nQ 2594 391 2855 752 \nQ 3116 1113 3116 1747 \nz\n\" transform=\"scale(0.015625)\"/>\n       <path id=\"DejaVuSans-63\" d=\"M 3122 3366 \nL 3122 2828 \nQ 2878 2963 2633 3030 \nQ 2388 3097 2138 3097 \nQ 1578 3097 1268 2742 \nQ 959 2388 959 1747 \nQ 959 1106 1268 751 \nQ 1578 397 2138 397 \nQ 2388 397 2633 464 \nQ 2878 531 3122 666 \nL 3122 134 \nQ 2881 22 2623 -34 \nQ 2366 -91 2075 -91 \nQ 1284 -91 818 406 \nQ 353 903 353 1747 \nQ 353 2603 823 3093 \nQ 1294 3584 2113 3584 \nQ 2378 3584 2631 3529 \nQ 2884 3475 3122 3366 \nz\n\" transform=\"scale(0.015625)\"/>\n       <path id=\"DejaVuSans-68\" d=\"M 3513 2113 \nL 3513 0 \nL 2938 0 \nL 2938 2094 \nQ 2938 2591 2744 2837 \nQ 2550 3084 2163 3084 \nQ 1697 3084 1428 2787 \nQ 1159 2491 1159 1978 \nL 1159 0 \nL 581 0 \nL 581 4863 \nL 1159 4863 \nL 1159 2956 \nQ 1366 3272 1645 3428 \nQ 1925 3584 2291 3584 \nQ 2894 3584 3203 3211 \nQ 3513 2838 3513 2113 \nz\n\" transform=\"scale(0.015625)\"/>\n      </defs>\n      <use xlink:href=\"#DejaVuSans-4e\"/>\n      <use xlink:href=\"#DejaVuSans-75\" x=\"74.804688\"/>\n      <use xlink:href=\"#DejaVuSans-6d\" x=\"138.183594\"/>\n      <use xlink:href=\"#DejaVuSans-65\" x=\"235.595703\"/>\n      <use xlink:href=\"#DejaVuSans-72\" x=\"297.119141\"/>\n      <use xlink:href=\"#DejaVuSans-6f\" x=\"335.982422\"/>\n      <use xlink:href=\"#DejaVuSans-20\" x=\"397.164062\"/>\n      <use xlink:href=\"#DejaVuSans-65\" x=\"428.951172\"/>\n      <use xlink:href=\"#DejaVuSans-70\" x=\"490.474609\"/>\n      <use xlink:href=\"#DejaVuSans-6f\" x=\"553.951172\"/>\n      <use xlink:href=\"#DejaVuSans-63\" x=\"615.132812\"/>\n      <use xlink:href=\"#DejaVuSans-68\" x=\"670.113281\"/>\n      <use xlink:href=\"#DejaVuSans-65\" x=\"733.492188\"/>\n     </g>\n    </g>\n   </g>\n   <g id=\"line2d_25\">\n    <path d=\"M 76.196761 40.4775 \nL 132.560398 208.247917 \nL 188.924034 270.79878 \nL 245.28767 293.310799 \nL 301.651307 310.619001 \nL 358.014943 319.535222 \nL 414.37858 327.053625 \nL 470.742216 335.536067 \nL 527.105852 340.036341 \nL 583.469489 342.8775 \n\" clip-path=\"url(#pc44947b337)\" style=\"fill: none; stroke: #0000ff; stroke-width: 1.5; stroke-linecap: square\"/>\n   </g>\n   <g id=\"line2d_26\">\n    <path d=\"M 50.833125 278.849275 \nL 608.833125 278.849275 \n\" clip-path=\"url(#pc44947b337)\" style=\"fill: none; stroke-dasharray: 5.55,2.4; stroke-dashoffset: 0; stroke: #ff0000; stroke-width: 1.5\"/>\n   </g>\n   <g id=\"patch_3\">\n    <path d=\"M 50.833125 357.9975 \nL 50.833125 25.3575 \n\" style=\"fill: none; stroke: #000000; stroke-width: 0.8; stroke-linejoin: miter; stroke-linecap: square\"/>\n   </g>\n   <g id=\"patch_4\">\n    <path d=\"M 608.833125 357.9975 \nL 608.833125 25.3575 \n\" style=\"fill: none; stroke: #000000; stroke-width: 0.8; stroke-linejoin: miter; stroke-linecap: square\"/>\n   </g>\n   <g id=\"patch_5\">\n    <path d=\"M 50.833125 357.9975 \nL 608.833125 357.9975 \n\" style=\"fill: none; stroke: #000000; stroke-width: 0.8; stroke-linejoin: miter; stroke-linecap: square\"/>\n   </g>\n   <g id=\"patch_6\">\n    <path d=\"M 50.833125 25.3575 \nL 608.833125 25.3575 \n\" style=\"fill: none; stroke: #000000; stroke-width: 0.8; stroke-linejoin: miter; stroke-linecap: square\"/>\n   </g>\n   <g id=\"text_15\">\n    <!-- Media: 0.76 -->\n    <g style=\"fill: #ff0000\" transform=\"translate(512.851364 276.35365) scale(0.12 -0.12)\">\n     <defs>\n      <path id=\"DejaVuSans-4d\" d=\"M 628 4666 \nL 1569 4666 \nL 2759 1491 \nL 3956 4666 \nL 4897 4666 \nL 4897 0 \nL 4281 0 \nL 4281 4097 \nL 3078 897 \nL 2444 897 \nL 1241 4097 \nL 1241 0 \nL 628 0 \nL 628 4666 \nz\n\" transform=\"scale(0.015625)\"/>\n      <path id=\"DejaVuSans-64\" d=\"M 2906 2969 \nL 2906 4863 \nL 3481 4863 \nL 3481 0 \nL 2906 0 \nL 2906 525 \nQ 2725 213 2448 61 \nQ 2172 -91 1784 -91 \nQ 1150 -91 751 415 \nQ 353 922 353 1747 \nQ 353 2572 751 3078 \nQ 1150 3584 1784 3584 \nQ 2172 3584 2448 3432 \nQ 2725 3281 2906 2969 \nz\nM 947 1747 \nQ 947 1113 1208 752 \nQ 1469 391 1925 391 \nQ 2381 391 2643 752 \nQ 2906 1113 2906 1747 \nQ 2906 2381 2643 2742 \nQ 2381 3103 1925 3103 \nQ 1469 3103 1208 2742 \nQ 947 2381 947 1747 \nz\n\" transform=\"scale(0.015625)\"/>\n      <path id=\"DejaVuSans-69\" d=\"M 603 3500 \nL 1178 3500 \nL 1178 0 \nL 603 0 \nL 603 3500 \nz\nM 603 4863 \nL 1178 4863 \nL 1178 4134 \nL 603 4134 \nL 603 4863 \nz\n\" transform=\"scale(0.015625)\"/>\n      <path id=\"DejaVuSans-61\" d=\"M 2194 1759 \nQ 1497 1759 1228 1600 \nQ 959 1441 959 1056 \nQ 959 750 1161 570 \nQ 1363 391 1709 391 \nQ 2188 391 2477 730 \nQ 2766 1069 2766 1631 \nL 2766 1759 \nL 2194 1759 \nz\nM 3341 1997 \nL 3341 0 \nL 2766 0 \nL 2766 531 \nQ 2569 213 2275 61 \nQ 1981 -91 1556 -91 \nQ 1019 -91 701 211 \nQ 384 513 384 1019 \nQ 384 1609 779 1909 \nQ 1175 2209 1959 2209 \nL 2766 2209 \nL 2766 2266 \nQ 2766 2663 2505 2880 \nQ 2244 3097 1772 3097 \nQ 1472 3097 1187 3025 \nQ 903 2953 641 2809 \nL 641 3341 \nQ 956 3463 1253 3523 \nQ 1550 3584 1831 3584 \nQ 2591 3584 2966 3190 \nQ 3341 2797 3341 1997 \nz\n\" transform=\"scale(0.015625)\"/>\n      <path id=\"DejaVuSans-3a\" d=\"M 750 794 \nL 1409 794 \nL 1409 0 \nL 750 0 \nL 750 794 \nz\nM 750 3309 \nL 1409 3309 \nL 1409 2516 \nL 750 2516 \nL 750 3309 \nz\n\" transform=\"scale(0.015625)\"/>\n      <path id=\"DejaVuSans-37\" d=\"M 525 4666 \nL 3525 4666 \nL 3525 4397 \nL 1831 0 \nL 1172 0 \nL 2766 4134 \nL 525 4134 \nL 525 4666 \nz\n\" transform=\"scale(0.015625)\"/>\n     </defs>\n     <use xlink:href=\"#DejaVuSans-4d\"/>\n     <use xlink:href=\"#DejaVuSans-65\" x=\"86.279297\"/>\n     <use xlink:href=\"#DejaVuSans-64\" x=\"147.802734\"/>\n     <use xlink:href=\"#DejaVuSans-69\" x=\"211.279297\"/>\n     <use xlink:href=\"#DejaVuSans-61\" x=\"239.0625\"/>\n     <use xlink:href=\"#DejaVuSans-3a\" x=\"300.341797\"/>\n     <use xlink:href=\"#DejaVuSans-20\" x=\"334.033203\"/>\n     <use xlink:href=\"#DejaVuSans-30\" x=\"365.820312\"/>\n     <use xlink:href=\"#DejaVuSans-2e\" x=\"429.443359\"/>\n     <use xlink:href=\"#DejaVuSans-37\" x=\"461.230469\"/>\n     <use xlink:href=\"#DejaVuSans-36\" x=\"524.853516\"/>\n    </g>\n   </g>\n   <g id=\"text_16\">\n    <!-- Andamento della loss nelle epoche -->\n    <g transform=\"translate(189.874375 19.3575) scale(0.16 -0.16)\">\n     <defs>\n      <path id=\"DejaVuSans-41\" d=\"M 2188 4044 \nL 1331 1722 \nL 3047 1722 \nL 2188 4044 \nz\nM 1831 4666 \nL 2547 4666 \nL 4325 0 \nL 3669 0 \nL 3244 1197 \nL 1141 1197 \nL 716 0 \nL 50 0 \nL 1831 4666 \nz\n\" transform=\"scale(0.015625)\"/>\n      <path id=\"DejaVuSans-6e\" d=\"M 3513 2113 \nL 3513 0 \nL 2938 0 \nL 2938 2094 \nQ 2938 2591 2744 2837 \nQ 2550 3084 2163 3084 \nQ 1697 3084 1428 2787 \nQ 1159 2491 1159 1978 \nL 1159 0 \nL 581 0 \nL 581 3500 \nL 1159 3500 \nL 1159 2956 \nQ 1366 3272 1645 3428 \nQ 1925 3584 2291 3584 \nQ 2894 3584 3203 3211 \nQ 3513 2838 3513 2113 \nz\n\" transform=\"scale(0.015625)\"/>\n      <path id=\"DejaVuSans-74\" d=\"M 1172 4494 \nL 1172 3500 \nL 2356 3500 \nL 2356 3053 \nL 1172 3053 \nL 1172 1153 \nQ 1172 725 1289 603 \nQ 1406 481 1766 481 \nL 2356 481 \nL 2356 0 \nL 1766 0 \nQ 1100 0 847 248 \nQ 594 497 594 1153 \nL 594 3053 \nL 172 3053 \nL 172 3500 \nL 594 3500 \nL 594 4494 \nL 1172 4494 \nz\n\" transform=\"scale(0.015625)\"/>\n      <path id=\"DejaVuSans-6c\" d=\"M 603 4863 \nL 1178 4863 \nL 1178 0 \nL 603 0 \nL 603 4863 \nz\n\" transform=\"scale(0.015625)\"/>\n     </defs>\n     <use xlink:href=\"#DejaVuSans-41\"/>\n     <use xlink:href=\"#DejaVuSans-6e\" x=\"68.408203\"/>\n     <use xlink:href=\"#DejaVuSans-64\" x=\"131.787109\"/>\n     <use xlink:href=\"#DejaVuSans-61\" x=\"195.263672\"/>\n     <use xlink:href=\"#DejaVuSans-6d\" x=\"256.542969\"/>\n     <use xlink:href=\"#DejaVuSans-65\" x=\"353.955078\"/>\n     <use xlink:href=\"#DejaVuSans-6e\" x=\"415.478516\"/>\n     <use xlink:href=\"#DejaVuSans-74\" x=\"478.857422\"/>\n     <use xlink:href=\"#DejaVuSans-6f\" x=\"518.066406\"/>\n     <use xlink:href=\"#DejaVuSans-20\" x=\"579.248047\"/>\n     <use xlink:href=\"#DejaVuSans-64\" x=\"611.035156\"/>\n     <use xlink:href=\"#DejaVuSans-65\" x=\"674.511719\"/>\n     <use xlink:href=\"#DejaVuSans-6c\" x=\"736.035156\"/>\n     <use xlink:href=\"#DejaVuSans-6c\" x=\"763.818359\"/>\n     <use xlink:href=\"#DejaVuSans-61\" x=\"791.601562\"/>\n     <use xlink:href=\"#DejaVuSans-20\" x=\"852.880859\"/>\n     <use xlink:href=\"#DejaVuSans-6c\" x=\"884.667969\"/>\n     <use xlink:href=\"#DejaVuSans-6f\" x=\"912.451172\"/>\n     <use xlink:href=\"#DejaVuSans-73\" x=\"973.632812\"/>\n     <use xlink:href=\"#DejaVuSans-73\" x=\"1025.732422\"/>\n     <use xlink:href=\"#DejaVuSans-20\" x=\"1077.832031\"/>\n     <use xlink:href=\"#DejaVuSans-6e\" x=\"1109.619141\"/>\n     <use xlink:href=\"#DejaVuSans-65\" x=\"1172.998047\"/>\n     <use xlink:href=\"#DejaVuSans-6c\" x=\"1234.521484\"/>\n     <use xlink:href=\"#DejaVuSans-6c\" x=\"1262.304688\"/>\n     <use xlink:href=\"#DejaVuSans-65\" x=\"1290.087891\"/>\n     <use xlink:href=\"#DejaVuSans-20\" x=\"1351.611328\"/>\n     <use xlink:href=\"#DejaVuSans-65\" x=\"1383.398438\"/>\n     <use xlink:href=\"#DejaVuSans-70\" x=\"1444.921875\"/>\n     <use xlink:href=\"#DejaVuSans-6f\" x=\"1508.398438\"/>\n     <use xlink:href=\"#DejaVuSans-63\" x=\"1569.580078\"/>\n     <use xlink:href=\"#DejaVuSans-68\" x=\"1624.560547\"/>\n     <use xlink:href=\"#DejaVuSans-65\" x=\"1687.939453\"/>\n    </g>\n   </g>\n   <g id=\"legend_1\">\n    <g id=\"patch_7\">\n     <path d=\"M 57.833125 48.035625 \nL 172.145625 48.035625 \nQ 174.145625 48.035625 174.145625 46.035625 \nL 174.145625 32.3575 \nQ 174.145625 30.3575 172.145625 30.3575 \nL 57.833125 30.3575 \nQ 55.833125 30.3575 55.833125 32.3575 \nL 55.833125 46.035625 \nQ 55.833125 48.035625 57.833125 48.035625 \nz\n\" style=\"fill: #ffffff; opacity: 0.8; stroke: #cccccc; stroke-linejoin: miter\"/>\n    </g>\n    <g id=\"line2d_27\">\n     <path d=\"M 59.833125 38.455938 \nL 69.833125 38.455938 \nL 79.833125 38.455938 \n\" style=\"fill: none; stroke: #0000ff; stroke-width: 1.5; stroke-linecap: square\"/>\n    </g>\n    <g id=\"text_17\">\n     <!-- Loss training set -->\n     <g transform=\"translate(87.833125 41.955938) scale(0.1 -0.1)\">\n      <defs>\n       <path id=\"DejaVuSans-67\" d=\"M 2906 1791 \nQ 2906 2416 2648 2759 \nQ 2391 3103 1925 3103 \nQ 1463 3103 1205 2759 \nQ 947 2416 947 1791 \nQ 947 1169 1205 825 \nQ 1463 481 1925 481 \nQ 2391 481 2648 825 \nQ 2906 1169 2906 1791 \nz\nM 3481 434 \nQ 3481 -459 3084 -895 \nQ 2688 -1331 1869 -1331 \nQ 1566 -1331 1297 -1286 \nQ 1028 -1241 775 -1147 \nL 775 -588 \nQ 1028 -725 1275 -790 \nQ 1522 -856 1778 -856 \nQ 2344 -856 2625 -561 \nQ 2906 -266 2906 331 \nL 2906 616 \nQ 2728 306 2450 153 \nQ 2172 0 1784 0 \nQ 1141 0 747 490 \nQ 353 981 353 1791 \nQ 353 2603 747 3093 \nQ 1141 3584 1784 3584 \nQ 2172 3584 2450 3431 \nQ 2728 3278 2906 2969 \nL 2906 3500 \nL 3481 3500 \nL 3481 434 \nz\n\" transform=\"scale(0.015625)\"/>\n      </defs>\n      <use xlink:href=\"#DejaVuSans-4c\"/>\n      <use xlink:href=\"#DejaVuSans-6f\" x=\"53.962891\"/>\n      <use xlink:href=\"#DejaVuSans-73\" x=\"115.144531\"/>\n      <use xlink:href=\"#DejaVuSans-73\" x=\"167.244141\"/>\n      <use xlink:href=\"#DejaVuSans-20\" x=\"219.34375\"/>\n      <use xlink:href=\"#DejaVuSans-74\" x=\"251.130859\"/>\n      <use xlink:href=\"#DejaVuSans-72\" x=\"290.339844\"/>\n      <use xlink:href=\"#DejaVuSans-61\" x=\"331.453125\"/>\n      <use xlink:href=\"#DejaVuSans-69\" x=\"392.732422\"/>\n      <use xlink:href=\"#DejaVuSans-6e\" x=\"420.515625\"/>\n      <use xlink:href=\"#DejaVuSans-69\" x=\"483.894531\"/>\n      <use xlink:href=\"#DejaVuSans-6e\" x=\"511.677734\"/>\n      <use xlink:href=\"#DejaVuSans-67\" x=\"575.056641\"/>\n      <use xlink:href=\"#DejaVuSans-20\" x=\"638.533203\"/>\n      <use xlink:href=\"#DejaVuSans-73\" x=\"670.320312\"/>\n      <use xlink:href=\"#DejaVuSans-65\" x=\"722.419922\"/>\n      <use xlink:href=\"#DejaVuSans-74\" x=\"783.943359\"/>\n     </g>\n    </g>\n   </g>\n  </g>\n </g>\n <defs>\n  <clipPath id=\"pc44947b337\">\n   <rect x=\"50.833125\" y=\"25.3575\" width=\"558\" height=\"332.64\"/>\n  </clipPath>\n </defs>\n</svg>\n",
            "text/plain": [
              "<Figure size 1000x600 with 1 Axes>"
            ]
          },
          "metadata": {},
          "output_type": "display_data"
        }
      ],
      "source": [
        "import matplotlib.pyplot as plt\n",
        "\n",
        "# Lista della loss del training set\n",
        "loss_train = loss_media_train\n",
        "\n",
        "# Plot della loss\n",
        "plt.figure(figsize=(10, 6))  # Imposta le dimensioni della figura\n",
        "\n",
        "# Imposta lo stile della linea senza marker\n",
        "plt.plot(loss_train, linestyle='-', color='b', label='Loss training set')\n",
        "\n",
        "# Aggiungi titoli e etichette agli assi\n",
        "plt.title('Andamento della loss nelle epoche', fontsize=16)\n",
        "plt.xlabel('Loss', fontsize=14)\n",
        "plt.ylabel('Numero epoche', fontsize=14)\n",
        "\n",
        "# Aggiungi una griglia per facilitare la lettura del grafico\n",
        "plt.grid(True, linestyle='--', alpha=0.6)\n",
        "\n",
        "# Aggiungi una legenda\n",
        "plt.legend(loc='upper left')\n",
        "\n",
        "# Personalizza i tick degli assi\n",
        "plt.xticks(fontsize=12)\n",
        "plt.yticks(fontsize=12)\n",
        "\n",
        "# Aggiungi una linea orizzontale per evidenziare la loss media\n",
        "loss_media = sum(loss_train) / len(loss_train)\n",
        "plt.axhline(y=loss_media, color='r', linestyle='--', label='Media delle Loss')\n",
        "\n",
        "# Aggiungi testo per indicare la media delle loss\n",
        "plt.text(len(loss_train) - 1, loss_media, f'Media: {loss_media:.2f}', ha='right', va='bottom', color='r', fontsize=12)\n",
        "\n",
        "# Mostra il grafico\n",
        "plt.show()"
      ]
    },
    {
      "cell_type": "markdown",
      "metadata": {
        "id": "EecftUbPTWNe"
      },
      "source": [
        "#### **Distribuzione delle Lunghezze dei Riassunti:**\n",
        "\n",
        "Plot dell'istogramma delle lunghezze dei riassunti generati e dei riferimenti per vedere come sono distribuiti."
      ]
    },
    {
      "cell_type": "code",
      "execution_count": null,
      "metadata": {
        "colab": {
          "base_uri": "https://localhost:8080/",
          "height": 471
        },
        "id": "G67PRe2OTN0_",
        "outputId": "6776ad21-7cd5-4a9f-ff9b-c584619e5288"
      },
      "outputs": [
        {
          "data": {
            "application/pdf": "[encoded data removed]",
            "image/svg+xml": "<?xml version=\"1.0\" encoding=\"utf-8\" standalone=\"no\"?>\n<!DOCTYPE svg PUBLIC \"-//W3C//DTD SVG 1.1//EN\"\n  \"http://www.w3.org/Graphics/SVG/1.1/DTD/svg11.dtd\">\n<svg xmlns:xlink=\"http://www.w3.org/1999/xlink\" width=\"599.440625pt\" height=\"337.074375pt\" viewBox=\"0 0 599.440625 337.074375\" xmlns=\"http://www.w3.org/2000/svg\" version=\"1.1\">\n <metadata>\n  <rdf:RDF xmlns:dc=\"http://purl.org/dc/elements/1.1/\" xmlns:cc=\"http://creativecommons.org/ns#\" xmlns:rdf=\"http://www.w3.org/1999/02/22-rdf-syntax-ns#\">\n   <cc:Work>\n    <dc:type rdf:resource=\"http://purl.org/dc/dcmitype/StillImage\"/>\n    <dc:date>2024-01-02T20:26:11.858801</dc:date>\n    <dc:format>image/svg+xml</dc:format>\n    <dc:creator>\n     <cc:Agent>\n      <dc:title>Matplotlib v3.7.1, https://matplotlib.org/</dc:title>\n     </cc:Agent>\n    </dc:creator>\n   </cc:Work>\n  </rdf:RDF>\n </metadata>\n <defs>\n  <style type=\"text/css\">*{stroke-linejoin: round; stroke-linecap: butt}</style>\n </defs>\n <g id=\"figure_1\">\n  <g id=\"patch_1\">\n   <path d=\"M 0 337.074375 \nL 599.440625 337.074375 \nL 599.440625 0 \nL 0 0 \nz\n\" style=\"fill: #ffffff\"/>\n  </g>\n  <g id=\"axes_1\">\n   <g id=\"patch_2\">\n    <path d=\"M 34.240625 299.518125 \nL 592.240625 299.518125 \nL 592.240625 22.318125 \nL 34.240625 22.318125 \nz\n\" style=\"fill: #ffffff\"/>\n   </g>\n   <g id=\"patch_3\">\n    <path d=\"M 67.530398 299.518125 \nL 92.497727 299.518125 \nL 92.497727 200.518125 \nL 67.530398 200.518125 \nz\n\" clip-path=\"url(#pebc6eb3622)\" style=\"fill: #1f77b4; opacity: 0.5\"/>\n   </g>\n   <g id=\"patch_4\">\n    <path d=\"M 92.497727 299.518125 \nL 117.465057 299.518125 \nL 117.465057 266.518125 \nL 92.497727 266.518125 \nz\n\" clip-path=\"url(#pebc6eb3622)\" style=\"fill: #1f77b4; opacity: 0.5\"/>\n   </g>\n   <g id=\"patch_5\">\n    <path d=\"M 117.465057 299.518125 \nL 142.432386 299.518125 \nL 142.432386 233.518125 \nL 117.465057 233.518125 \nz\n\" clip-path=\"url(#pebc6eb3622)\" style=\"fill: #1f77b4; opacity: 0.5\"/>\n   </g>\n   <g id=\"patch_6\">\n    <path d=\"M 142.432386 299.518125 \nL 167.399716 299.518125 \nL 167.399716 299.518125 \nL 142.432386 299.518125 \nz\n\" clip-path=\"url(#pebc6eb3622)\" style=\"fill: #1f77b4; opacity: 0.5\"/>\n   </g>\n   <g id=\"patch_7\">\n    <path d=\"M 167.399716 299.518125 \nL 192.367045 299.518125 \nL 192.367045 266.518125 \nL 167.399716 266.518125 \nz\n\" clip-path=\"url(#pebc6eb3622)\" style=\"fill: #1f77b4; opacity: 0.5\"/>\n   </g>\n   <g id=\"patch_8\">\n    <path d=\"M 192.367045 299.518125 \nL 217.334375 299.518125 \nL 217.334375 299.518125 \nL 192.367045 299.518125 \nz\n\" clip-path=\"url(#pebc6eb3622)\" style=\"fill: #1f77b4; opacity: 0.5\"/>\n   </g>\n   <g id=\"patch_9\">\n    <path d=\"M 217.334375 299.518125 \nL 242.301705 299.518125 \nL 242.301705 266.518125 \nL 217.334375 266.518125 \nz\n\" clip-path=\"url(#pebc6eb3622)\" style=\"fill: #1f77b4; opacity: 0.5\"/>\n   </g>\n   <g id=\"patch_10\">\n    <path d=\"M 242.301705 299.518125 \nL 267.269034 299.518125 \nL 267.269034 266.518125 \nL 242.301705 266.518125 \nz\n\" clip-path=\"url(#pebc6eb3622)\" style=\"fill: #1f77b4; opacity: 0.5\"/>\n   </g>\n   <g id=\"patch_11\">\n    <path d=\"M 267.269034 299.518125 \nL 292.236364 299.518125 \nL 292.236364 200.518125 \nL 267.269034 200.518125 \nz\n\" clip-path=\"url(#pebc6eb3622)\" style=\"fill: #1f77b4; opacity: 0.5\"/>\n   </g>\n   <g id=\"patch_12\">\n    <path d=\"M 292.236364 299.518125 \nL 317.203693 299.518125 \nL 317.203693 200.518125 \nL 292.236364 200.518125 \nz\n\" clip-path=\"url(#pebc6eb3622)\" style=\"fill: #1f77b4; opacity: 0.5\"/>\n   </g>\n   <g id=\"patch_13\">\n    <path d=\"M 317.203693 299.518125 \nL 342.171023 299.518125 \nL 342.171023 233.518125 \nL 317.203693 233.518125 \nz\n\" clip-path=\"url(#pebc6eb3622)\" style=\"fill: #1f77b4; opacity: 0.5\"/>\n   </g>\n   <g id=\"patch_14\">\n    <path d=\"M 342.171023 299.518125 \nL 367.138352 299.518125 \nL 367.138352 266.518125 \nL 342.171023 266.518125 \nz\n\" clip-path=\"url(#pebc6eb3622)\" style=\"fill: #1f77b4; opacity: 0.5\"/>\n   </g>\n   <g id=\"patch_15\">\n    <path d=\"M 367.138352 299.518125 \nL 392.105682 299.518125 \nL 392.105682 167.518125 \nL 367.138352 167.518125 \nz\n\" clip-path=\"url(#pebc6eb3622)\" style=\"fill: #1f77b4; opacity: 0.5\"/>\n   </g>\n   <g id=\"patch_16\">\n    <path d=\"M 392.105682 299.518125 \nL 417.073011 299.518125 \nL 417.073011 200.518125 \nL 392.105682 200.518125 \nz\n\" clip-path=\"url(#pebc6eb3622)\" style=\"fill: #1f77b4; opacity: 0.5\"/>\n   </g>\n   <g id=\"patch_17\">\n    <path d=\"M 417.073011 299.518125 \nL 442.040341 299.518125 \nL 442.040341 134.518125 \nL 417.073011 134.518125 \nz\n\" clip-path=\"url(#pebc6eb3622)\" style=\"fill: #1f77b4; opacity: 0.5\"/>\n   </g>\n   <g id=\"patch_18\">\n    <path d=\"M 442.040341 299.518125 \nL 467.00767 299.518125 \nL 467.00767 233.518125 \nL 442.040341 233.518125 \nz\n\" clip-path=\"url(#pebc6eb3622)\" style=\"fill: #1f77b4; opacity: 0.5\"/>\n   </g>\n   <g id=\"patch_19\">\n    <path d=\"M 467.00767 299.518125 \nL 491.975 299.518125 \nL 491.975 200.518125 \nL 467.00767 200.518125 \nz\n\" clip-path=\"url(#pebc6eb3622)\" style=\"fill: #1f77b4; opacity: 0.5\"/>\n   </g>\n   <g id=\"patch_20\">\n    <path d=\"M 491.975 299.518125 \nL 516.94233 299.518125 \nL 516.94233 266.518125 \nL 491.975 266.518125 \nz\n\" clip-path=\"url(#pebc6eb3622)\" style=\"fill: #1f77b4; opacity: 0.5\"/>\n   </g>\n   <g id=\"patch_21\">\n    <path d=\"M 516.94233 299.518125 \nL 541.909659 299.518125 \nL 541.909659 233.518125 \nL 516.94233 233.518125 \nz\n\" clip-path=\"url(#pebc6eb3622)\" style=\"fill: #1f77b4; opacity: 0.5\"/>\n   </g>\n   <g id=\"patch_22\">\n    <path d=\"M 541.909659 299.518125 \nL 566.876989 299.518125 \nL 566.876989 233.518125 \nL 541.909659 233.518125 \nz\n\" clip-path=\"url(#pebc6eb3622)\" style=\"fill: #1f77b4; opacity: 0.5\"/>\n   </g>\n   <g id=\"patch_23\">\n    <path d=\"M 59.604261 299.518125 \nL 80.212216 299.518125 \nL 80.212216 233.518125 \nL 59.604261 233.518125 \nz\n\" clip-path=\"url(#pebc6eb3622)\" style=\"fill: #ff7f0e; opacity: 0.5\"/>\n   </g>\n   <g id=\"patch_24\">\n    <path d=\"M 80.212216 299.518125 \nL 100.82017 299.518125 \nL 100.82017 266.518125 \nL 80.212216 266.518125 \nz\n\" clip-path=\"url(#pebc6eb3622)\" style=\"fill: #ff7f0e; opacity: 0.5\"/>\n   </g>\n   <g id=\"patch_25\">\n    <path d=\"M 100.82017 299.518125 \nL 121.428125 299.518125 \nL 121.428125 167.518125 \nL 100.82017 167.518125 \nz\n\" clip-path=\"url(#pebc6eb3622)\" style=\"fill: #ff7f0e; opacity: 0.5\"/>\n   </g>\n   <g id=\"patch_26\">\n    <path d=\"M 121.428125 299.518125 \nL 142.03608 299.518125 \nL 142.03608 299.518125 \nL 121.428125 299.518125 \nz\n\" clip-path=\"url(#pebc6eb3622)\" style=\"fill: #ff7f0e; opacity: 0.5\"/>\n   </g>\n   <g id=\"patch_27\">\n    <path d=\"M 142.03608 299.518125 \nL 162.644034 299.518125 \nL 162.644034 299.518125 \nL 142.03608 299.518125 \nz\n\" clip-path=\"url(#pebc6eb3622)\" style=\"fill: #ff7f0e; opacity: 0.5\"/>\n   </g>\n   <g id=\"patch_28\">\n    <path d=\"M 162.644034 299.518125 \nL 183.251989 299.518125 \nL 183.251989 299.518125 \nL 162.644034 299.518125 \nz\n\" clip-path=\"url(#pebc6eb3622)\" style=\"fill: #ff7f0e; opacity: 0.5\"/>\n   </g>\n   <g id=\"patch_29\">\n    <path d=\"M 183.251989 299.518125 \nL 203.859943 299.518125 \nL 203.859943 299.518125 \nL 183.251989 299.518125 \nz\n\" clip-path=\"url(#pebc6eb3622)\" style=\"fill: #ff7f0e; opacity: 0.5\"/>\n   </g>\n   <g id=\"patch_30\">\n    <path d=\"M 203.859943 299.518125 \nL 224.467898 299.518125 \nL 224.467898 299.518125 \nL 203.859943 299.518125 \nz\n\" clip-path=\"url(#pebc6eb3622)\" style=\"fill: #ff7f0e; opacity: 0.5\"/>\n   </g>\n   <g id=\"patch_31\">\n    <path d=\"M 224.467898 299.518125 \nL 245.075852 299.518125 \nL 245.075852 266.518125 \nL 224.467898 266.518125 \nz\n\" clip-path=\"url(#pebc6eb3622)\" style=\"fill: #ff7f0e; opacity: 0.5\"/>\n   </g>\n   <g id=\"patch_32\">\n    <path d=\"M 245.075852 299.518125 \nL 265.683807 299.518125 \nL 265.683807 266.518125 \nL 245.075852 266.518125 \nz\n\" clip-path=\"url(#pebc6eb3622)\" style=\"fill: #ff7f0e; opacity: 0.5\"/>\n   </g>\n   <g id=\"patch_33\">\n    <path d=\"M 265.683807 299.518125 \nL 286.291761 299.518125 \nL 286.291761 299.518125 \nL 265.683807 299.518125 \nz\n\" clip-path=\"url(#pebc6eb3622)\" style=\"fill: #ff7f0e; opacity: 0.5\"/>\n   </g>\n   <g id=\"patch_34\">\n    <path d=\"M 286.291761 299.518125 \nL 306.899716 299.518125 \nL 306.899716 266.518125 \nL 286.291761 266.518125 \nz\n\" clip-path=\"url(#pebc6eb3622)\" style=\"fill: #ff7f0e; opacity: 0.5\"/>\n   </g>\n   <g id=\"patch_35\">\n    <path d=\"M 306.899716 299.518125 \nL 327.50767 299.518125 \nL 327.50767 299.518125 \nL 306.899716 299.518125 \nz\n\" clip-path=\"url(#pebc6eb3622)\" style=\"fill: #ff7f0e; opacity: 0.5\"/>\n   </g>\n   <g id=\"patch_36\">\n    <path d=\"M 327.50767 299.518125 \nL 348.115625 299.518125 \nL 348.115625 35.518125 \nL 327.50767 35.518125 \nz\n\" clip-path=\"url(#pebc6eb3622)\" style=\"fill: #ff7f0e; opacity: 0.5\"/>\n   </g>\n   <g id=\"patch_37\">\n    <path d=\"M 348.115625 299.518125 \nL 368.72358 299.518125 \nL 368.72358 200.518125 \nL 348.115625 200.518125 \nz\n\" clip-path=\"url(#pebc6eb3622)\" style=\"fill: #ff7f0e; opacity: 0.5\"/>\n   </g>\n   <g id=\"patch_38\">\n    <path d=\"M 368.72358 299.518125 \nL 389.331534 299.518125 \nL 389.331534 167.518125 \nL 368.72358 167.518125 \nz\n\" clip-path=\"url(#pebc6eb3622)\" style=\"fill: #ff7f0e; opacity: 0.5\"/>\n   </g>\n   <g id=\"patch_39\">\n    <path d=\"M 389.331534 299.518125 \nL 409.939489 299.518125 \nL 409.939489 167.518125 \nL 389.331534 167.518125 \nz\n\" clip-path=\"url(#pebc6eb3622)\" style=\"fill: #ff7f0e; opacity: 0.5\"/>\n   </g>\n   <g id=\"patch_40\">\n    <path d=\"M 409.939489 299.518125 \nL 430.547443 299.518125 \nL 430.547443 134.518125 \nL 409.939489 134.518125 \nz\n\" clip-path=\"url(#pebc6eb3622)\" style=\"fill: #ff7f0e; opacity: 0.5\"/>\n   </g>\n   <g id=\"patch_41\">\n    <path d=\"M 430.547443 299.518125 \nL 451.155398 299.518125 \nL 451.155398 233.518125 \nL 430.547443 233.518125 \nz\n\" clip-path=\"url(#pebc6eb3622)\" style=\"fill: #ff7f0e; opacity: 0.5\"/>\n   </g>\n   <g id=\"patch_42\">\n    <path d=\"M 451.155398 299.518125 \nL 471.763352 299.518125 \nL 471.763352 167.518125 \nL 451.155398 167.518125 \nz\n\" clip-path=\"url(#pebc6eb3622)\" style=\"fill: #ff7f0e; opacity: 0.5\"/>\n   </g>\n   <g id=\"matplotlib.axis_1\">\n    <g id=\"xtick_1\">\n     <g id=\"line2d_1\">\n      <defs>\n       <path id=\"m06efc2317f\" d=\"M 0 0 \nL 0 3.5 \n\" style=\"stroke: #000000; stroke-width: 0.8\"/>\n      </defs>\n      <g>\n       <use xlink:href=\"#m06efc2317f\" x=\"67.530398\" y=\"299.518125\" style=\"stroke: #000000; stroke-width: 0.8\"/>\n      </g>\n     </g>\n     <g id=\"text_1\">\n      <!-- 10 -->\n      <g transform=\"translate(61.167898 314.116563) scale(0.1 -0.1)\">\n       <defs>\n        <path id=\"DejaVuSans-31\" d=\"M 794 531 \nL 1825 531 \nL 1825 4091 \nL 703 3866 \nL 703 4441 \nL 1819 4666 \nL 2450 4666 \nL 2450 531 \nL 3481 531 \nL 3481 0 \nL 794 0 \nL 794 531 \nz\n\" transform=\"scale(0.015625)\"/>\n        <path id=\"DejaVuSans-30\" d=\"M 2034 4250 \nQ 1547 4250 1301 3770 \nQ 1056 3291 1056 2328 \nQ 1056 1369 1301 889 \nQ 1547 409 2034 409 \nQ 2525 409 2770 889 \nQ 3016 1369 3016 2328 \nQ 3016 3291 2770 3770 \nQ 2525 4250 2034 4250 \nz\nM 2034 4750 \nQ 2819 4750 3233 4129 \nQ 3647 3509 3647 2328 \nQ 3647 1150 3233 529 \nQ 2819 -91 2034 -91 \nQ 1250 -91 836 529 \nQ 422 1150 422 2328 \nQ 422 3509 836 4129 \nQ 1250 4750 2034 4750 \nz\n\" transform=\"scale(0.015625)\"/>\n       </defs>\n       <use xlink:href=\"#DejaVuSans-31\"/>\n       <use xlink:href=\"#DejaVuSans-30\" x=\"63.623047\"/>\n      </g>\n     </g>\n    </g>\n    <g id=\"xtick_2\">\n     <g id=\"line2d_2\">\n      <g>\n       <use xlink:href=\"#m06efc2317f\" x=\"146.791761\" y=\"299.518125\" style=\"stroke: #000000; stroke-width: 0.8\"/>\n      </g>\n     </g>\n     <g id=\"text_2\">\n      <!-- 20 -->\n      <g transform=\"translate(140.429261 314.116563) scale(0.1 -0.1)\">\n       <defs>\n        <path id=\"DejaVuSans-32\" d=\"M 1228 531 \nL 3431 531 \nL 3431 0 \nL 469 0 \nL 469 531 \nQ 828 903 1448 1529 \nQ 2069 2156 2228 2338 \nQ 2531 2678 2651 2914 \nQ 2772 3150 2772 3378 \nQ 2772 3750 2511 3984 \nQ 2250 4219 1831 4219 \nQ 1534 4219 1204 4116 \nQ 875 4013 500 3803 \nL 500 4441 \nQ 881 4594 1212 4672 \nQ 1544 4750 1819 4750 \nQ 2544 4750 2975 4387 \nQ 3406 4025 3406 3419 \nQ 3406 3131 3298 2873 \nQ 3191 2616 2906 2266 \nQ 2828 2175 2409 1742 \nQ 1991 1309 1228 531 \nz\n\" transform=\"scale(0.015625)\"/>\n       </defs>\n       <use xlink:href=\"#DejaVuSans-32\"/>\n       <use xlink:href=\"#DejaVuSans-30\" x=\"63.623047\"/>\n      </g>\n     </g>\n    </g>\n    <g id=\"xtick_3\">\n     <g id=\"line2d_3\">\n      <g>\n       <use xlink:href=\"#m06efc2317f\" x=\"226.053125\" y=\"299.518125\" style=\"stroke: #000000; stroke-width: 0.8\"/>\n      </g>\n     </g>\n     <g id=\"text_3\">\n      <!-- 30 -->\n      <g transform=\"translate(219.690625 314.116563) scale(0.1 -0.1)\">\n       <defs>\n        <path id=\"DejaVuSans-33\" d=\"M 2597 2516 \nQ 3050 2419 3304 2112 \nQ 3559 1806 3559 1356 \nQ 3559 666 3084 287 \nQ 2609 -91 1734 -91 \nQ 1441 -91 1130 -33 \nQ 819 25 488 141 \nL 488 750 \nQ 750 597 1062 519 \nQ 1375 441 1716 441 \nQ 2309 441 2620 675 \nQ 2931 909 2931 1356 \nQ 2931 1769 2642 2001 \nQ 2353 2234 1838 2234 \nL 1294 2234 \nL 1294 2753 \nL 1863 2753 \nQ 2328 2753 2575 2939 \nQ 2822 3125 2822 3475 \nQ 2822 3834 2567 4026 \nQ 2313 4219 1838 4219 \nQ 1578 4219 1281 4162 \nQ 984 4106 628 3988 \nL 628 4550 \nQ 988 4650 1302 4700 \nQ 1616 4750 1894 4750 \nQ 2613 4750 3031 4423 \nQ 3450 4097 3450 3541 \nQ 3450 3153 3228 2886 \nQ 3006 2619 2597 2516 \nz\n\" transform=\"scale(0.015625)\"/>\n       </defs>\n       <use xlink:href=\"#DejaVuSans-33\"/>\n       <use xlink:href=\"#DejaVuSans-30\" x=\"63.623047\"/>\n      </g>\n     </g>\n    </g>\n    <g id=\"xtick_4\">\n     <g id=\"line2d_4\">\n      <g>\n       <use xlink:href=\"#m06efc2317f\" x=\"305.314489\" y=\"299.518125\" style=\"stroke: #000000; stroke-width: 0.8\"/>\n      </g>\n     </g>\n     <g id=\"text_4\">\n      <!-- 40 -->\n      <g transform=\"translate(298.951989 314.116563) scale(0.1 -0.1)\">\n       <defs>\n        <path id=\"DejaVuSans-34\" d=\"M 2419 4116 \nL 825 1625 \nL 2419 1625 \nL 2419 4116 \nz\nM 2253 4666 \nL 3047 4666 \nL 3047 1625 \nL 3713 1625 \nL 3713 1100 \nL 3047 1100 \nL 3047 0 \nL 2419 0 \nL 2419 1100 \nL 313 1100 \nL 313 1709 \nL 2253 4666 \nz\n\" transform=\"scale(0.015625)\"/>\n       </defs>\n       <use xlink:href=\"#DejaVuSans-34\"/>\n       <use xlink:href=\"#DejaVuSans-30\" x=\"63.623047\"/>\n      </g>\n     </g>\n    </g>\n    <g id=\"xtick_5\">\n     <g id=\"line2d_5\">\n      <g>\n       <use xlink:href=\"#m06efc2317f\" x=\"384.575852\" y=\"299.518125\" style=\"stroke: #000000; stroke-width: 0.8\"/>\n      </g>\n     </g>\n     <g id=\"text_5\">\n      <!-- 50 -->\n      <g transform=\"translate(378.213352 314.116563) scale(0.1 -0.1)\">\n       <defs>\n        <path id=\"DejaVuSans-35\" d=\"M 691 4666 \nL 3169 4666 \nL 3169 4134 \nL 1269 4134 \nL 1269 2991 \nQ 1406 3038 1543 3061 \nQ 1681 3084 1819 3084 \nQ 2600 3084 3056 2656 \nQ 3513 2228 3513 1497 \nQ 3513 744 3044 326 \nQ 2575 -91 1722 -91 \nQ 1428 -91 1123 -41 \nQ 819 9 494 109 \nL 494 744 \nQ 775 591 1075 516 \nQ 1375 441 1709 441 \nQ 2250 441 2565 725 \nQ 2881 1009 2881 1497 \nQ 2881 1984 2565 2268 \nQ 2250 2553 1709 2553 \nQ 1456 2553 1204 2497 \nQ 953 2441 691 2322 \nL 691 4666 \nz\n\" transform=\"scale(0.015625)\"/>\n       </defs>\n       <use xlink:href=\"#DejaVuSans-35\"/>\n       <use xlink:href=\"#DejaVuSans-30\" x=\"63.623047\"/>\n      </g>\n     </g>\n    </g>\n    <g id=\"xtick_6\">\n     <g id=\"line2d_6\">\n      <g>\n       <use xlink:href=\"#m06efc2317f\" x=\"463.837216\" y=\"299.518125\" style=\"stroke: #000000; stroke-width: 0.8\"/>\n      </g>\n     </g>\n     <g id=\"text_6\">\n      <!-- 60 -->\n      <g transform=\"translate(457.474716 314.116563) scale(0.1 -0.1)\">\n       <defs>\n        <path id=\"DejaVuSans-36\" d=\"M 2113 2584 \nQ 1688 2584 1439 2293 \nQ 1191 2003 1191 1497 \nQ 1191 994 1439 701 \nQ 1688 409 2113 409 \nQ 2538 409 2786 701 \nQ 3034 994 3034 1497 \nQ 3034 2003 2786 2293 \nQ 2538 2584 2113 2584 \nz\nM 3366 4563 \nL 3366 3988 \nQ 3128 4100 2886 4159 \nQ 2644 4219 2406 4219 \nQ 1781 4219 1451 3797 \nQ 1122 3375 1075 2522 \nQ 1259 2794 1537 2939 \nQ 1816 3084 2150 3084 \nQ 2853 3084 3261 2657 \nQ 3669 2231 3669 1497 \nQ 3669 778 3244 343 \nQ 2819 -91 2113 -91 \nQ 1303 -91 875 529 \nQ 447 1150 447 2328 \nQ 447 3434 972 4092 \nQ 1497 4750 2381 4750 \nQ 2619 4750 2861 4703 \nQ 3103 4656 3366 4563 \nz\n\" transform=\"scale(0.015625)\"/>\n       </defs>\n       <use xlink:href=\"#DejaVuSans-36\"/>\n       <use xlink:href=\"#DejaVuSans-30\" x=\"63.623047\"/>\n      </g>\n     </g>\n    </g>\n    <g id=\"xtick_7\">\n     <g id=\"line2d_7\">\n      <g>\n       <use xlink:href=\"#m06efc2317f\" x=\"543.09858\" y=\"299.518125\" style=\"stroke: #000000; stroke-width: 0.8\"/>\n      </g>\n     </g>\n     <g id=\"text_7\">\n      <!-- 70 -->\n      <g transform=\"translate(536.73608 314.116563) scale(0.1 -0.1)\">\n       <defs>\n        <path id=\"DejaVuSans-37\" d=\"M 525 4666 \nL 3525 4666 \nL 3525 4397 \nL 1831 0 \nL 1172 0 \nL 2766 4134 \nL 525 4134 \nL 525 4666 \nz\n\" transform=\"scale(0.015625)\"/>\n       </defs>\n       <use xlink:href=\"#DejaVuSans-37\"/>\n       <use xlink:href=\"#DejaVuSans-30\" x=\"63.623047\"/>\n      </g>\n     </g>\n    </g>\n    <g id=\"text_8\">\n     <!-- Number of Words -->\n     <g transform=\"translate(269.700781 327.794688) scale(0.1 -0.1)\">\n      <defs>\n       <path id=\"DejaVuSans-4e\" d=\"M 628 4666 \nL 1478 4666 \nL 3547 763 \nL 3547 4666 \nL 4159 4666 \nL 4159 0 \nL 3309 0 \nL 1241 3903 \nL 1241 0 \nL 628 0 \nL 628 4666 \nz\n\" transform=\"scale(0.015625)\"/>\n       <path id=\"DejaVuSans-75\" d=\"M 544 1381 \nL 544 3500 \nL 1119 3500 \nL 1119 1403 \nQ 1119 906 1312 657 \nQ 1506 409 1894 409 \nQ 2359 409 2629 706 \nQ 2900 1003 2900 1516 \nL 2900 3500 \nL 3475 3500 \nL 3475 0 \nL 2900 0 \nL 2900 538 \nQ 2691 219 2414 64 \nQ 2138 -91 1772 -91 \nQ 1169 -91 856 284 \nQ 544 659 544 1381 \nz\nM 1991 3584 \nL 1991 3584 \nz\n\" transform=\"scale(0.015625)\"/>\n       <path id=\"DejaVuSans-6d\" d=\"M 3328 2828 \nQ 3544 3216 3844 3400 \nQ 4144 3584 4550 3584 \nQ 5097 3584 5394 3201 \nQ 5691 2819 5691 2113 \nL 5691 0 \nL 5113 0 \nL 5113 2094 \nQ 5113 2597 4934 2840 \nQ 4756 3084 4391 3084 \nQ 3944 3084 3684 2787 \nQ 3425 2491 3425 1978 \nL 3425 0 \nL 2847 0 \nL 2847 2094 \nQ 2847 2600 2669 2842 \nQ 2491 3084 2119 3084 \nQ 1678 3084 1418 2786 \nQ 1159 2488 1159 1978 \nL 1159 0 \nL 581 0 \nL 581 3500 \nL 1159 3500 \nL 1159 2956 \nQ 1356 3278 1631 3431 \nQ 1906 3584 2284 3584 \nQ 2666 3584 2933 3390 \nQ 3200 3197 3328 2828 \nz\n\" transform=\"scale(0.015625)\"/>\n       <path id=\"DejaVuSans-62\" d=\"M 3116 1747 \nQ 3116 2381 2855 2742 \nQ 2594 3103 2138 3103 \nQ 1681 3103 1420 2742 \nQ 1159 2381 1159 1747 \nQ 1159 1113 1420 752 \nQ 1681 391 2138 391 \nQ 2594 391 2855 752 \nQ 3116 1113 3116 1747 \nz\nM 1159 2969 \nQ 1341 3281 1617 3432 \nQ 1894 3584 2278 3584 \nQ 2916 3584 3314 3078 \nQ 3713 2572 3713 1747 \nQ 3713 922 3314 415 \nQ 2916 -91 2278 -91 \nQ 1894 -91 1617 61 \nQ 1341 213 1159 525 \nL 1159 0 \nL 581 0 \nL 581 4863 \nL 1159 4863 \nL 1159 2969 \nz\n\" transform=\"scale(0.015625)\"/>\n       <path id=\"DejaVuSans-65\" d=\"M 3597 1894 \nL 3597 1613 \nL 953 1613 \nQ 991 1019 1311 708 \nQ 1631 397 2203 397 \nQ 2534 397 2845 478 \nQ 3156 559 3463 722 \nL 3463 178 \nQ 3153 47 2828 -22 \nQ 2503 -91 2169 -91 \nQ 1331 -91 842 396 \nQ 353 884 353 1716 \nQ 353 2575 817 3079 \nQ 1281 3584 2069 3584 \nQ 2775 3584 3186 3129 \nQ 3597 2675 3597 1894 \nz\nM 3022 2063 \nQ 3016 2534 2758 2815 \nQ 2500 3097 2075 3097 \nQ 1594 3097 1305 2825 \nQ 1016 2553 972 2059 \nL 3022 2063 \nz\n\" transform=\"scale(0.015625)\"/>\n       <path id=\"DejaVuSans-72\" d=\"M 2631 2963 \nQ 2534 3019 2420 3045 \nQ 2306 3072 2169 3072 \nQ 1681 3072 1420 2755 \nQ 1159 2438 1159 1844 \nL 1159 0 \nL 581 0 \nL 581 3500 \nL 1159 3500 \nL 1159 2956 \nQ 1341 3275 1631 3429 \nQ 1922 3584 2338 3584 \nQ 2397 3584 2469 3576 \nQ 2541 3569 2628 3553 \nL 2631 2963 \nz\n\" transform=\"scale(0.015625)\"/>\n       <path id=\"DejaVuSans-20\" transform=\"scale(0.015625)\"/>\n       <path id=\"DejaVuSans-6f\" d=\"M 1959 3097 \nQ 1497 3097 1228 2736 \nQ 959 2375 959 1747 \nQ 959 1119 1226 758 \nQ 1494 397 1959 397 \nQ 2419 397 2687 759 \nQ 2956 1122 2956 1747 \nQ 2956 2369 2687 2733 \nQ 2419 3097 1959 3097 \nz\nM 1959 3584 \nQ 2709 3584 3137 3096 \nQ 3566 2609 3566 1747 \nQ 3566 888 3137 398 \nQ 2709 -91 1959 -91 \nQ 1206 -91 779 398 \nQ 353 888 353 1747 \nQ 353 2609 779 3096 \nQ 1206 3584 1959 3584 \nz\n\" transform=\"scale(0.015625)\"/>\n       <path id=\"DejaVuSans-66\" d=\"M 2375 4863 \nL 2375 4384 \nL 1825 4384 \nQ 1516 4384 1395 4259 \nQ 1275 4134 1275 3809 \nL 1275 3500 \nL 2222 3500 \nL 2222 3053 \nL 1275 3053 \nL 1275 0 \nL 697 0 \nL 697 3053 \nL 147 3053 \nL 147 3500 \nL 697 3500 \nL 697 3744 \nQ 697 4328 969 4595 \nQ 1241 4863 1831 4863 \nL 2375 4863 \nz\n\" transform=\"scale(0.015625)\"/>\n       <path id=\"DejaVuSans-57\" d=\"M 213 4666 \nL 850 4666 \nL 1831 722 \nL 2809 4666 \nL 3519 4666 \nL 4500 722 \nL 5478 4666 \nL 6119 4666 \nL 4947 0 \nL 4153 0 \nL 3169 4050 \nL 2175 0 \nL 1381 0 \nL 213 4666 \nz\n\" transform=\"scale(0.015625)\"/>\n       <path id=\"DejaVuSans-64\" d=\"M 2906 2969 \nL 2906 4863 \nL 3481 4863 \nL 3481 0 \nL 2906 0 \nL 2906 525 \nQ 2725 213 2448 61 \nQ 2172 -91 1784 -91 \nQ 1150 -91 751 415 \nQ 353 922 353 1747 \nQ 353 2572 751 3078 \nQ 1150 3584 1784 3584 \nQ 2172 3584 2448 3432 \nQ 2725 3281 2906 2969 \nz\nM 947 1747 \nQ 947 1113 1208 752 \nQ 1469 391 1925 391 \nQ 2381 391 2643 752 \nQ 2906 1113 2906 1747 \nQ 2906 2381 2643 2742 \nQ 2381 3103 1925 3103 \nQ 1469 3103 1208 2742 \nQ 947 2381 947 1747 \nz\n\" transform=\"scale(0.015625)\"/>\n       <path id=\"DejaVuSans-73\" d=\"M 2834 3397 \nL 2834 2853 \nQ 2591 2978 2328 3040 \nQ 2066 3103 1784 3103 \nQ 1356 3103 1142 2972 \nQ 928 2841 928 2578 \nQ 928 2378 1081 2264 \nQ 1234 2150 1697 2047 \nL 1894 2003 \nQ 2506 1872 2764 1633 \nQ 3022 1394 3022 966 \nQ 3022 478 2636 193 \nQ 2250 -91 1575 -91 \nQ 1294 -91 989 -36 \nQ 684 19 347 128 \nL 347 722 \nQ 666 556 975 473 \nQ 1284 391 1588 391 \nQ 1994 391 2212 530 \nQ 2431 669 2431 922 \nQ 2431 1156 2273 1281 \nQ 2116 1406 1581 1522 \nL 1381 1569 \nQ 847 1681 609 1914 \nQ 372 2147 372 2553 \nQ 372 3047 722 3315 \nQ 1072 3584 1716 3584 \nQ 2034 3584 2315 3537 \nQ 2597 3491 2834 3397 \nz\n\" transform=\"scale(0.015625)\"/>\n      </defs>\n      <use xlink:href=\"#DejaVuSans-4e\"/>\n      <use xlink:href=\"#DejaVuSans-75\" x=\"74.804688\"/>\n      <use xlink:href=\"#DejaVuSans-6d\" x=\"138.183594\"/>\n      <use xlink:href=\"#DejaVuSans-62\" x=\"235.595703\"/>\n      <use xlink:href=\"#DejaVuSans-65\" x=\"299.072266\"/>\n      <use xlink:href=\"#DejaVuSans-72\" x=\"360.595703\"/>\n      <use xlink:href=\"#DejaVuSans-20\" x=\"401.708984\"/>\n      <use xlink:href=\"#DejaVuSans-6f\" x=\"433.496094\"/>\n      <use xlink:href=\"#DejaVuSans-66\" x=\"494.677734\"/>\n      <use xlink:href=\"#DejaVuSans-20\" x=\"529.882812\"/>\n      <use xlink:href=\"#DejaVuSans-57\" x=\"561.669922\"/>\n      <use xlink:href=\"#DejaVuSans-6f\" x=\"654.671875\"/>\n      <use xlink:href=\"#DejaVuSans-72\" x=\"715.853516\"/>\n      <use xlink:href=\"#DejaVuSans-64\" x=\"755.216797\"/>\n      <use xlink:href=\"#DejaVuSans-73\" x=\"818.693359\"/>\n     </g>\n    </g>\n   </g>\n   <g id=\"matplotlib.axis_2\">\n    <g id=\"ytick_1\">\n     <g id=\"line2d_8\">\n      <defs>\n       <path id=\"m799ce78b5c\" d=\"M 0 0 \nL -3.5 0 \n\" style=\"stroke: #000000; stroke-width: 0.8\"/>\n      </defs>\n      <g>\n       <use xlink:href=\"#m799ce78b5c\" x=\"34.240625\" y=\"299.518125\" style=\"stroke: #000000; stroke-width: 0.8\"/>\n      </g>\n     </g>\n     <g id=\"text_9\">\n      <!-- 0 -->\n      <g transform=\"translate(20.878125 303.317344) scale(0.1 -0.1)\">\n       <use xlink:href=\"#DejaVuSans-30\"/>\n      </g>\n     </g>\n    </g>\n    <g id=\"ytick_2\">\n     <g id=\"line2d_9\">\n      <g>\n       <use xlink:href=\"#m799ce78b5c\" x=\"34.240625\" y=\"266.518125\" style=\"stroke: #000000; stroke-width: 0.8\"/>\n      </g>\n     </g>\n     <g id=\"text_10\">\n      <!-- 1 -->\n      <g transform=\"translate(20.878125 270.317344) scale(0.1 -0.1)\">\n       <use xlink:href=\"#DejaVuSans-31\"/>\n      </g>\n     </g>\n    </g>\n    <g id=\"ytick_3\">\n     <g id=\"line2d_10\">\n      <g>\n       <use xlink:href=\"#m799ce78b5c\" x=\"34.240625\" y=\"233.518125\" style=\"stroke: #000000; stroke-width: 0.8\"/>\n      </g>\n     </g>\n     <g id=\"text_11\">\n      <!-- 2 -->\n      <g transform=\"translate(20.878125 237.317344) scale(0.1 -0.1)\">\n       <use xlink:href=\"#DejaVuSans-32\"/>\n      </g>\n     </g>\n    </g>\n    <g id=\"ytick_4\">\n     <g id=\"line2d_11\">\n      <g>\n       <use xlink:href=\"#m799ce78b5c\" x=\"34.240625\" y=\"200.518125\" style=\"stroke: #000000; stroke-width: 0.8\"/>\n      </g>\n     </g>\n     <g id=\"text_12\">\n      <!-- 3 -->\n      <g transform=\"translate(20.878125 204.317344) scale(0.1 -0.1)\">\n       <use xlink:href=\"#DejaVuSans-33\"/>\n      </g>\n     </g>\n    </g>\n    <g id=\"ytick_5\">\n     <g id=\"line2d_12\">\n      <g>\n       <use xlink:href=\"#m799ce78b5c\" x=\"34.240625\" y=\"167.518125\" style=\"stroke: #000000; stroke-width: 0.8\"/>\n      </g>\n     </g>\n     <g id=\"text_13\">\n      <!-- 4 -->\n      <g transform=\"translate(20.878125 171.317344) scale(0.1 -0.1)\">\n       <use xlink:href=\"#DejaVuSans-34\"/>\n      </g>\n     </g>\n    </g>\n    <g id=\"ytick_6\">\n     <g id=\"line2d_13\">\n      <g>\n       <use xlink:href=\"#m799ce78b5c\" x=\"34.240625\" y=\"134.518125\" style=\"stroke: #000000; stroke-width: 0.8\"/>\n      </g>\n     </g>\n     <g id=\"text_14\">\n      <!-- 5 -->\n      <g transform=\"translate(20.878125 138.317344) scale(0.1 -0.1)\">\n       <use xlink:href=\"#DejaVuSans-35\"/>\n      </g>\n     </g>\n    </g>\n    <g id=\"ytick_7\">\n     <g id=\"line2d_14\">\n      <g>\n       <use xlink:href=\"#m799ce78b5c\" x=\"34.240625\" y=\"101.518125\" style=\"stroke: #000000; stroke-width: 0.8\"/>\n      </g>\n     </g>\n     <g id=\"text_15\">\n      <!-- 6 -->\n      <g transform=\"translate(20.878125 105.317344) scale(0.1 -0.1)\">\n       <use xlink:href=\"#DejaVuSans-36\"/>\n      </g>\n     </g>\n    </g>\n    <g id=\"ytick_8\">\n     <g id=\"line2d_15\">\n      <g>\n       <use xlink:href=\"#m799ce78b5c\" x=\"34.240625\" y=\"68.518125\" style=\"stroke: #000000; stroke-width: 0.8\"/>\n      </g>\n     </g>\n     <g id=\"text_16\">\n      <!-- 7 -->\n      <g transform=\"translate(20.878125 72.317344) scale(0.1 -0.1)\">\n       <use xlink:href=\"#DejaVuSans-37\"/>\n      </g>\n     </g>\n    </g>\n    <g id=\"ytick_9\">\n     <g id=\"line2d_16\">\n      <g>\n       <use xlink:href=\"#m799ce78b5c\" x=\"34.240625\" y=\"35.518125\" style=\"stroke: #000000; stroke-width: 0.8\"/>\n      </g>\n     </g>\n     <g id=\"text_17\">\n      <!-- 8 -->\n      <g transform=\"translate(20.878125 39.317344) scale(0.1 -0.1)\">\n       <defs>\n        <path id=\"DejaVuSans-38\" d=\"M 2034 2216 \nQ 1584 2216 1326 1975 \nQ 1069 1734 1069 1313 \nQ 1069 891 1326 650 \nQ 1584 409 2034 409 \nQ 2484 409 2743 651 \nQ 3003 894 3003 1313 \nQ 3003 1734 2745 1975 \nQ 2488 2216 2034 2216 \nz\nM 1403 2484 \nQ 997 2584 770 2862 \nQ 544 3141 544 3541 \nQ 544 4100 942 4425 \nQ 1341 4750 2034 4750 \nQ 2731 4750 3128 4425 \nQ 3525 4100 3525 3541 \nQ 3525 3141 3298 2862 \nQ 3072 2584 2669 2484 \nQ 3125 2378 3379 2068 \nQ 3634 1759 3634 1313 \nQ 3634 634 3220 271 \nQ 2806 -91 2034 -91 \nQ 1263 -91 848 271 \nQ 434 634 434 1313 \nQ 434 1759 690 2068 \nQ 947 2378 1403 2484 \nz\nM 1172 3481 \nQ 1172 3119 1398 2916 \nQ 1625 2713 2034 2713 \nQ 2441 2713 2670 2916 \nQ 2900 3119 2900 3481 \nQ 2900 3844 2670 4047 \nQ 2441 4250 2034 4250 \nQ 1625 4250 1398 4047 \nQ 1172 3844 1172 3481 \nz\n\" transform=\"scale(0.015625)\"/>\n       </defs>\n       <use xlink:href=\"#DejaVuSans-38\"/>\n      </g>\n     </g>\n    </g>\n    <g id=\"text_18\">\n     <!-- Frequency -->\n     <g transform=\"translate(14.798437 186.747813) rotate(-90) scale(0.1 -0.1)\">\n      <defs>\n       <path id=\"DejaVuSans-46\" d=\"M 628 4666 \nL 3309 4666 \nL 3309 4134 \nL 1259 4134 \nL 1259 2759 \nL 3109 2759 \nL 3109 2228 \nL 1259 2228 \nL 1259 0 \nL 628 0 \nL 628 4666 \nz\n\" transform=\"scale(0.015625)\"/>\n       <path id=\"DejaVuSans-71\" d=\"M 947 1747 \nQ 947 1113 1208 752 \nQ 1469 391 1925 391 \nQ 2381 391 2643 752 \nQ 2906 1113 2906 1747 \nQ 2906 2381 2643 2742 \nQ 2381 3103 1925 3103 \nQ 1469 3103 1208 2742 \nQ 947 2381 947 1747 \nz\nM 2906 525 \nQ 2725 213 2448 61 \nQ 2172 -91 1784 -91 \nQ 1150 -91 751 415 \nQ 353 922 353 1747 \nQ 353 2572 751 3078 \nQ 1150 3584 1784 3584 \nQ 2172 3584 2448 3432 \nQ 2725 3281 2906 2969 \nL 2906 3500 \nL 3481 3500 \nL 3481 -1331 \nL 2906 -1331 \nL 2906 525 \nz\n\" transform=\"scale(0.015625)\"/>\n       <path id=\"DejaVuSans-6e\" d=\"M 3513 2113 \nL 3513 0 \nL 2938 0 \nL 2938 2094 \nQ 2938 2591 2744 2837 \nQ 2550 3084 2163 3084 \nQ 1697 3084 1428 2787 \nQ 1159 2491 1159 1978 \nL 1159 0 \nL 581 0 \nL 581 3500 \nL 1159 3500 \nL 1159 2956 \nQ 1366 3272 1645 3428 \nQ 1925 3584 2291 3584 \nQ 2894 3584 3203 3211 \nQ 3513 2838 3513 2113 \nz\n\" transform=\"scale(0.015625)\"/>\n       <path id=\"DejaVuSans-63\" d=\"M 3122 3366 \nL 3122 2828 \nQ 2878 2963 2633 3030 \nQ 2388 3097 2138 3097 \nQ 1578 3097 1268 2742 \nQ 959 2388 959 1747 \nQ 959 1106 1268 751 \nQ 1578 397 2138 397 \nQ 2388 397 2633 464 \nQ 2878 531 3122 666 \nL 3122 134 \nQ 2881 22 2623 -34 \nQ 2366 -91 2075 -91 \nQ 1284 -91 818 406 \nQ 353 903 353 1747 \nQ 353 2603 823 3093 \nQ 1294 3584 2113 3584 \nQ 2378 3584 2631 3529 \nQ 2884 3475 3122 3366 \nz\n\" transform=\"scale(0.015625)\"/>\n       <path id=\"DejaVuSans-79\" d=\"M 2059 -325 \nQ 1816 -950 1584 -1140 \nQ 1353 -1331 966 -1331 \nL 506 -1331 \nL 506 -850 \nL 844 -850 \nQ 1081 -850 1212 -737 \nQ 1344 -625 1503 -206 \nL 1606 56 \nL 191 3500 \nL 800 3500 \nL 1894 763 \nL 2988 3500 \nL 3597 3500 \nL 2059 -325 \nz\n\" transform=\"scale(0.015625)\"/>\n      </defs>\n      <use xlink:href=\"#DejaVuSans-46\"/>\n      <use xlink:href=\"#DejaVuSans-72\" x=\"50.269531\"/>\n      <use xlink:href=\"#DejaVuSans-65\" x=\"89.132812\"/>\n      <use xlink:href=\"#DejaVuSans-71\" x=\"150.65625\"/>\n      <use xlink:href=\"#DejaVuSans-75\" x=\"214.132812\"/>\n      <use xlink:href=\"#DejaVuSans-65\" x=\"277.511719\"/>\n      <use xlink:href=\"#DejaVuSans-6e\" x=\"339.035156\"/>\n      <use xlink:href=\"#DejaVuSans-63\" x=\"402.414062\"/>\n      <use xlink:href=\"#DejaVuSans-79\" x=\"457.394531\"/>\n     </g>\n    </g>\n   </g>\n   <g id=\"patch_43\">\n    <path d=\"M 34.240625 299.518125 \nL 34.240625 22.318125 \n\" style=\"fill: none; stroke: #000000; stroke-width: 0.8; stroke-linejoin: miter; stroke-linecap: square\"/>\n   </g>\n   <g id=\"patch_44\">\n    <path d=\"M 592.240625 299.518125 \nL 592.240625 22.318125 \n\" style=\"fill: none; stroke: #000000; stroke-width: 0.8; stroke-linejoin: miter; stroke-linecap: square\"/>\n   </g>\n   <g id=\"patch_45\">\n    <path d=\"M 34.240625 299.518125 \nL 592.240625 299.518125 \n\" style=\"fill: none; stroke: #000000; stroke-width: 0.8; stroke-linejoin: miter; stroke-linecap: square\"/>\n   </g>\n   <g id=\"patch_46\">\n    <path d=\"M 34.240625 22.318125 \nL 592.240625 22.318125 \n\" style=\"fill: none; stroke: #000000; stroke-width: 0.8; stroke-linejoin: miter; stroke-linecap: square\"/>\n   </g>\n   <g id=\"text_19\">\n    <!-- Distribution of Summary Lengths -->\n    <g transform=\"translate(213.917188 16.318125) scale(0.12 -0.12)\">\n     <defs>\n      <path id=\"DejaVuSans-44\" d=\"M 1259 4147 \nL 1259 519 \nL 2022 519 \nQ 2988 519 3436 956 \nQ 3884 1394 3884 2338 \nQ 3884 3275 3436 3711 \nQ 2988 4147 2022 4147 \nL 1259 4147 \nz\nM 628 4666 \nL 1925 4666 \nQ 3281 4666 3915 4102 \nQ 4550 3538 4550 2338 \nQ 4550 1131 3912 565 \nQ 3275 0 1925 0 \nL 628 0 \nL 628 4666 \nz\n\" transform=\"scale(0.015625)\"/>\n      <path id=\"DejaVuSans-69\" d=\"M 603 3500 \nL 1178 3500 \nL 1178 0 \nL 603 0 \nL 603 3500 \nz\nM 603 4863 \nL 1178 4863 \nL 1178 4134 \nL 603 4134 \nL 603 4863 \nz\n\" transform=\"scale(0.015625)\"/>\n      <path id=\"DejaVuSans-74\" d=\"M 1172 4494 \nL 1172 3500 \nL 2356 3500 \nL 2356 3053 \nL 1172 3053 \nL 1172 1153 \nQ 1172 725 1289 603 \nQ 1406 481 1766 481 \nL 2356 481 \nL 2356 0 \nL 1766 0 \nQ 1100 0 847 248 \nQ 594 497 594 1153 \nL 594 3053 \nL 172 3053 \nL 172 3500 \nL 594 3500 \nL 594 4494 \nL 1172 4494 \nz\n\" transform=\"scale(0.015625)\"/>\n      <path id=\"DejaVuSans-53\" d=\"M 3425 4513 \nL 3425 3897 \nQ 3066 4069 2747 4153 \nQ 2428 4238 2131 4238 \nQ 1616 4238 1336 4038 \nQ 1056 3838 1056 3469 \nQ 1056 3159 1242 3001 \nQ 1428 2844 1947 2747 \nL 2328 2669 \nQ 3034 2534 3370 2195 \nQ 3706 1856 3706 1288 \nQ 3706 609 3251 259 \nQ 2797 -91 1919 -91 \nQ 1588 -91 1214 -16 \nQ 841 59 441 206 \nL 441 856 \nQ 825 641 1194 531 \nQ 1563 422 1919 422 \nQ 2459 422 2753 634 \nQ 3047 847 3047 1241 \nQ 3047 1584 2836 1778 \nQ 2625 1972 2144 2069 \nL 1759 2144 \nQ 1053 2284 737 2584 \nQ 422 2884 422 3419 \nQ 422 4038 858 4394 \nQ 1294 4750 2059 4750 \nQ 2388 4750 2728 4690 \nQ 3069 4631 3425 4513 \nz\n\" transform=\"scale(0.015625)\"/>\n      <path id=\"DejaVuSans-61\" d=\"M 2194 1759 \nQ 1497 1759 1228 1600 \nQ 959 1441 959 1056 \nQ 959 750 1161 570 \nQ 1363 391 1709 391 \nQ 2188 391 2477 730 \nQ 2766 1069 2766 1631 \nL 2766 1759 \nL 2194 1759 \nz\nM 3341 1997 \nL 3341 0 \nL 2766 0 \nL 2766 531 \nQ 2569 213 2275 61 \nQ 1981 -91 1556 -91 \nQ 1019 -91 701 211 \nQ 384 513 384 1019 \nQ 384 1609 779 1909 \nQ 1175 2209 1959 2209 \nL 2766 2209 \nL 2766 2266 \nQ 2766 2663 2505 2880 \nQ 2244 3097 1772 3097 \nQ 1472 3097 1187 3025 \nQ 903 2953 641 2809 \nL 641 3341 \nQ 956 3463 1253 3523 \nQ 1550 3584 1831 3584 \nQ 2591 3584 2966 3190 \nQ 3341 2797 3341 1997 \nz\n\" transform=\"scale(0.015625)\"/>\n      <path id=\"DejaVuSans-4c\" d=\"M 628 4666 \nL 1259 4666 \nL 1259 531 \nL 3531 531 \nL 3531 0 \nL 628 0 \nL 628 4666 \nz\n\" transform=\"scale(0.015625)\"/>\n      <path id=\"DejaVuSans-67\" d=\"M 2906 1791 \nQ 2906 2416 2648 2759 \nQ 2391 3103 1925 3103 \nQ 1463 3103 1205 2759 \nQ 947 2416 947 1791 \nQ 947 1169 1205 825 \nQ 1463 481 1925 481 \nQ 2391 481 2648 825 \nQ 2906 1169 2906 1791 \nz\nM 3481 434 \nQ 3481 -459 3084 -895 \nQ 2688 -1331 1869 -1331 \nQ 1566 -1331 1297 -1286 \nQ 1028 -1241 775 -1147 \nL 775 -588 \nQ 1028 -725 1275 -790 \nQ 1522 -856 1778 -856 \nQ 2344 -856 2625 -561 \nQ 2906 -266 2906 331 \nL 2906 616 \nQ 2728 306 2450 153 \nQ 2172 0 1784 0 \nQ 1141 0 747 490 \nQ 353 981 353 1791 \nQ 353 2603 747 3093 \nQ 1141 3584 1784 3584 \nQ 2172 3584 2450 3431 \nQ 2728 3278 2906 2969 \nL 2906 3500 \nL 3481 3500 \nL 3481 434 \nz\n\" transform=\"scale(0.015625)\"/>\n      <path id=\"DejaVuSans-68\" d=\"M 3513 2113 \nL 3513 0 \nL 2938 0 \nL 2938 2094 \nQ 2938 2591 2744 2837 \nQ 2550 3084 2163 3084 \nQ 1697 3084 1428 2787 \nQ 1159 2491 1159 1978 \nL 1159 0 \nL 581 0 \nL 581 4863 \nL 1159 4863 \nL 1159 2956 \nQ 1366 3272 1645 3428 \nQ 1925 3584 2291 3584 \nQ 2894 3584 3203 3211 \nQ 3513 2838 3513 2113 \nz\n\" transform=\"scale(0.015625)\"/>\n     </defs>\n     <use xlink:href=\"#DejaVuSans-44\"/>\n     <use xlink:href=\"#DejaVuSans-69\" x=\"77.001953\"/>\n     <use xlink:href=\"#DejaVuSans-73\" x=\"104.785156\"/>\n     <use xlink:href=\"#DejaVuSans-74\" x=\"156.884766\"/>\n     <use xlink:href=\"#DejaVuSans-72\" x=\"196.09375\"/>\n     <use xlink:href=\"#DejaVuSans-69\" x=\"237.207031\"/>\n     <use xlink:href=\"#DejaVuSans-62\" x=\"264.990234\"/>\n     <use xlink:href=\"#DejaVuSans-75\" x=\"328.466797\"/>\n     <use xlink:href=\"#DejaVuSans-74\" x=\"391.845703\"/>\n     <use xlink:href=\"#DejaVuSans-69\" x=\"431.054688\"/>\n     <use xlink:href=\"#DejaVuSans-6f\" x=\"458.837891\"/>\n     <use xlink:href=\"#DejaVuSans-6e\" x=\"520.019531\"/>\n     <use xlink:href=\"#DejaVuSans-20\" x=\"583.398438\"/>\n     <use xlink:href=\"#DejaVuSans-6f\" x=\"615.185547\"/>\n     <use xlink:href=\"#DejaVuSans-66\" x=\"676.367188\"/>\n     <use xlink:href=\"#DejaVuSans-20\" x=\"711.572266\"/>\n     <use xlink:href=\"#DejaVuSans-53\" x=\"743.359375\"/>\n     <use xlink:href=\"#DejaVuSans-75\" x=\"806.835938\"/>\n     <use xlink:href=\"#DejaVuSans-6d\" x=\"870.214844\"/>\n     <use xlink:href=\"#DejaVuSans-6d\" x=\"967.626953\"/>\n     <use xlink:href=\"#DejaVuSans-61\" x=\"1065.039062\"/>\n     <use xlink:href=\"#DejaVuSans-72\" x=\"1126.318359\"/>\n     <use xlink:href=\"#DejaVuSans-79\" x=\"1167.431641\"/>\n     <use xlink:href=\"#DejaVuSans-20\" x=\"1226.611328\"/>\n     <use xlink:href=\"#DejaVuSans-4c\" x=\"1258.398438\"/>\n     <use xlink:href=\"#DejaVuSans-65\" x=\"1312.361328\"/>\n     <use xlink:href=\"#DejaVuSans-6e\" x=\"1373.884766\"/>\n     <use xlink:href=\"#DejaVuSans-67\" x=\"1437.263672\"/>\n     <use xlink:href=\"#DejaVuSans-74\" x=\"1500.740234\"/>\n     <use xlink:href=\"#DejaVuSans-68\" x=\"1539.949219\"/>\n     <use xlink:href=\"#DejaVuSans-73\" x=\"1603.328125\"/>\n    </g>\n   </g>\n   <g id=\"legend_1\">\n    <g id=\"patch_47\">\n     <path d=\"M 440.4625 59.674375 \nL 585.240625 59.674375 \nQ 587.240625 59.674375 587.240625 57.674375 \nL 587.240625 29.318125 \nQ 587.240625 27.318125 585.240625 27.318125 \nL 440.4625 27.318125 \nQ 438.4625 27.318125 438.4625 29.318125 \nL 438.4625 57.674375 \nQ 438.4625 59.674375 440.4625 59.674375 \nz\n\" style=\"fill: #ffffff; opacity: 0.8; stroke: #cccccc; stroke-linejoin: miter\"/>\n    </g>\n    <g id=\"patch_48\">\n     <path d=\"M 442.4625 38.916562 \nL 462.4625 38.916562 \nL 462.4625 31.916562 \nL 442.4625 31.916562 \nz\n\" style=\"fill: #1f77b4; opacity: 0.5\"/>\n    </g>\n    <g id=\"text_20\">\n     <!-- Generated Summaries -->\n     <g transform=\"translate(470.4625 38.916562) scale(0.1 -0.1)\">\n      <defs>\n       <path id=\"DejaVuSans-47\" d=\"M 3809 666 \nL 3809 1919 \nL 2778 1919 \nL 2778 2438 \nL 4434 2438 \nL 4434 434 \nQ 4069 175 3628 42 \nQ 3188 -91 2688 -91 \nQ 1594 -91 976 548 \nQ 359 1188 359 2328 \nQ 359 3472 976 4111 \nQ 1594 4750 2688 4750 \nQ 3144 4750 3555 4637 \nQ 3966 4525 4313 4306 \nL 4313 3634 \nQ 3963 3931 3569 4081 \nQ 3175 4231 2741 4231 \nQ 1884 4231 1454 3753 \nQ 1025 3275 1025 2328 \nQ 1025 1384 1454 906 \nQ 1884 428 2741 428 \nQ 3075 428 3337 486 \nQ 3600 544 3809 666 \nz\n\" transform=\"scale(0.015625)\"/>\n      </defs>\n      <use xlink:href=\"#DejaVuSans-47\"/>\n      <use xlink:href=\"#DejaVuSans-65\" x=\"77.490234\"/>\n      <use xlink:href=\"#DejaVuSans-6e\" x=\"139.013672\"/>\n      <use xlink:href=\"#DejaVuSans-65\" x=\"202.392578\"/>\n      <use xlink:href=\"#DejaVuSans-72\" x=\"263.916016\"/>\n      <use xlink:href=\"#DejaVuSans-61\" x=\"305.029297\"/>\n      <use xlink:href=\"#DejaVuSans-74\" x=\"366.308594\"/>\n      <use xlink:href=\"#DejaVuSans-65\" x=\"405.517578\"/>\n      <use xlink:href=\"#DejaVuSans-64\" x=\"467.041016\"/>\n      <use xlink:href=\"#DejaVuSans-20\" x=\"530.517578\"/>\n      <use xlink:href=\"#DejaVuSans-53\" x=\"562.304688\"/>\n      <use xlink:href=\"#DejaVuSans-75\" x=\"625.78125\"/>\n      <use xlink:href=\"#DejaVuSans-6d\" x=\"689.160156\"/>\n      <use xlink:href=\"#DejaVuSans-6d\" x=\"786.572266\"/>\n      <use xlink:href=\"#DejaVuSans-61\" x=\"883.984375\"/>\n      <use xlink:href=\"#DejaVuSans-72\" x=\"945.263672\"/>\n      <use xlink:href=\"#DejaVuSans-69\" x=\"986.376953\"/>\n      <use xlink:href=\"#DejaVuSans-65\" x=\"1014.160156\"/>\n      <use xlink:href=\"#DejaVuSans-73\" x=\"1075.683594\"/>\n     </g>\n    </g>\n    <g id=\"patch_49\">\n     <path d=\"M 442.4625 53.594688 \nL 462.4625 53.594688 \nL 462.4625 46.594688 \nL 442.4625 46.594688 \nz\n\" style=\"fill: #ff7f0e; opacity: 0.5\"/>\n    </g>\n    <g id=\"text_21\">\n     <!-- Reference Summaries -->\n     <g transform=\"translate(470.4625 53.594688) scale(0.1 -0.1)\">\n      <defs>\n       <path id=\"DejaVuSans-52\" d=\"M 2841 2188 \nQ 3044 2119 3236 1894 \nQ 3428 1669 3622 1275 \nL 4263 0 \nL 3584 0 \nL 2988 1197 \nQ 2756 1666 2539 1819 \nQ 2322 1972 1947 1972 \nL 1259 1972 \nL 1259 0 \nL 628 0 \nL 628 4666 \nL 2053 4666 \nQ 2853 4666 3247 4331 \nQ 3641 3997 3641 3322 \nQ 3641 2881 3436 2590 \nQ 3231 2300 2841 2188 \nz\nM 1259 4147 \nL 1259 2491 \nL 2053 2491 \nQ 2509 2491 2742 2702 \nQ 2975 2913 2975 3322 \nQ 2975 3731 2742 3939 \nQ 2509 4147 2053 4147 \nL 1259 4147 \nz\n\" transform=\"scale(0.015625)\"/>\n      </defs>\n      <use xlink:href=\"#DejaVuSans-52\"/>\n      <use xlink:href=\"#DejaVuSans-65\" x=\"64.982422\"/>\n      <use xlink:href=\"#DejaVuSans-66\" x=\"126.505859\"/>\n      <use xlink:href=\"#DejaVuSans-65\" x=\"161.710938\"/>\n      <use xlink:href=\"#DejaVuSans-72\" x=\"223.234375\"/>\n      <use xlink:href=\"#DejaVuSans-65\" x=\"262.097656\"/>\n      <use xlink:href=\"#DejaVuSans-6e\" x=\"323.621094\"/>\n      <use xlink:href=\"#DejaVuSans-63\" x=\"387\"/>\n      <use xlink:href=\"#DejaVuSans-65\" x=\"441.980469\"/>\n      <use xlink:href=\"#DejaVuSans-20\" x=\"503.503906\"/>\n      <use xlink:href=\"#DejaVuSans-53\" x=\"535.291016\"/>\n      <use xlink:href=\"#DejaVuSans-75\" x=\"598.767578\"/>\n      <use xlink:href=\"#DejaVuSans-6d\" x=\"662.146484\"/>\n      <use xlink:href=\"#DejaVuSans-6d\" x=\"759.558594\"/>\n      <use xlink:href=\"#DejaVuSans-61\" x=\"856.970703\"/>\n      <use xlink:href=\"#DejaVuSans-72\" x=\"918.25\"/>\n      <use xlink:href=\"#DejaVuSans-69\" x=\"959.363281\"/>\n      <use xlink:href=\"#DejaVuSans-65\" x=\"987.146484\"/>\n      <use xlink:href=\"#DejaVuSans-73\" x=\"1048.669922\"/>\n     </g>\n    </g>\n   </g>\n  </g>\n </g>\n <defs>\n  <clipPath id=\"pebc6eb3622\">\n   <rect x=\"34.240625\" y=\"22.318125\" width=\"558\" height=\"277.2\"/>\n  </clipPath>\n </defs>\n</svg>\n",
            "text/plain": [
              "<Figure size 1000x500 with 1 Axes>"
            ]
          },
          "metadata": {},
          "output_type": "display_data"
        }
      ],
      "source": [
        "# Calcola le lunghezze dei riassunti generati e dei riferimenti\n",
        "generated_lengths = [len(text.split()) for text in predictions]\n",
        "reference_lengths = [len(text.split()) for text in references]\n",
        "\n",
        "# Plotta l'istogramma delle lunghezze\n",
        "plt.figure(figsize=(10, 5))\n",
        "plt.hist(generated_lengths, bins=20, alpha=0.5, label='Generated Summaries')\n",
        "plt.hist(reference_lengths, bins=20, alpha=0.5, label='Reference Summaries')\n",
        "plt.xlabel('Number of Words')\n",
        "plt.ylabel('Frequency')\n",
        "plt.title('Distribution of Summary Lengths')\n",
        "plt.legend()\n",
        "plt.show()\n"
      ]
    },
    {
      "cell_type": "markdown",
      "metadata": {
        "id": "B7pTMXzxHj0Y"
      },
      "source": [
        "## **Misure di accuratezza**"
      ]
    },
    {
      "cell_type": "markdown",
      "source": [
        "Calcoliamo le misure di accuratezza del modello"
      ],
      "metadata": {
        "id": "bfnoBDcVq8gC"
      }
    },
    {
      "cell_type": "markdown",
      "metadata": {
        "id": "Ekfs8GMzIJEL"
      },
      "source": [
        "#### **ROUGE**"
      ]
    },
    {
      "cell_type": "markdown",
      "source": [
        "La misura ROUGE in questo caso è formata da ROUGE-1, ROUGE-2 e ROUGE-L, che ROUGE 1 e 2 indica la sovrapposizione degli n-grammi, quindi nel caso in questione dell'unigramma e del bigramma. ROUGE-L invece riguarda la lunghezza delle sequenze"
      ],
      "metadata": {
        "id": "NYMUjaK0rA6B"
      }
    },
    {
      "cell_type": "code",
      "execution_count": null,
      "metadata": {
        "colab": {
          "base_uri": "https://localhost:8080/"
        },
        "id": "ex8ELM2KmlYD",
        "outputId": "b57a2ee7-cc64-4524-8e5a-026fb67cd052"
      },
      "outputs": [
        {
          "output_type": "stream",
          "name": "stdout",
          "text": [
            "ROUGE Scores:\n",
            "ROUGE-1: {'r': 0.30966599826995134, 'p': 0.28076551186967996, 'f': 0.2889366056951176}\n",
            "ROUGE-2: {'r': 0.14934077175274546, 'p': 0.13067360460099292, 'f': 0.13666568252977598}\n",
            "ROUGE-L: {'r': 0.28596560200298315, 'p': 0.25964533165497883, 'f': 0.266893847936434}\n"
          ]
        }
      ],
      "source": [
        "rouge = Rouge()\n",
        "scores = rouge.get_scores(predictions, references, avg=True)\n",
        "\n",
        "# Stampa i risultati\n",
        "print(\"ROUGE Scores:\")\n",
        "print(f\"ROUGE-1: {scores['rouge-1']}\")\n",
        "print(f\"ROUGE-2: {scores['rouge-2']}\")\n",
        "print(f\"ROUGE-L: {scores['rouge-l']}\")"
      ]
    },
    {
      "cell_type": "markdown",
      "metadata": {
        "id": "5ijiga0_IKXY"
      },
      "source": [
        "#### **BLUE**"
      ]
    },
    {
      "cell_type": "markdown",
      "source": [
        "La metrica BLUE non è propriamente adatta alla text summarization, è utilizzata in modo efficace nella traduzione, perché il testo generato dal modello deve corrispondere in modo fedele al testo reale, ma per la sintesi dei testi questo non vale, perché in parole diverse si può esprimere lo stesso significato."
      ],
      "metadata": {
        "id": "go1t8dCgrSvq"
      }
    },
    {
      "cell_type": "code",
      "execution_count": null,
      "metadata": {
        "colab": {
          "base_uri": "https://localhost:8080/"
        },
        "id": "01YbsjULH6FU",
        "outputId": "3f6444f3-f268-4d10-9306-f645dcbf24cb"
      },
      "outputs": [
        {
          "output_type": "stream",
          "name": "stdout",
          "text": [
            "BLEU Scores with Smoothing (per ogni coppia): [0.004451963616250483, 0.10266955198877506, 0.011961709986958346, 0.49915938920340513, 0.01365914929695545, 0.363622704650007, 0.005203300368769517, 0.015634762919024457, 0.40826691498313367, 0.005049952642989119, 0.010193843668780917, 0.005151402656838269, 0.00707605312908826, 0.012655561198673315, 0.057446387286086247, 0.14908960803395838, 0.036817760899933355, 0.10016820495011315, 0.005025594790515843, 0.02624308202742789, 0.004123762330794954, 0.010084325049930443, 0.05423392627485669, 0.12630318292679518, 0.003367842053959438, 0.004324532546840044, 0.019489251419289165, 0.014121353246434959, 0.762465858623486, 0.005739995047374933, 1.0, 0.034039211846625915, 0, 0.006195258373090771, 0.011503349393390701, 0.004324532546840044, 0.004579364614898171, 0.0057583984408872396, 0.0055913101225260695, 0.007048793693474341]\n",
            "BLEU Score with Smoothing (intero corpus): 0.057021683860861205\n"
          ]
        }
      ],
      "source": [
        "# Calcola BLEU per ogni coppia di predizione e riferimento con smoothing\n",
        "smoother = SmoothingFunction().method1  # Puoi sperimentare con metodi diversi\n",
        "bleu_scores_smoothed = [sentence_bleu([ref.split()], pred.split(), smoothing_function=smoother) for ref, pred in zip(references, predictions)]\n",
        "\n",
        "# Calcola BLEU per l'intero corpus con smoothing\n",
        "corpus_bleu_score_smoothed = corpus_bleu([[ref.split()] for ref in references], [pred.split() for pred in predictions], smoothing_function=smoother)\n",
        "\n",
        "# Visualizza i risultati con smoothing\n",
        "print(f\"BLEU Scores with Smoothing (per ogni coppia): {bleu_scores_smoothed}\")\n",
        "print(f\"BLEU Score with Smoothing (intero corpus): {corpus_bleu_score_smoothed}\")\n"
      ]
    },
    {
      "cell_type": "markdown",
      "metadata": {
        "id": "gFAa8WaXHqhG"
      },
      "source": [
        "## **Esempio di text summarization**"
      ]
    },
    {
      "cell_type": "markdown",
      "source": [
        "Esempio dell'utilizzo del modello di text summary su un articolo della rivista IlPost in ambito tecnologia, non presente nel dataset né di train né di test."
      ],
      "metadata": {
        "id": "fCL7quiJrqbl"
      }
    },
    {
      "cell_type": "code",
      "execution_count": null,
      "metadata": {
        "id": "vQMPalYG_6Wk"
      },
      "outputs": [],
      "source": [
        "from transformers import MBartTokenizer, MBartForConditionalGeneration\n",
        "tokenizer = MBartTokenizer.from_pretrained(\"ARTeLab/mbart-summarization-ilpost\")\n",
        "model = MBartForConditionalGeneration.from_pretrained(\"ARTeLab/mbart-summarization-ilpost\")\n",
        "model.load_state_dict(torch.load('/content/drive/MyDrive/Prog_NLP/tesxsumm_bert.pkl'))"
      ]
    },
    {
      "cell_type": "code",
      "source": [
        "file_path = \"/content/drive/MyDrive/Prog_NLP/Prova.txt\"\n",
        "with open(file_path, \"r\", encoding=\"utf-8\") as file:\n",
        "    input_text = file.read()\n",
        "\n",
        "\n",
        "input_ids = tokenizer(input_text, return_tensors=\"pt\", max_length=1024, truncation=True)['input_ids']\n",
        "model.eval()\n",
        "with torch.no_grad():\n",
        "    summary_ids = model.generate(input_ids)\n",
        "\n",
        "# Decodifica il riassunto\n",
        "summary_text = tokenizer.decode(summary_ids[0], skip_special_tokens=True)\n",
        "\n",
        "# Stampa il riassunto\n",
        "print(\"Riassunto generato:\")\n",
        "print(summary_text)"
      ],
      "metadata": {
        "id": "o5H5dEHW9kuQ"
      },
      "execution_count": null,
      "outputs": []
    }
  ],
  "metadata": {
    "colab": {
      "collapsed_sections": [
        "PZveKYCSy8Nn",
        "AAbJayKfzBqp",
        "hfv_k2XAyqk3",
        "3OlnBjXzx3sf",
        "ResnkptDqBbp"
      ],
      "provenance": []
    },
    "kernelspec": {
      "display_name": "Python 3",
      "name": "python3"
    },
    "language_info": {
      "name": "python"
    },
    "widgets": {
      "application/vnd.jupyter.widget-state+json": {
        "d3a8d4c861514adcae38ce30fba419c4": {
          "model_module": "@jupyter-widgets/controls",
          "model_name": "HBoxModel",
          "model_module_version": "1.5.0",
          "state": {
            "_dom_classes": [],
            "_model_module": "@jupyter-widgets/controls",
            "_model_module_version": "1.5.0",
            "_model_name": "HBoxModel",
            "_view_count": null,
            "_view_module": "@jupyter-widgets/controls",
            "_view_module_version": "1.5.0",
            "_view_name": "HBoxView",
            "box_style": "",
            "children": [
              "IPY_MODEL_5d547c53c41a457cbce77894d0a7293d",
              "IPY_MODEL_64fba2533b344aab861945f158997db0",
              "IPY_MODEL_d210298eb3d14fb7958b534f4bfce420"
            ],
            "layout": "IPY_MODEL_3ec05d536eac41df8ab9970bc8a583e3"
          }
        },
        "5d547c53c41a457cbce77894d0a7293d": {
          "model_module": "@jupyter-widgets/controls",
          "model_name": "HTMLModel",
          "model_module_version": "1.5.0",
          "state": {
            "_dom_classes": [],
            "_model_module": "@jupyter-widgets/controls",
            "_model_module_version": "1.5.0",
            "_model_name": "HTMLModel",
            "_view_count": null,
            "_view_module": "@jupyter-widgets/controls",
            "_view_module_version": "1.5.0",
            "_view_name": "HTMLView",
            "description": "",
            "description_tooltip": null,
            "layout": "IPY_MODEL_4d09c35b7a31415797f96de8a34da48e",
            "placeholder": "​",
            "style": "IPY_MODEL_b041608c476c4fc3956edaa4b1f78563",
            "value": "tokenizer_config.json: 100%"
          }
        },
        "64fba2533b344aab861945f158997db0": {
          "model_module": "@jupyter-widgets/controls",
          "model_name": "FloatProgressModel",
          "model_module_version": "1.5.0",
          "state": {
            "_dom_classes": [],
            "_model_module": "@jupyter-widgets/controls",
            "_model_module_version": "1.5.0",
            "_model_name": "FloatProgressModel",
            "_view_count": null,
            "_view_module": "@jupyter-widgets/controls",
            "_view_module_version": "1.5.0",
            "_view_name": "ProgressView",
            "bar_style": "success",
            "description": "",
            "description_tooltip": null,
            "layout": "IPY_MODEL_fd6702e2063c485cb7da123b18c72574",
            "max": 474,
            "min": 0,
            "orientation": "horizontal",
            "style": "IPY_MODEL_6e4219a39f484ff49d9ce664db503a1d",
            "value": 474
          }
        },
        "d210298eb3d14fb7958b534f4bfce420": {
          "model_module": "@jupyter-widgets/controls",
          "model_name": "HTMLModel",
          "model_module_version": "1.5.0",
          "state": {
            "_dom_classes": [],
            "_model_module": "@jupyter-widgets/controls",
            "_model_module_version": "1.5.0",
            "_model_name": "HTMLModel",
            "_view_count": null,
            "_view_module": "@jupyter-widgets/controls",
            "_view_module_version": "1.5.0",
            "_view_name": "HTMLView",
            "description": "",
            "description_tooltip": null,
            "layout": "IPY_MODEL_84bae4472ac946a0ab619bef09de2d30",
            "placeholder": "​",
            "style": "IPY_MODEL_8747309fc4a7423eb4422f86c33fd5ab",
            "value": " 474/474 [00:00&lt;00:00, 38.3kB/s]"
          }
        },
        "3ec05d536eac41df8ab9970bc8a583e3": {
          "model_module": "@jupyter-widgets/base",
          "model_name": "LayoutModel",
          "model_module_version": "1.2.0",
          "state": {
            "_model_module": "@jupyter-widgets/base",
            "_model_module_version": "1.2.0",
            "_model_name": "LayoutModel",
            "_view_count": null,
            "_view_module": "@jupyter-widgets/base",
            "_view_module_version": "1.2.0",
            "_view_name": "LayoutView",
            "align_content": null,
            "align_items": null,
            "align_self": null,
            "border": null,
            "bottom": null,
            "display": null,
            "flex": null,
            "flex_flow": null,
            "grid_area": null,
            "grid_auto_columns": null,
            "grid_auto_flow": null,
            "grid_auto_rows": null,
            "grid_column": null,
            "grid_gap": null,
            "grid_row": null,
            "grid_template_areas": null,
            "grid_template_columns": null,
            "grid_template_rows": null,
            "height": null,
            "justify_content": null,
            "justify_items": null,
            "left": null,
            "margin": null,
            "max_height": null,
            "max_width": null,
            "min_height": null,
            "min_width": null,
            "object_fit": null,
            "object_position": null,
            "order": null,
            "overflow": null,
            "overflow_x": null,
            "overflow_y": null,
            "padding": null,
            "right": null,
            "top": null,
            "visibility": null,
            "width": null
          }
        },
        "4d09c35b7a31415797f96de8a34da48e": {
          "model_module": "@jupyter-widgets/base",
          "model_name": "LayoutModel",
          "model_module_version": "1.2.0",
          "state": {
            "_model_module": "@jupyter-widgets/base",
            "_model_module_version": "1.2.0",
            "_model_name": "LayoutModel",
            "_view_count": null,
            "_view_module": "@jupyter-widgets/base",
            "_view_module_version": "1.2.0",
            "_view_name": "LayoutView",
            "align_content": null,
            "align_items": null,
            "align_self": null,
            "border": null,
            "bottom": null,
            "display": null,
            "flex": null,
            "flex_flow": null,
            "grid_area": null,
            "grid_auto_columns": null,
            "grid_auto_flow": null,
            "grid_auto_rows": null,
            "grid_column": null,
            "grid_gap": null,
            "grid_row": null,
            "grid_template_areas": null,
            "grid_template_columns": null,
            "grid_template_rows": null,
            "height": null,
            "justify_content": null,
            "justify_items": null,
            "left": null,
            "margin": null,
            "max_height": null,
            "max_width": null,
            "min_height": null,
            "min_width": null,
            "object_fit": null,
            "object_position": null,
            "order": null,
            "overflow": null,
            "overflow_x": null,
            "overflow_y": null,
            "padding": null,
            "right": null,
            "top": null,
            "visibility": null,
            "width": null
          }
        },
        "b041608c476c4fc3956edaa4b1f78563": {
          "model_module": "@jupyter-widgets/controls",
          "model_name": "DescriptionStyleModel",
          "model_module_version": "1.5.0",
          "state": {
            "_model_module": "@jupyter-widgets/controls",
            "_model_module_version": "1.5.0",
            "_model_name": "DescriptionStyleModel",
            "_view_count": null,
            "_view_module": "@jupyter-widgets/base",
            "_view_module_version": "1.2.0",
            "_view_name": "StyleView",
            "description_width": ""
          }
        },
        "fd6702e2063c485cb7da123b18c72574": {
          "model_module": "@jupyter-widgets/base",
          "model_name": "LayoutModel",
          "model_module_version": "1.2.0",
          "state": {
            "_model_module": "@jupyter-widgets/base",
            "_model_module_version": "1.2.0",
            "_model_name": "LayoutModel",
            "_view_count": null,
            "_view_module": "@jupyter-widgets/base",
            "_view_module_version": "1.2.0",
            "_view_name": "LayoutView",
            "align_content": null,
            "align_items": null,
            "align_self": null,
            "border": null,
            "bottom": null,
            "display": null,
            "flex": null,
            "flex_flow": null,
            "grid_area": null,
            "grid_auto_columns": null,
            "grid_auto_flow": null,
            "grid_auto_rows": null,
            "grid_column": null,
            "grid_gap": null,
            "grid_row": null,
            "grid_template_areas": null,
            "grid_template_columns": null,
            "grid_template_rows": null,
            "height": null,
            "justify_content": null,
            "justify_items": null,
            "left": null,
            "margin": null,
            "max_height": null,
            "max_width": null,
            "min_height": null,
            "min_width": null,
            "object_fit": null,
            "object_position": null,
            "order": null,
            "overflow": null,
            "overflow_x": null,
            "overflow_y": null,
            "padding": null,
            "right": null,
            "top": null,
            "visibility": null,
            "width": null
          }
        },
        "6e4219a39f484ff49d9ce664db503a1d": {
          "model_module": "@jupyter-widgets/controls",
          "model_name": "ProgressStyleModel",
          "model_module_version": "1.5.0",
          "state": {
            "_model_module": "@jupyter-widgets/controls",
            "_model_module_version": "1.5.0",
            "_model_name": "ProgressStyleModel",
            "_view_count": null,
            "_view_module": "@jupyter-widgets/base",
            "_view_module_version": "1.2.0",
            "_view_name": "StyleView",
            "bar_color": null,
            "description_width": ""
          }
        },
        "84bae4472ac946a0ab619bef09de2d30": {
          "model_module": "@jupyter-widgets/base",
          "model_name": "LayoutModel",
          "model_module_version": "1.2.0",
          "state": {
            "_model_module": "@jupyter-widgets/base",
            "_model_module_version": "1.2.0",
            "_model_name": "LayoutModel",
            "_view_count": null,
            "_view_module": "@jupyter-widgets/base",
            "_view_module_version": "1.2.0",
            "_view_name": "LayoutView",
            "align_content": null,
            "align_items": null,
            "align_self": null,
            "border": null,
            "bottom": null,
            "display": null,
            "flex": null,
            "flex_flow": null,
            "grid_area": null,
            "grid_auto_columns": null,
            "grid_auto_flow": null,
            "grid_auto_rows": null,
            "grid_column": null,
            "grid_gap": null,
            "grid_row": null,
            "grid_template_areas": null,
            "grid_template_columns": null,
            "grid_template_rows": null,
            "height": null,
            "justify_content": null,
            "justify_items": null,
            "left": null,
            "margin": null,
            "max_height": null,
            "max_width": null,
            "min_height": null,
            "min_width": null,
            "object_fit": null,
            "object_position": null,
            "order": null,
            "overflow": null,
            "overflow_x": null,
            "overflow_y": null,
            "padding": null,
            "right": null,
            "top": null,
            "visibility": null,
            "width": null
          }
        },
        "8747309fc4a7423eb4422f86c33fd5ab": {
          "model_module": "@jupyter-widgets/controls",
          "model_name": "DescriptionStyleModel",
          "model_module_version": "1.5.0",
          "state": {
            "_model_module": "@jupyter-widgets/controls",
            "_model_module_version": "1.5.0",
            "_model_name": "DescriptionStyleModel",
            "_view_count": null,
            "_view_module": "@jupyter-widgets/base",
            "_view_module_version": "1.2.0",
            "_view_name": "StyleView",
            "description_width": ""
          }
        },
        "2b55cd113b624ac0b2cc59754b3fc051": {
          "model_module": "@jupyter-widgets/controls",
          "model_name": "HBoxModel",
          "model_module_version": "1.5.0",
          "state": {
            "_dom_classes": [],
            "_model_module": "@jupyter-widgets/controls",
            "_model_module_version": "1.5.0",
            "_model_name": "HBoxModel",
            "_view_count": null,
            "_view_module": "@jupyter-widgets/controls",
            "_view_module_version": "1.5.0",
            "_view_name": "HBoxView",
            "box_style": "",
            "children": [
              "IPY_MODEL_d75c61d4b99b41ae8b291a2ec5ac549b",
              "IPY_MODEL_8c9871d89e8840eb8fb10d3ab4cac084",
              "IPY_MODEL_315c594718d04217a1c676fd4b0a6206"
            ],
            "layout": "IPY_MODEL_77ca91695762487995171980d957e5e8"
          }
        },
        "d75c61d4b99b41ae8b291a2ec5ac549b": {
          "model_module": "@jupyter-widgets/controls",
          "model_name": "HTMLModel",
          "model_module_version": "1.5.0",
          "state": {
            "_dom_classes": [],
            "_model_module": "@jupyter-widgets/controls",
            "_model_module_version": "1.5.0",
            "_model_name": "HTMLModel",
            "_view_count": null,
            "_view_module": "@jupyter-widgets/controls",
            "_view_module_version": "1.5.0",
            "_view_name": "HTMLView",
            "description": "",
            "description_tooltip": null,
            "layout": "IPY_MODEL_12c7d88714a84b6daa5777917fdaa736",
            "placeholder": "​",
            "style": "IPY_MODEL_d6eed16fbe6b45ae8afe0c8a68bd2a36",
            "value": "sentencepiece.bpe.model: 100%"
          }
        },
        "8c9871d89e8840eb8fb10d3ab4cac084": {
          "model_module": "@jupyter-widgets/controls",
          "model_name": "FloatProgressModel",
          "model_module_version": "1.5.0",
          "state": {
            "_dom_classes": [],
            "_model_module": "@jupyter-widgets/controls",
            "_model_module_version": "1.5.0",
            "_model_name": "FloatProgressModel",
            "_view_count": null,
            "_view_module": "@jupyter-widgets/controls",
            "_view_module_version": "1.5.0",
            "_view_name": "ProgressView",
            "bar_style": "success",
            "description": "",
            "description_tooltip": null,
            "layout": "IPY_MODEL_ad1053d3fee44d60b9ee4fbbd013b0fb",
            "max": 5069051,
            "min": 0,
            "orientation": "horizontal",
            "style": "IPY_MODEL_00100b0e37d546a0b68e661777ca2ac6",
            "value": 5069051
          }
        },
        "315c594718d04217a1c676fd4b0a6206": {
          "model_module": "@jupyter-widgets/controls",
          "model_name": "HTMLModel",
          "model_module_version": "1.5.0",
          "state": {
            "_dom_classes": [],
            "_model_module": "@jupyter-widgets/controls",
            "_model_module_version": "1.5.0",
            "_model_name": "HTMLModel",
            "_view_count": null,
            "_view_module": "@jupyter-widgets/controls",
            "_view_module_version": "1.5.0",
            "_view_name": "HTMLView",
            "description": "",
            "description_tooltip": null,
            "layout": "IPY_MODEL_9ebb0847337546038893ecdba7cc4119",
            "placeholder": "​",
            "style": "IPY_MODEL_240eb1a617bf4849a8a2daf7d31544f1",
            "value": " 5.07M/5.07M [00:01&lt;00:00, 2.59MB/s]"
          }
        },
        "77ca91695762487995171980d957e5e8": {
          "model_module": "@jupyter-widgets/base",
          "model_name": "LayoutModel",
          "model_module_version": "1.2.0",
          "state": {
            "_model_module": "@jupyter-widgets/base",
            "_model_module_version": "1.2.0",
            "_model_name": "LayoutModel",
            "_view_count": null,
            "_view_module": "@jupyter-widgets/base",
            "_view_module_version": "1.2.0",
            "_view_name": "LayoutView",
            "align_content": null,
            "align_items": null,
            "align_self": null,
            "border": null,
            "bottom": null,
            "display": null,
            "flex": null,
            "flex_flow": null,
            "grid_area": null,
            "grid_auto_columns": null,
            "grid_auto_flow": null,
            "grid_auto_rows": null,
            "grid_column": null,
            "grid_gap": null,
            "grid_row": null,
            "grid_template_areas": null,
            "grid_template_columns": null,
            "grid_template_rows": null,
            "height": null,
            "justify_content": null,
            "justify_items": null,
            "left": null,
            "margin": null,
            "max_height": null,
            "max_width": null,
            "min_height": null,
            "min_width": null,
            "object_fit": null,
            "object_position": null,
            "order": null,
            "overflow": null,
            "overflow_x": null,
            "overflow_y": null,
            "padding": null,
            "right": null,
            "top": null,
            "visibility": null,
            "width": null
          }
        },
        "12c7d88714a84b6daa5777917fdaa736": {
          "model_module": "@jupyter-widgets/base",
          "model_name": "LayoutModel",
          "model_module_version": "1.2.0",
          "state": {
            "_model_module": "@jupyter-widgets/base",
            "_model_module_version": "1.2.0",
            "_model_name": "LayoutModel",
            "_view_count": null,
            "_view_module": "@jupyter-widgets/base",
            "_view_module_version": "1.2.0",
            "_view_name": "LayoutView",
            "align_content": null,
            "align_items": null,
            "align_self": null,
            "border": null,
            "bottom": null,
            "display": null,
            "flex": null,
            "flex_flow": null,
            "grid_area": null,
            "grid_auto_columns": null,
            "grid_auto_flow": null,
            "grid_auto_rows": null,
            "grid_column": null,
            "grid_gap": null,
            "grid_row": null,
            "grid_template_areas": null,
            "grid_template_columns": null,
            "grid_template_rows": null,
            "height": null,
            "justify_content": null,
            "justify_items": null,
            "left": null,
            "margin": null,
            "max_height": null,
            "max_width": null,
            "min_height": null,
            "min_width": null,
            "object_fit": null,
            "object_position": null,
            "order": null,
            "overflow": null,
            "overflow_x": null,
            "overflow_y": null,
            "padding": null,
            "right": null,
            "top": null,
            "visibility": null,
            "width": null
          }
        },
        "d6eed16fbe6b45ae8afe0c8a68bd2a36": {
          "model_module": "@jupyter-widgets/controls",
          "model_name": "DescriptionStyleModel",
          "model_module_version": "1.5.0",
          "state": {
            "_model_module": "@jupyter-widgets/controls",
            "_model_module_version": "1.5.0",
            "_model_name": "DescriptionStyleModel",
            "_view_count": null,
            "_view_module": "@jupyter-widgets/base",
            "_view_module_version": "1.2.0",
            "_view_name": "StyleView",
            "description_width": ""
          }
        },
        "ad1053d3fee44d60b9ee4fbbd013b0fb": {
          "model_module": "@jupyter-widgets/base",
          "model_name": "LayoutModel",
          "model_module_version": "1.2.0",
          "state": {
            "_model_module": "@jupyter-widgets/base",
            "_model_module_version": "1.2.0",
            "_model_name": "LayoutModel",
            "_view_count": null,
            "_view_module": "@jupyter-widgets/base",
            "_view_module_version": "1.2.0",
            "_view_name": "LayoutView",
            "align_content": null,
            "align_items": null,
            "align_self": null,
            "border": null,
            "bottom": null,
            "display": null,
            "flex": null,
            "flex_flow": null,
            "grid_area": null,
            "grid_auto_columns": null,
            "grid_auto_flow": null,
            "grid_auto_rows": null,
            "grid_column": null,
            "grid_gap": null,
            "grid_row": null,
            "grid_template_areas": null,
            "grid_template_columns": null,
            "grid_template_rows": null,
            "height": null,
            "justify_content": null,
            "justify_items": null,
            "left": null,
            "margin": null,
            "max_height": null,
            "max_width": null,
            "min_height": null,
            "min_width": null,
            "object_fit": null,
            "object_position": null,
            "order": null,
            "overflow": null,
            "overflow_x": null,
            "overflow_y": null,
            "padding": null,
            "right": null,
            "top": null,
            "visibility": null,
            "width": null
          }
        },
        "00100b0e37d546a0b68e661777ca2ac6": {
          "model_module": "@jupyter-widgets/controls",
          "model_name": "ProgressStyleModel",
          "model_module_version": "1.5.0",
          "state": {
            "_model_module": "@jupyter-widgets/controls",
            "_model_module_version": "1.5.0",
            "_model_name": "ProgressStyleModel",
            "_view_count": null,
            "_view_module": "@jupyter-widgets/base",
            "_view_module_version": "1.2.0",
            "_view_name": "StyleView",
            "bar_color": null,
            "description_width": ""
          }
        },
        "9ebb0847337546038893ecdba7cc4119": {
          "model_module": "@jupyter-widgets/base",
          "model_name": "LayoutModel",
          "model_module_version": "1.2.0",
          "state": {
            "_model_module": "@jupyter-widgets/base",
            "_model_module_version": "1.2.0",
            "_model_name": "LayoutModel",
            "_view_count": null,
            "_view_module": "@jupyter-widgets/base",
            "_view_module_version": "1.2.0",
            "_view_name": "LayoutView",
            "align_content": null,
            "align_items": null,
            "align_self": null,
            "border": null,
            "bottom": null,
            "display": null,
            "flex": null,
            "flex_flow": null,
            "grid_area": null,
            "grid_auto_columns": null,
            "grid_auto_flow": null,
            "grid_auto_rows": null,
            "grid_column": null,
            "grid_gap": null,
            "grid_row": null,
            "grid_template_areas": null,
            "grid_template_columns": null,
            "grid_template_rows": null,
            "height": null,
            "justify_content": null,
            "justify_items": null,
            "left": null,
            "margin": null,
            "max_height": null,
            "max_width": null,
            "min_height": null,
            "min_width": null,
            "object_fit": null,
            "object_position": null,
            "order": null,
            "overflow": null,
            "overflow_x": null,
            "overflow_y": null,
            "padding": null,
            "right": null,
            "top": null,
            "visibility": null,
            "width": null
          }
        },
        "240eb1a617bf4849a8a2daf7d31544f1": {
          "model_module": "@jupyter-widgets/controls",
          "model_name": "DescriptionStyleModel",
          "model_module_version": "1.5.0",
          "state": {
            "_model_module": "@jupyter-widgets/controls",
            "_model_module_version": "1.5.0",
            "_model_name": "DescriptionStyleModel",
            "_view_count": null,
            "_view_module": "@jupyter-widgets/base",
            "_view_module_version": "1.2.0",
            "_view_name": "StyleView",
            "description_width": ""
          }
        },
        "af68eaecd7e14423a57d004479b56c81": {
          "model_module": "@jupyter-widgets/controls",
          "model_name": "HBoxModel",
          "model_module_version": "1.5.0",
          "state": {
            "_dom_classes": [],
            "_model_module": "@jupyter-widgets/controls",
            "_model_module_version": "1.5.0",
            "_model_name": "HBoxModel",
            "_view_count": null,
            "_view_module": "@jupyter-widgets/controls",
            "_view_module_version": "1.5.0",
            "_view_name": "HBoxView",
            "box_style": "",
            "children": [
              "IPY_MODEL_6fee2483f64a472fb4d37eff930523fa",
              "IPY_MODEL_d1734d04234942199dcde301c48bbea7",
              "IPY_MODEL_4ff265ea1bd548058c593d17178f41d1"
            ],
            "layout": "IPY_MODEL_c6e08aa6a396493c80746bdb3fdd7e31"
          }
        },
        "6fee2483f64a472fb4d37eff930523fa": {
          "model_module": "@jupyter-widgets/controls",
          "model_name": "HTMLModel",
          "model_module_version": "1.5.0",
          "state": {
            "_dom_classes": [],
            "_model_module": "@jupyter-widgets/controls",
            "_model_module_version": "1.5.0",
            "_model_name": "HTMLModel",
            "_view_count": null,
            "_view_module": "@jupyter-widgets/controls",
            "_view_module_version": "1.5.0",
            "_view_name": "HTMLView",
            "description": "",
            "description_tooltip": null,
            "layout": "IPY_MODEL_ccca45ee9226497d88aefb168e1b9328",
            "placeholder": "​",
            "style": "IPY_MODEL_83b6e72e47b14be9816a5f90e8875d3f",
            "value": "special_tokens_map.json: 100%"
          }
        },
        "d1734d04234942199dcde301c48bbea7": {
          "model_module": "@jupyter-widgets/controls",
          "model_name": "FloatProgressModel",
          "model_module_version": "1.5.0",
          "state": {
            "_dom_classes": [],
            "_model_module": "@jupyter-widgets/controls",
            "_model_module_version": "1.5.0",
            "_model_name": "FloatProgressModel",
            "_view_count": null,
            "_view_module": "@jupyter-widgets/controls",
            "_view_module_version": "1.5.0",
            "_view_name": "ProgressView",
            "bar_style": "success",
            "description": "",
            "description_tooltip": null,
            "layout": "IPY_MODEL_fe883d84519f4e0c8c08416c07517575",
            "max": 495,
            "min": 0,
            "orientation": "horizontal",
            "style": "IPY_MODEL_b4ac5ae8ad2c4e58b9d4d5ed89ee76af",
            "value": 495
          }
        },
        "4ff265ea1bd548058c593d17178f41d1": {
          "model_module": "@jupyter-widgets/controls",
          "model_name": "HTMLModel",
          "model_module_version": "1.5.0",
          "state": {
            "_dom_classes": [],
            "_model_module": "@jupyter-widgets/controls",
            "_model_module_version": "1.5.0",
            "_model_name": "HTMLModel",
            "_view_count": null,
            "_view_module": "@jupyter-widgets/controls",
            "_view_module_version": "1.5.0",
            "_view_name": "HTMLView",
            "description": "",
            "description_tooltip": null,
            "layout": "IPY_MODEL_eb4b6c33ba0a4a95b5deef9dea69b84f",
            "placeholder": "​",
            "style": "IPY_MODEL_770e8ec3ea84446a8e974a0935b0db20",
            "value": " 495/495 [00:00&lt;00:00, 42.9kB/s]"
          }
        },
        "c6e08aa6a396493c80746bdb3fdd7e31": {
          "model_module": "@jupyter-widgets/base",
          "model_name": "LayoutModel",
          "model_module_version": "1.2.0",
          "state": {
            "_model_module": "@jupyter-widgets/base",
            "_model_module_version": "1.2.0",
            "_model_name": "LayoutModel",
            "_view_count": null,
            "_view_module": "@jupyter-widgets/base",
            "_view_module_version": "1.2.0",
            "_view_name": "LayoutView",
            "align_content": null,
            "align_items": null,
            "align_self": null,
            "border": null,
            "bottom": null,
            "display": null,
            "flex": null,
            "flex_flow": null,
            "grid_area": null,
            "grid_auto_columns": null,
            "grid_auto_flow": null,
            "grid_auto_rows": null,
            "grid_column": null,
            "grid_gap": null,
            "grid_row": null,
            "grid_template_areas": null,
            "grid_template_columns": null,
            "grid_template_rows": null,
            "height": null,
            "justify_content": null,
            "justify_items": null,
            "left": null,
            "margin": null,
            "max_height": null,
            "max_width": null,
            "min_height": null,
            "min_width": null,
            "object_fit": null,
            "object_position": null,
            "order": null,
            "overflow": null,
            "overflow_x": null,
            "overflow_y": null,
            "padding": null,
            "right": null,
            "top": null,
            "visibility": null,
            "width": null
          }
        },
        "ccca45ee9226497d88aefb168e1b9328": {
          "model_module": "@jupyter-widgets/base",
          "model_name": "LayoutModel",
          "model_module_version": "1.2.0",
          "state": {
            "_model_module": "@jupyter-widgets/base",
            "_model_module_version": "1.2.0",
            "_model_name": "LayoutModel",
            "_view_count": null,
            "_view_module": "@jupyter-widgets/base",
            "_view_module_version": "1.2.0",
            "_view_name": "LayoutView",
            "align_content": null,
            "align_items": null,
            "align_self": null,
            "border": null,
            "bottom": null,
            "display": null,
            "flex": null,
            "flex_flow": null,
            "grid_area": null,
            "grid_auto_columns": null,
            "grid_auto_flow": null,
            "grid_auto_rows": null,
            "grid_column": null,
            "grid_gap": null,
            "grid_row": null,
            "grid_template_areas": null,
            "grid_template_columns": null,
            "grid_template_rows": null,
            "height": null,
            "justify_content": null,
            "justify_items": null,
            "left": null,
            "margin": null,
            "max_height": null,
            "max_width": null,
            "min_height": null,
            "min_width": null,
            "object_fit": null,
            "object_position": null,
            "order": null,
            "overflow": null,
            "overflow_x": null,
            "overflow_y": null,
            "padding": null,
            "right": null,
            "top": null,
            "visibility": null,
            "width": null
          }
        },
        "83b6e72e47b14be9816a5f90e8875d3f": {
          "model_module": "@jupyter-widgets/controls",
          "model_name": "DescriptionStyleModel",
          "model_module_version": "1.5.0",
          "state": {
            "_model_module": "@jupyter-widgets/controls",
            "_model_module_version": "1.5.0",
            "_model_name": "DescriptionStyleModel",
            "_view_count": null,
            "_view_module": "@jupyter-widgets/base",
            "_view_module_version": "1.2.0",
            "_view_name": "StyleView",
            "description_width": ""
          }
        },
        "fe883d84519f4e0c8c08416c07517575": {
          "model_module": "@jupyter-widgets/base",
          "model_name": "LayoutModel",
          "model_module_version": "1.2.0",
          "state": {
            "_model_module": "@jupyter-widgets/base",
            "_model_module_version": "1.2.0",
            "_model_name": "LayoutModel",
            "_view_count": null,
            "_view_module": "@jupyter-widgets/base",
            "_view_module_version": "1.2.0",
            "_view_name": "LayoutView",
            "align_content": null,
            "align_items": null,
            "align_self": null,
            "border": null,
            "bottom": null,
            "display": null,
            "flex": null,
            "flex_flow": null,
            "grid_area": null,
            "grid_auto_columns": null,
            "grid_auto_flow": null,
            "grid_auto_rows": null,
            "grid_column": null,
            "grid_gap": null,
            "grid_row": null,
            "grid_template_areas": null,
            "grid_template_columns": null,
            "grid_template_rows": null,
            "height": null,
            "justify_content": null,
            "justify_items": null,
            "left": null,
            "margin": null,
            "max_height": null,
            "max_width": null,
            "min_height": null,
            "min_width": null,
            "object_fit": null,
            "object_position": null,
            "order": null,
            "overflow": null,
            "overflow_x": null,
            "overflow_y": null,
            "padding": null,
            "right": null,
            "top": null,
            "visibility": null,
            "width": null
          }
        },
        "b4ac5ae8ad2c4e58b9d4d5ed89ee76af": {
          "model_module": "@jupyter-widgets/controls",
          "model_name": "ProgressStyleModel",
          "model_module_version": "1.5.0",
          "state": {
            "_model_module": "@jupyter-widgets/controls",
            "_model_module_version": "1.5.0",
            "_model_name": "ProgressStyleModel",
            "_view_count": null,
            "_view_module": "@jupyter-widgets/base",
            "_view_module_version": "1.2.0",
            "_view_name": "StyleView",
            "bar_color": null,
            "description_width": ""
          }
        },
        "eb4b6c33ba0a4a95b5deef9dea69b84f": {
          "model_module": "@jupyter-widgets/base",
          "model_name": "LayoutModel",
          "model_module_version": "1.2.0",
          "state": {
            "_model_module": "@jupyter-widgets/base",
            "_model_module_version": "1.2.0",
            "_model_name": "LayoutModel",
            "_view_count": null,
            "_view_module": "@jupyter-widgets/base",
            "_view_module_version": "1.2.0",
            "_view_name": "LayoutView",
            "align_content": null,
            "align_items": null,
            "align_self": null,
            "border": null,
            "bottom": null,
            "display": null,
            "flex": null,
            "flex_flow": null,
            "grid_area": null,
            "grid_auto_columns": null,
            "grid_auto_flow": null,
            "grid_auto_rows": null,
            "grid_column": null,
            "grid_gap": null,
            "grid_row": null,
            "grid_template_areas": null,
            "grid_template_columns": null,
            "grid_template_rows": null,
            "height": null,
            "justify_content": null,
            "justify_items": null,
            "left": null,
            "margin": null,
            "max_height": null,
            "max_width": null,
            "min_height": null,
            "min_width": null,
            "object_fit": null,
            "object_position": null,
            "order": null,
            "overflow": null,
            "overflow_x": null,
            "overflow_y": null,
            "padding": null,
            "right": null,
            "top": null,
            "visibility": null,
            "width": null
          }
        },
        "770e8ec3ea84446a8e974a0935b0db20": {
          "model_module": "@jupyter-widgets/controls",
          "model_name": "DescriptionStyleModel",
          "model_module_version": "1.5.0",
          "state": {
            "_model_module": "@jupyter-widgets/controls",
            "_model_module_version": "1.5.0",
            "_model_name": "DescriptionStyleModel",
            "_view_count": null,
            "_view_module": "@jupyter-widgets/base",
            "_view_module_version": "1.2.0",
            "_view_name": "StyleView",
            "description_width": ""
          }
        },
        "b8ed368c3c7e440db37088d109689611": {
          "model_module": "@jupyter-widgets/controls",
          "model_name": "HBoxModel",
          "model_module_version": "1.5.0",
          "state": {
            "_dom_classes": [],
            "_model_module": "@jupyter-widgets/controls",
            "_model_module_version": "1.5.0",
            "_model_name": "HBoxModel",
            "_view_count": null,
            "_view_module": "@jupyter-widgets/controls",
            "_view_module_version": "1.5.0",
            "_view_name": "HBoxView",
            "box_style": "",
            "children": [
              "IPY_MODEL_bb1756a59bcc4d778f63d538c42ffa02",
              "IPY_MODEL_0e378ee5eca54897b5c5182d60feab52",
              "IPY_MODEL_af73fbe9f3004add98edf9b15e379d45"
            ],
            "layout": "IPY_MODEL_fdb46875c65f4f45bb31b51deb512f99"
          }
        },
        "bb1756a59bcc4d778f63d538c42ffa02": {
          "model_module": "@jupyter-widgets/controls",
          "model_name": "HTMLModel",
          "model_module_version": "1.5.0",
          "state": {
            "_dom_classes": [],
            "_model_module": "@jupyter-widgets/controls",
            "_model_module_version": "1.5.0",
            "_model_name": "HTMLModel",
            "_view_count": null,
            "_view_module": "@jupyter-widgets/controls",
            "_view_module_version": "1.5.0",
            "_view_name": "HTMLView",
            "description": "",
            "description_tooltip": null,
            "layout": "IPY_MODEL_fb81b86bd9e443719edfd54bc9e79abb",
            "placeholder": "​",
            "style": "IPY_MODEL_14715f73613645b89ea598763223f0e2",
            "value": "tokenizer.json: 100%"
          }
        },
        "0e378ee5eca54897b5c5182d60feab52": {
          "model_module": "@jupyter-widgets/controls",
          "model_name": "FloatProgressModel",
          "model_module_version": "1.5.0",
          "state": {
            "_dom_classes": [],
            "_model_module": "@jupyter-widgets/controls",
            "_model_module_version": "1.5.0",
            "_model_name": "FloatProgressModel",
            "_view_count": null,
            "_view_module": "@jupyter-widgets/controls",
            "_view_module_version": "1.5.0",
            "_view_name": "ProgressView",
            "bar_style": "success",
            "description": "",
            "description_tooltip": null,
            "layout": "IPY_MODEL_0232b5f81bdf4e5eb2b11eecb3918d1c",
            "max": 9084581,
            "min": 0,
            "orientation": "horizontal",
            "style": "IPY_MODEL_67c2dff3925f4e9ca44e558fc3aad993",
            "value": 9084581
          }
        },
        "af73fbe9f3004add98edf9b15e379d45": {
          "model_module": "@jupyter-widgets/controls",
          "model_name": "HTMLModel",
          "model_module_version": "1.5.0",
          "state": {
            "_dom_classes": [],
            "_model_module": "@jupyter-widgets/controls",
            "_model_module_version": "1.5.0",
            "_model_name": "HTMLModel",
            "_view_count": null,
            "_view_module": "@jupyter-widgets/controls",
            "_view_module_version": "1.5.0",
            "_view_name": "HTMLView",
            "description": "",
            "description_tooltip": null,
            "layout": "IPY_MODEL_dc573de72b174e09a1508b932f72a184",
            "placeholder": "​",
            "style": "IPY_MODEL_cb61a1df57ce4d36995f8d430c2f70c6",
            "value": " 9.08M/9.08M [00:01&lt;00:00, 5.26MB/s]"
          }
        },
        "fdb46875c65f4f45bb31b51deb512f99": {
          "model_module": "@jupyter-widgets/base",
          "model_name": "LayoutModel",
          "model_module_version": "1.2.0",
          "state": {
            "_model_module": "@jupyter-widgets/base",
            "_model_module_version": "1.2.0",
            "_model_name": "LayoutModel",
            "_view_count": null,
            "_view_module": "@jupyter-widgets/base",
            "_view_module_version": "1.2.0",
            "_view_name": "LayoutView",
            "align_content": null,
            "align_items": null,
            "align_self": null,
            "border": null,
            "bottom": null,
            "display": null,
            "flex": null,
            "flex_flow": null,
            "grid_area": null,
            "grid_auto_columns": null,
            "grid_auto_flow": null,
            "grid_auto_rows": null,
            "grid_column": null,
            "grid_gap": null,
            "grid_row": null,
            "grid_template_areas": null,
            "grid_template_columns": null,
            "grid_template_rows": null,
            "height": null,
            "justify_content": null,
            "justify_items": null,
            "left": null,
            "margin": null,
            "max_height": null,
            "max_width": null,
            "min_height": null,
            "min_width": null,
            "object_fit": null,
            "object_position": null,
            "order": null,
            "overflow": null,
            "overflow_x": null,
            "overflow_y": null,
            "padding": null,
            "right": null,
            "top": null,
            "visibility": null,
            "width": null
          }
        },
        "fb81b86bd9e443719edfd54bc9e79abb": {
          "model_module": "@jupyter-widgets/base",
          "model_name": "LayoutModel",
          "model_module_version": "1.2.0",
          "state": {
            "_model_module": "@jupyter-widgets/base",
            "_model_module_version": "1.2.0",
            "_model_name": "LayoutModel",
            "_view_count": null,
            "_view_module": "@jupyter-widgets/base",
            "_view_module_version": "1.2.0",
            "_view_name": "LayoutView",
            "align_content": null,
            "align_items": null,
            "align_self": null,
            "border": null,
            "bottom": null,
            "display": null,
            "flex": null,
            "flex_flow": null,
            "grid_area": null,
            "grid_auto_columns": null,
            "grid_auto_flow": null,
            "grid_auto_rows": null,
            "grid_column": null,
            "grid_gap": null,
            "grid_row": null,
            "grid_template_areas": null,
            "grid_template_columns": null,
            "grid_template_rows": null,
            "height": null,
            "justify_content": null,
            "justify_items": null,
            "left": null,
            "margin": null,
            "max_height": null,
            "max_width": null,
            "min_height": null,
            "min_width": null,
            "object_fit": null,
            "object_position": null,
            "order": null,
            "overflow": null,
            "overflow_x": null,
            "overflow_y": null,
            "padding": null,
            "right": null,
            "top": null,
            "visibility": null,
            "width": null
          }
        },
        "14715f73613645b89ea598763223f0e2": {
          "model_module": "@jupyter-widgets/controls",
          "model_name": "DescriptionStyleModel",
          "model_module_version": "1.5.0",
          "state": {
            "_model_module": "@jupyter-widgets/controls",
            "_model_module_version": "1.5.0",
            "_model_name": "DescriptionStyleModel",
            "_view_count": null,
            "_view_module": "@jupyter-widgets/base",
            "_view_module_version": "1.2.0",
            "_view_name": "StyleView",
            "description_width": ""
          }
        },
        "0232b5f81bdf4e5eb2b11eecb3918d1c": {
          "model_module": "@jupyter-widgets/base",
          "model_name": "LayoutModel",
          "model_module_version": "1.2.0",
          "state": {
            "_model_module": "@jupyter-widgets/base",
            "_model_module_version": "1.2.0",
            "_model_name": "LayoutModel",
            "_view_count": null,
            "_view_module": "@jupyter-widgets/base",
            "_view_module_version": "1.2.0",
            "_view_name": "LayoutView",
            "align_content": null,
            "align_items": null,
            "align_self": null,
            "border": null,
            "bottom": null,
            "display": null,
            "flex": null,
            "flex_flow": null,
            "grid_area": null,
            "grid_auto_columns": null,
            "grid_auto_flow": null,
            "grid_auto_rows": null,
            "grid_column": null,
            "grid_gap": null,
            "grid_row": null,
            "grid_template_areas": null,
            "grid_template_columns": null,
            "grid_template_rows": null,
            "height": null,
            "justify_content": null,
            "justify_items": null,
            "left": null,
            "margin": null,
            "max_height": null,
            "max_width": null,
            "min_height": null,
            "min_width": null,
            "object_fit": null,
            "object_position": null,
            "order": null,
            "overflow": null,
            "overflow_x": null,
            "overflow_y": null,
            "padding": null,
            "right": null,
            "top": null,
            "visibility": null,
            "width": null
          }
        },
        "67c2dff3925f4e9ca44e558fc3aad993": {
          "model_module": "@jupyter-widgets/controls",
          "model_name": "ProgressStyleModel",
          "model_module_version": "1.5.0",
          "state": {
            "_model_module": "@jupyter-widgets/controls",
            "_model_module_version": "1.5.0",
            "_model_name": "ProgressStyleModel",
            "_view_count": null,
            "_view_module": "@jupyter-widgets/base",
            "_view_module_version": "1.2.0",
            "_view_name": "StyleView",
            "bar_color": null,
            "description_width": ""
          }
        },
        "dc573de72b174e09a1508b932f72a184": {
          "model_module": "@jupyter-widgets/base",
          "model_name": "LayoutModel",
          "model_module_version": "1.2.0",
          "state": {
            "_model_module": "@jupyter-widgets/base",
            "_model_module_version": "1.2.0",
            "_model_name": "LayoutModel",
            "_view_count": null,
            "_view_module": "@jupyter-widgets/base",
            "_view_module_version": "1.2.0",
            "_view_name": "LayoutView",
            "align_content": null,
            "align_items": null,
            "align_self": null,
            "border": null,
            "bottom": null,
            "display": null,
            "flex": null,
            "flex_flow": null,
            "grid_area": null,
            "grid_auto_columns": null,
            "grid_auto_flow": null,
            "grid_auto_rows": null,
            "grid_column": null,
            "grid_gap": null,
            "grid_row": null,
            "grid_template_areas": null,
            "grid_template_columns": null,
            "grid_template_rows": null,
            "height": null,
            "justify_content": null,
            "justify_items": null,
            "left": null,
            "margin": null,
            "max_height": null,
            "max_width": null,
            "min_height": null,
            "min_width": null,
            "object_fit": null,
            "object_position": null,
            "order": null,
            "overflow": null,
            "overflow_x": null,
            "overflow_y": null,
            "padding": null,
            "right": null,
            "top": null,
            "visibility": null,
            "width": null
          }
        },
        "cb61a1df57ce4d36995f8d430c2f70c6": {
          "model_module": "@jupyter-widgets/controls",
          "model_name": "DescriptionStyleModel",
          "model_module_version": "1.5.0",
          "state": {
            "_model_module": "@jupyter-widgets/controls",
            "_model_module_version": "1.5.0",
            "_model_name": "DescriptionStyleModel",
            "_view_count": null,
            "_view_module": "@jupyter-widgets/base",
            "_view_module_version": "1.2.0",
            "_view_name": "StyleView",
            "description_width": ""
          }
        },
        "8c14ca0bdb8448a097c5234c1131036a": {
          "model_module": "@jupyter-widgets/controls",
          "model_name": "HBoxModel",
          "model_module_version": "1.5.0",
          "state": {
            "_dom_classes": [],
            "_model_module": "@jupyter-widgets/controls",
            "_model_module_version": "1.5.0",
            "_model_name": "HBoxModel",
            "_view_count": null,
            "_view_module": "@jupyter-widgets/controls",
            "_view_module_version": "1.5.0",
            "_view_name": "HBoxView",
            "box_style": "",
            "children": [
              "IPY_MODEL_b60c90f748ba461689f3b842955c481f",
              "IPY_MODEL_078d587a93b8467ea2c0b1f0ed72f365",
              "IPY_MODEL_848e10e8fb5648db965b3b578444b2ab"
            ],
            "layout": "IPY_MODEL_f1ef8a234bae4540b8480abb35861ffb"
          }
        },
        "b60c90f748ba461689f3b842955c481f": {
          "model_module": "@jupyter-widgets/controls",
          "model_name": "HTMLModel",
          "model_module_version": "1.5.0",
          "state": {
            "_dom_classes": [],
            "_model_module": "@jupyter-widgets/controls",
            "_model_module_version": "1.5.0",
            "_model_name": "HTMLModel",
            "_view_count": null,
            "_view_module": "@jupyter-widgets/controls",
            "_view_module_version": "1.5.0",
            "_view_name": "HTMLView",
            "description": "",
            "description_tooltip": null,
            "layout": "IPY_MODEL_937cb7c473f843828663f74e1833c8e3",
            "placeholder": "​",
            "style": "IPY_MODEL_0dc79a2bf5324972b92bde4d10d66719",
            "value": "config.json: 100%"
          }
        },
        "078d587a93b8467ea2c0b1f0ed72f365": {
          "model_module": "@jupyter-widgets/controls",
          "model_name": "FloatProgressModel",
          "model_module_version": "1.5.0",
          "state": {
            "_dom_classes": [],
            "_model_module": "@jupyter-widgets/controls",
            "_model_module_version": "1.5.0",
            "_model_name": "FloatProgressModel",
            "_view_count": null,
            "_view_module": "@jupyter-widgets/controls",
            "_view_module_version": "1.5.0",
            "_view_name": "ProgressView",
            "bar_style": "success",
            "description": "",
            "description_tooltip": null,
            "layout": "IPY_MODEL_11f8dcaa84e94e28abde36a3a6f66d85",
            "max": 1427,
            "min": 0,
            "orientation": "horizontal",
            "style": "IPY_MODEL_71f47dbd9049405aba6e4fb5d39b42d5",
            "value": 1427
          }
        },
        "848e10e8fb5648db965b3b578444b2ab": {
          "model_module": "@jupyter-widgets/controls",
          "model_name": "HTMLModel",
          "model_module_version": "1.5.0",
          "state": {
            "_dom_classes": [],
            "_model_module": "@jupyter-widgets/controls",
            "_model_module_version": "1.5.0",
            "_model_name": "HTMLModel",
            "_view_count": null,
            "_view_module": "@jupyter-widgets/controls",
            "_view_module_version": "1.5.0",
            "_view_name": "HTMLView",
            "description": "",
            "description_tooltip": null,
            "layout": "IPY_MODEL_4fd43572dc484619af5a769914770a0e",
            "placeholder": "​",
            "style": "IPY_MODEL_4e55814b03de4b8e9e5eec61e2f581af",
            "value": " 1.43k/1.43k [00:00&lt;00:00, 110kB/s]"
          }
        },
        "f1ef8a234bae4540b8480abb35861ffb": {
          "model_module": "@jupyter-widgets/base",
          "model_name": "LayoutModel",
          "model_module_version": "1.2.0",
          "state": {
            "_model_module": "@jupyter-widgets/base",
            "_model_module_version": "1.2.0",
            "_model_name": "LayoutModel",
            "_view_count": null,
            "_view_module": "@jupyter-widgets/base",
            "_view_module_version": "1.2.0",
            "_view_name": "LayoutView",
            "align_content": null,
            "align_items": null,
            "align_self": null,
            "border": null,
            "bottom": null,
            "display": null,
            "flex": null,
            "flex_flow": null,
            "grid_area": null,
            "grid_auto_columns": null,
            "grid_auto_flow": null,
            "grid_auto_rows": null,
            "grid_column": null,
            "grid_gap": null,
            "grid_row": null,
            "grid_template_areas": null,
            "grid_template_columns": null,
            "grid_template_rows": null,
            "height": null,
            "justify_content": null,
            "justify_items": null,
            "left": null,
            "margin": null,
            "max_height": null,
            "max_width": null,
            "min_height": null,
            "min_width": null,
            "object_fit": null,
            "object_position": null,
            "order": null,
            "overflow": null,
            "overflow_x": null,
            "overflow_y": null,
            "padding": null,
            "right": null,
            "top": null,
            "visibility": null,
            "width": null
          }
        },
        "937cb7c473f843828663f74e1833c8e3": {
          "model_module": "@jupyter-widgets/base",
          "model_name": "LayoutModel",
          "model_module_version": "1.2.0",
          "state": {
            "_model_module": "@jupyter-widgets/base",
            "_model_module_version": "1.2.0",
            "_model_name": "LayoutModel",
            "_view_count": null,
            "_view_module": "@jupyter-widgets/base",
            "_view_module_version": "1.2.0",
            "_view_name": "LayoutView",
            "align_content": null,
            "align_items": null,
            "align_self": null,
            "border": null,
            "bottom": null,
            "display": null,
            "flex": null,
            "flex_flow": null,
            "grid_area": null,
            "grid_auto_columns": null,
            "grid_auto_flow": null,
            "grid_auto_rows": null,
            "grid_column": null,
            "grid_gap": null,
            "grid_row": null,
            "grid_template_areas": null,
            "grid_template_columns": null,
            "grid_template_rows": null,
            "height": null,
            "justify_content": null,
            "justify_items": null,
            "left": null,
            "margin": null,
            "max_height": null,
            "max_width": null,
            "min_height": null,
            "min_width": null,
            "object_fit": null,
            "object_position": null,
            "order": null,
            "overflow": null,
            "overflow_x": null,
            "overflow_y": null,
            "padding": null,
            "right": null,
            "top": null,
            "visibility": null,
            "width": null
          }
        },
        "0dc79a2bf5324972b92bde4d10d66719": {
          "model_module": "@jupyter-widgets/controls",
          "model_name": "DescriptionStyleModel",
          "model_module_version": "1.5.0",
          "state": {
            "_model_module": "@jupyter-widgets/controls",
            "_model_module_version": "1.5.0",
            "_model_name": "DescriptionStyleModel",
            "_view_count": null,
            "_view_module": "@jupyter-widgets/base",
            "_view_module_version": "1.2.0",
            "_view_name": "StyleView",
            "description_width": ""
          }
        },
        "11f8dcaa84e94e28abde36a3a6f66d85": {
          "model_module": "@jupyter-widgets/base",
          "model_name": "LayoutModel",
          "model_module_version": "1.2.0",
          "state": {
            "_model_module": "@jupyter-widgets/base",
            "_model_module_version": "1.2.0",
            "_model_name": "LayoutModel",
            "_view_count": null,
            "_view_module": "@jupyter-widgets/base",
            "_view_module_version": "1.2.0",
            "_view_name": "LayoutView",
            "align_content": null,
            "align_items": null,
            "align_self": null,
            "border": null,
            "bottom": null,
            "display": null,
            "flex": null,
            "flex_flow": null,
            "grid_area": null,
            "grid_auto_columns": null,
            "grid_auto_flow": null,
            "grid_auto_rows": null,
            "grid_column": null,
            "grid_gap": null,
            "grid_row": null,
            "grid_template_areas": null,
            "grid_template_columns": null,
            "grid_template_rows": null,
            "height": null,
            "justify_content": null,
            "justify_items": null,
            "left": null,
            "margin": null,
            "max_height": null,
            "max_width": null,
            "min_height": null,
            "min_width": null,
            "object_fit": null,
            "object_position": null,
            "order": null,
            "overflow": null,
            "overflow_x": null,
            "overflow_y": null,
            "padding": null,
            "right": null,
            "top": null,
            "visibility": null,
            "width": null
          }
        },
        "71f47dbd9049405aba6e4fb5d39b42d5": {
          "model_module": "@jupyter-widgets/controls",
          "model_name": "ProgressStyleModel",
          "model_module_version": "1.5.0",
          "state": {
            "_model_module": "@jupyter-widgets/controls",
            "_model_module_version": "1.5.0",
            "_model_name": "ProgressStyleModel",
            "_view_count": null,
            "_view_module": "@jupyter-widgets/base",
            "_view_module_version": "1.2.0",
            "_view_name": "StyleView",
            "bar_color": null,
            "description_width": ""
          }
        },
        "4fd43572dc484619af5a769914770a0e": {
          "model_module": "@jupyter-widgets/base",
          "model_name": "LayoutModel",
          "model_module_version": "1.2.0",
          "state": {
            "_model_module": "@jupyter-widgets/base",
            "_model_module_version": "1.2.0",
            "_model_name": "LayoutModel",
            "_view_count": null,
            "_view_module": "@jupyter-widgets/base",
            "_view_module_version": "1.2.0",
            "_view_name": "LayoutView",
            "align_content": null,
            "align_items": null,
            "align_self": null,
            "border": null,
            "bottom": null,
            "display": null,
            "flex": null,
            "flex_flow": null,
            "grid_area": null,
            "grid_auto_columns": null,
            "grid_auto_flow": null,
            "grid_auto_rows": null,
            "grid_column": null,
            "grid_gap": null,
            "grid_row": null,
            "grid_template_areas": null,
            "grid_template_columns": null,
            "grid_template_rows": null,
            "height": null,
            "justify_content": null,
            "justify_items": null,
            "left": null,
            "margin": null,
            "max_height": null,
            "max_width": null,
            "min_height": null,
            "min_width": null,
            "object_fit": null,
            "object_position": null,
            "order": null,
            "overflow": null,
            "overflow_x": null,
            "overflow_y": null,
            "padding": null,
            "right": null,
            "top": null,
            "visibility": null,
            "width": null
          }
        },
        "4e55814b03de4b8e9e5eec61e2f581af": {
          "model_module": "@jupyter-widgets/controls",
          "model_name": "DescriptionStyleModel",
          "model_module_version": "1.5.0",
          "state": {
            "_model_module": "@jupyter-widgets/controls",
            "_model_module_version": "1.5.0",
            "_model_name": "DescriptionStyleModel",
            "_view_count": null,
            "_view_module": "@jupyter-widgets/base",
            "_view_module_version": "1.2.0",
            "_view_name": "StyleView",
            "description_width": ""
          }
        },
        "0101c333417d47c1b1df7cb142dd6012": {
          "model_module": "@jupyter-widgets/controls",
          "model_name": "HBoxModel",
          "model_module_version": "1.5.0",
          "state": {
            "_dom_classes": [],
            "_model_module": "@jupyter-widgets/controls",
            "_model_module_version": "1.5.0",
            "_model_name": "HBoxModel",
            "_view_count": null,
            "_view_module": "@jupyter-widgets/controls",
            "_view_module_version": "1.5.0",
            "_view_name": "HBoxView",
            "box_style": "",
            "children": [
              "IPY_MODEL_2ab9251f189f479f891aa41028b51731",
              "IPY_MODEL_866e6b241ae74ad695625c565d4ecab8",
              "IPY_MODEL_25deda9b9ed54e52a8832c5a79210069"
            ],
            "layout": "IPY_MODEL_b434e25207c241d29c9431280451ad43"
          }
        },
        "2ab9251f189f479f891aa41028b51731": {
          "model_module": "@jupyter-widgets/controls",
          "model_name": "HTMLModel",
          "model_module_version": "1.5.0",
          "state": {
            "_dom_classes": [],
            "_model_module": "@jupyter-widgets/controls",
            "_model_module_version": "1.5.0",
            "_model_name": "HTMLModel",
            "_view_count": null,
            "_view_module": "@jupyter-widgets/controls",
            "_view_module_version": "1.5.0",
            "_view_name": "HTMLView",
            "description": "",
            "description_tooltip": null,
            "layout": "IPY_MODEL_8f24f595ecce4b8b930bcecb14cb7e33",
            "placeholder": "​",
            "style": "IPY_MODEL_26e9345f99904ddd82044ab5d0749e70",
            "value": "model.safetensors: 100%"
          }
        },
        "866e6b241ae74ad695625c565d4ecab8": {
          "model_module": "@jupyter-widgets/controls",
          "model_name": "FloatProgressModel",
          "model_module_version": "1.5.0",
          "state": {
            "_dom_classes": [],
            "_model_module": "@jupyter-widgets/controls",
            "_model_module_version": "1.5.0",
            "_model_name": "FloatProgressModel",
            "_view_count": null,
            "_view_module": "@jupyter-widgets/controls",
            "_view_module_version": "1.5.0",
            "_view_name": "ProgressView",
            "bar_style": "success",
            "description": "",
            "description_tooltip": null,
            "layout": "IPY_MODEL_d64d7e99e84947bd856224225bc71ae1",
            "max": 2444467988,
            "min": 0,
            "orientation": "horizontal",
            "style": "IPY_MODEL_7e0d003b0ae94f9a8ec72225869bce4b",
            "value": 2444467988
          }
        },
        "25deda9b9ed54e52a8832c5a79210069": {
          "model_module": "@jupyter-widgets/controls",
          "model_name": "HTMLModel",
          "model_module_version": "1.5.0",
          "state": {
            "_dom_classes": [],
            "_model_module": "@jupyter-widgets/controls",
            "_model_module_version": "1.5.0",
            "_model_name": "HTMLModel",
            "_view_count": null,
            "_view_module": "@jupyter-widgets/controls",
            "_view_module_version": "1.5.0",
            "_view_name": "HTMLView",
            "description": "",
            "description_tooltip": null,
            "layout": "IPY_MODEL_efaf2b984b874a7eac018ffd0c04a61b",
            "placeholder": "​",
            "style": "IPY_MODEL_3c10d0b490a54116b18f2b03748530ae",
            "value": " 2.44G/2.44G [08:40&lt;00:00, 3.01MB/s]"
          }
        },
        "b434e25207c241d29c9431280451ad43": {
          "model_module": "@jupyter-widgets/base",
          "model_name": "LayoutModel",
          "model_module_version": "1.2.0",
          "state": {
            "_model_module": "@jupyter-widgets/base",
            "_model_module_version": "1.2.0",
            "_model_name": "LayoutModel",
            "_view_count": null,
            "_view_module": "@jupyter-widgets/base",
            "_view_module_version": "1.2.0",
            "_view_name": "LayoutView",
            "align_content": null,
            "align_items": null,
            "align_self": null,
            "border": null,
            "bottom": null,
            "display": null,
            "flex": null,
            "flex_flow": null,
            "grid_area": null,
            "grid_auto_columns": null,
            "grid_auto_flow": null,
            "grid_auto_rows": null,
            "grid_column": null,
            "grid_gap": null,
            "grid_row": null,
            "grid_template_areas": null,
            "grid_template_columns": null,
            "grid_template_rows": null,
            "height": null,
            "justify_content": null,
            "justify_items": null,
            "left": null,
            "margin": null,
            "max_height": null,
            "max_width": null,
            "min_height": null,
            "min_width": null,
            "object_fit": null,
            "object_position": null,
            "order": null,
            "overflow": null,
            "overflow_x": null,
            "overflow_y": null,
            "padding": null,
            "right": null,
            "top": null,
            "visibility": null,
            "width": null
          }
        },
        "8f24f595ecce4b8b930bcecb14cb7e33": {
          "model_module": "@jupyter-widgets/base",
          "model_name": "LayoutModel",
          "model_module_version": "1.2.0",
          "state": {
            "_model_module": "@jupyter-widgets/base",
            "_model_module_version": "1.2.0",
            "_model_name": "LayoutModel",
            "_view_count": null,
            "_view_module": "@jupyter-widgets/base",
            "_view_module_version": "1.2.0",
            "_view_name": "LayoutView",
            "align_content": null,
            "align_items": null,
            "align_self": null,
            "border": null,
            "bottom": null,
            "display": null,
            "flex": null,
            "flex_flow": null,
            "grid_area": null,
            "grid_auto_columns": null,
            "grid_auto_flow": null,
            "grid_auto_rows": null,
            "grid_column": null,
            "grid_gap": null,
            "grid_row": null,
            "grid_template_areas": null,
            "grid_template_columns": null,
            "grid_template_rows": null,
            "height": null,
            "justify_content": null,
            "justify_items": null,
            "left": null,
            "margin": null,
            "max_height": null,
            "max_width": null,
            "min_height": null,
            "min_width": null,
            "object_fit": null,
            "object_position": null,
            "order": null,
            "overflow": null,
            "overflow_x": null,
            "overflow_y": null,
            "padding": null,
            "right": null,
            "top": null,
            "visibility": null,
            "width": null
          }
        },
        "26e9345f99904ddd82044ab5d0749e70": {
          "model_module": "@jupyter-widgets/controls",
          "model_name": "DescriptionStyleModel",
          "model_module_version": "1.5.0",
          "state": {
            "_model_module": "@jupyter-widgets/controls",
            "_model_module_version": "1.5.0",
            "_model_name": "DescriptionStyleModel",
            "_view_count": null,
            "_view_module": "@jupyter-widgets/base",
            "_view_module_version": "1.2.0",
            "_view_name": "StyleView",
            "description_width": ""
          }
        },
        "d64d7e99e84947bd856224225bc71ae1": {
          "model_module": "@jupyter-widgets/base",
          "model_name": "LayoutModel",
          "model_module_version": "1.2.0",
          "state": {
            "_model_module": "@jupyter-widgets/base",
            "_model_module_version": "1.2.0",
            "_model_name": "LayoutModel",
            "_view_count": null,
            "_view_module": "@jupyter-widgets/base",
            "_view_module_version": "1.2.0",
            "_view_name": "LayoutView",
            "align_content": null,
            "align_items": null,
            "align_self": null,
            "border": null,
            "bottom": null,
            "display": null,
            "flex": null,
            "flex_flow": null,
            "grid_area": null,
            "grid_auto_columns": null,
            "grid_auto_flow": null,
            "grid_auto_rows": null,
            "grid_column": null,
            "grid_gap": null,
            "grid_row": null,
            "grid_template_areas": null,
            "grid_template_columns": null,
            "grid_template_rows": null,
            "height": null,
            "justify_content": null,
            "justify_items": null,
            "left": null,
            "margin": null,
            "max_height": null,
            "max_width": null,
            "min_height": null,
            "min_width": null,
            "object_fit": null,
            "object_position": null,
            "order": null,
            "overflow": null,
            "overflow_x": null,
            "overflow_y": null,
            "padding": null,
            "right": null,
            "top": null,
            "visibility": null,
            "width": null
          }
        },
        "7e0d003b0ae94f9a8ec72225869bce4b": {
          "model_module": "@jupyter-widgets/controls",
          "model_name": "ProgressStyleModel",
          "model_module_version": "1.5.0",
          "state": {
            "_model_module": "@jupyter-widgets/controls",
            "_model_module_version": "1.5.0",
            "_model_name": "ProgressStyleModel",
            "_view_count": null,
            "_view_module": "@jupyter-widgets/base",
            "_view_module_version": "1.2.0",
            "_view_name": "StyleView",
            "bar_color": null,
            "description_width": ""
          }
        },
        "efaf2b984b874a7eac018ffd0c04a61b": {
          "model_module": "@jupyter-widgets/base",
          "model_name": "LayoutModel",
          "model_module_version": "1.2.0",
          "state": {
            "_model_module": "@jupyter-widgets/base",
            "_model_module_version": "1.2.0",
            "_model_name": "LayoutModel",
            "_view_count": null,
            "_view_module": "@jupyter-widgets/base",
            "_view_module_version": "1.2.0",
            "_view_name": "LayoutView",
            "align_content": null,
            "align_items": null,
            "align_self": null,
            "border": null,
            "bottom": null,
            "display": null,
            "flex": null,
            "flex_flow": null,
            "grid_area": null,
            "grid_auto_columns": null,
            "grid_auto_flow": null,
            "grid_auto_rows": null,
            "grid_column": null,
            "grid_gap": null,
            "grid_row": null,
            "grid_template_areas": null,
            "grid_template_columns": null,
            "grid_template_rows": null,
            "height": null,
            "justify_content": null,
            "justify_items": null,
            "left": null,
            "margin": null,
            "max_height": null,
            "max_width": null,
            "min_height": null,
            "min_width": null,
            "object_fit": null,
            "object_position": null,
            "order": null,
            "overflow": null,
            "overflow_x": null,
            "overflow_y": null,
            "padding": null,
            "right": null,
            "top": null,
            "visibility": null,
            "width": null
          }
        },
        "3c10d0b490a54116b18f2b03748530ae": {
          "model_module": "@jupyter-widgets/controls",
          "model_name": "DescriptionStyleModel",
          "model_module_version": "1.5.0",
          "state": {
            "_model_module": "@jupyter-widgets/controls",
            "_model_module_version": "1.5.0",
            "_model_name": "DescriptionStyleModel",
            "_view_count": null,
            "_view_module": "@jupyter-widgets/base",
            "_view_module_version": "1.2.0",
            "_view_name": "StyleView",
            "description_width": ""
          }
        }
      }
    }
  },
  "nbformat": 4,
  "nbformat_minor": 0
}